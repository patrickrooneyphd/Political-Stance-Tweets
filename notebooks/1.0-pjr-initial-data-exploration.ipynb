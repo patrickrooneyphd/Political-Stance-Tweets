{
 "cells": [
  {
   "cell_type": "code",
   "execution_count": 48,
   "metadata": {},
   "outputs": [
    {
     "name": "stdout",
     "output_type": "stream",
     "text": [
      "Current Working Directory: /Users/pjrooney/Dropbox/Rotman/Research/_Dissertation/PoliticalStancesAndStrategy/5_Data/4_F100Tweets/Political Stance Tweets/notebooks\n",
      "Changed Directory: /Users/pjrooney/Dropbox/Rotman/Research/_Dissertation/PoliticalStancesAndStrategy/5_Data/4_F100Tweets/Political Stance Tweets\n",
      "Directory Changed\n",
      "New Working Directory: /Users/pjrooney/Dropbox/Rotman/Research/_Dissertation/PoliticalStancesAndStrategy/5_Data/4_F100Tweets/Political Stance Tweets/data\n",
      "Current Working Directory: /Users/pjrooney/Dropbox/Rotman/Research/_Dissertation/PoliticalStancesAndStrategy/5_Data/4_F100Tweets/Political Stance Tweets/data\n",
      "Changed Directory: /Users/pjrooney/Dropbox/Rotman/Research/_Dissertation/PoliticalStancesAndStrategy/5_Data/4_F100Tweets/Political Stance Tweets\n",
      "Directory Changed\n",
      "New Working Directory: /Users/pjrooney/Dropbox/Rotman/Research/_Dissertation/PoliticalStancesAndStrategy/5_Data/4_F100Tweets/Political Stance Tweets/notebooks\n"
     ]
    },
    {
     "data": {
      "text/plain": [
       "\"\\nos.chdir('..')\\nprint(os.getcwd())\\nnote_dir = os.path.join(os.getcwd() + '/notebooks')\\nos.chdir(note_dir)\\nprint(os.getcwd())\\n\\n\""
      ]
     },
     "execution_count": 48,
     "metadata": {},
     "output_type": "execute_result"
    }
   ],
   "source": [
    "import sys\n",
    "assert sys.version_info >= (3, 5)\n",
    "\n",
    "import pandas as pd\n",
    "import numpy as np\n",
    "import os\n",
    "\n",
    "# Import Matplotlib and Seaborn\n",
    "%matplotlib inline\n",
    "import matplotlib as mpl\n",
    "import matplotlib.pyplot as plt\n",
    "mpl.rc('axes', labelsize=14)\n",
    "mpl.rc('xtick', labelsize=12)\n",
    "mpl.rc('ytick', labelsize=12)\n",
    "\n",
    "import seaborn as sns\n",
    "\n",
    "##  A few useful functions and setup items\n",
    "# Changing directories\n",
    "def change_dir(num_steps_back='..', path_ext):\n",
    "    \"\"\"\n",
    "    :param path_ext: the desired path within project root folder (e.g., src, data)\n",
    "    :return: (none)\n",
    "    \"\"\"\n",
    "    print('Old Working Directory: ' + os.getcwd())\n",
    "    os.chdir(num_steps_back)\n",
    "    if not os.path.isdir(os.getcwd() + path_ext):\n",
    "        os.makedirs(os.getcwd() + path_ext)\n",
    "    new_dir = os.path.join(os.getcwd() + path_ext)\n",
    "    os.chdir(new_dir)\n",
    "    print('      ')\n",
    "    print('New Working Directory: ' + os.getcwd())\n",
    "\n",
    "    \n",
    "# Saving images\n",
    "def save_image(fig_id, tight_layout=True, fig_extension=\"png\", resolution=300):\n",
    "    ch_dir('..', '/analysis/figures')\n",
    "    if tight_layout:\n",
    "        plt.tight_layout()\n",
    "    plt.savefig(fig_id, format=fig_extension, dpi=resolution)\n",
    "    ch_dir('...', '/notebooks')\n",
    "    "
   ]
  },
  {
   "cell_type": "code",
   "execution_count": 23,
   "metadata": {},
   "outputs": [],
   "source": [
    "# Change the directory to download the data and return to the notebooks folder.\n",
    "change_dir('/data')\n",
    "df = pd.read_csv('tweets_df_raw.csv')\n",
    "change_dir('/notebooks')"
   ]
  },
  {
   "cell_type": "code",
   "execution_count": 60,
   "metadata": {},
   "outputs": [],
   "source": [
    "df.head()\n",
    "df = df.drop(df.columns[0], 1) # Delete the \"Unnamed\" column, which is a duplicate of the index"
   ]
  },
  {
   "cell_type": "code",
   "execution_count": 61,
   "metadata": {},
   "outputs": [
    {
     "data": {
      "text/html": [
       "<div>\n",
       "<style scoped>\n",
       "    .dataframe tbody tr th:only-of-type {\n",
       "        vertical-align: middle;\n",
       "    }\n",
       "\n",
       "    .dataframe tbody tr th {\n",
       "        vertical-align: top;\n",
       "    }\n",
       "\n",
       "    .dataframe thead th {\n",
       "        text-align: right;\n",
       "    }\n",
       "</style>\n",
       "<table border=\"1\" class=\"dataframe\">\n",
       "  <thead>\n",
       "    <tr style=\"text-align: right;\">\n",
       "      <th></th>\n",
       "      <th>date</th>\n",
       "      <th>tweet_id</th>\n",
       "      <th>text</th>\n",
       "      <th>replies</th>\n",
       "      <th>retweets</th>\n",
       "      <th>likes</th>\n",
       "      <th>quotes</th>\n",
       "      <th>media</th>\n",
       "      <th>source_label</th>\n",
       "      <th>username</th>\n",
       "      <th>compustat_company</th>\n",
       "      <th>user_join_date</th>\n",
       "      <th>user_followers</th>\n",
       "      <th>user_friends</th>\n",
       "      <th>user_statuses</th>\n",
       "      <th>user_favorites</th>\n",
       "      <th>user_listed</th>\n",
       "      <th>user_media</th>\n",
       "    </tr>\n",
       "  </thead>\n",
       "  <tbody>\n",
       "    <tr>\n",
       "      <th>0</th>\n",
       "      <td>2020-06-12T00:17:58+00:00</td>\n",
       "      <td>1271235256918487040</td>\n",
       "      <td>An important update from @SusanWojcicki on how...</td>\n",
       "      <td>86</td>\n",
       "      <td>187</td>\n",
       "      <td>1689</td>\n",
       "      <td>14</td>\n",
       "      <td>NaN</td>\n",
       "      <td>Twitter Web App</td>\n",
       "      <td>sundarpichai</td>\n",
       "      <td>ALPHABET INC</td>\n",
       "      <td>2008-03-12T05:51:53+00:00</td>\n",
       "      <td>3374827</td>\n",
       "      <td>351</td>\n",
       "      <td>1483</td>\n",
       "      <td>892</td>\n",
       "      <td>0</td>\n",
       "      <td>111</td>\n",
       "    </tr>\n",
       "    <tr>\n",
       "      <th>1</th>\n",
       "      <td>2020-06-11T06:37:29+00:00</td>\n",
       "      <td>1270968380304941058</td>\n",
       "      <td>Proud that @GoogleCloud is partnering with @Te...</td>\n",
       "      <td>71</td>\n",
       "      <td>417</td>\n",
       "      <td>1937</td>\n",
       "      <td>47</td>\n",
       "      <td>NaN</td>\n",
       "      <td>Twitter Web App</td>\n",
       "      <td>sundarpichai</td>\n",
       "      <td>ALPHABET INC</td>\n",
       "      <td>2008-03-12T05:51:53+00:00</td>\n",
       "      <td>3374827</td>\n",
       "      <td>351</td>\n",
       "      <td>1483</td>\n",
       "      <td>892</td>\n",
       "      <td>0</td>\n",
       "      <td>111</td>\n",
       "    </tr>\n",
       "    <tr>\n",
       "      <th>2</th>\n",
       "      <td>2020-06-11T05:52:43+00:00</td>\n",
       "      <td>1270957112097570816</td>\n",
       "      <td>Also excited that in #Android11 we're making i...</td>\n",
       "      <td>89</td>\n",
       "      <td>408</td>\n",
       "      <td>3016</td>\n",
       "      <td>48</td>\n",
       "      <td>NaN</td>\n",
       "      <td>Twitter Web App</td>\n",
       "      <td>sundarpichai</td>\n",
       "      <td>ALPHABET INC</td>\n",
       "      <td>2008-03-12T05:51:53+00:00</td>\n",
       "      <td>3374827</td>\n",
       "      <td>351</td>\n",
       "      <td>1483</td>\n",
       "      <td>892</td>\n",
       "      <td>0</td>\n",
       "      <td>111</td>\n",
       "    </tr>\n",
       "    <tr>\n",
       "      <th>3</th>\n",
       "      <td>2020-06-11T05:44:05+00:00</td>\n",
       "      <td>1270954939309645824</td>\n",
       "      <td>Android 11 is now available in beta, with a fo...</td>\n",
       "      <td>152</td>\n",
       "      <td>709</td>\n",
       "      <td>5380</td>\n",
       "      <td>45</td>\n",
       "      <td>NaN</td>\n",
       "      <td>Twitter Web App</td>\n",
       "      <td>sundarpichai</td>\n",
       "      <td>ALPHABET INC</td>\n",
       "      <td>2008-03-12T05:51:53+00:00</td>\n",
       "      <td>3374827</td>\n",
       "      <td>351</td>\n",
       "      <td>1483</td>\n",
       "      <td>892</td>\n",
       "      <td>0</td>\n",
       "      <td>111</td>\n",
       "    </tr>\n",
       "    <tr>\n",
       "      <th>4</th>\n",
       "      <td>2020-05-31T14:03:32+00:00</td>\n",
       "      <td>1267094364976672768</td>\n",
       "      <td>Today on US Google &amp;amp; YouTube homepages we ...</td>\n",
       "      <td>1736</td>\n",
       "      <td>6366</td>\n",
       "      <td>38021</td>\n",
       "      <td>700</td>\n",
       "      <td>photo</td>\n",
       "      <td>Twitter Web App</td>\n",
       "      <td>sundarpichai</td>\n",
       "      <td>ALPHABET INC</td>\n",
       "      <td>2008-03-12T05:51:53+00:00</td>\n",
       "      <td>3374827</td>\n",
       "      <td>351</td>\n",
       "      <td>1483</td>\n",
       "      <td>892</td>\n",
       "      <td>0</td>\n",
       "      <td>111</td>\n",
       "    </tr>\n",
       "  </tbody>\n",
       "</table>\n",
       "</div>"
      ],
      "text/plain": [
       "                        date             tweet_id  \\\n",
       "0  2020-06-12T00:17:58+00:00  1271235256918487040   \n",
       "1  2020-06-11T06:37:29+00:00  1270968380304941058   \n",
       "2  2020-06-11T05:52:43+00:00  1270957112097570816   \n",
       "3  2020-06-11T05:44:05+00:00  1270954939309645824   \n",
       "4  2020-05-31T14:03:32+00:00  1267094364976672768   \n",
       "\n",
       "                                                text  replies  retweets  \\\n",
       "0  An important update from @SusanWojcicki on how...       86       187   \n",
       "1  Proud that @GoogleCloud is partnering with @Te...       71       417   \n",
       "2  Also excited that in #Android11 we're making i...       89       408   \n",
       "3  Android 11 is now available in beta, with a fo...      152       709   \n",
       "4  Today on US Google &amp; YouTube homepages we ...     1736      6366   \n",
       "\n",
       "   likes  quotes  media     source_label      username compustat_company  \\\n",
       "0   1689      14    NaN  Twitter Web App  sundarpichai      ALPHABET INC   \n",
       "1   1937      47    NaN  Twitter Web App  sundarpichai      ALPHABET INC   \n",
       "2   3016      48    NaN  Twitter Web App  sundarpichai      ALPHABET INC   \n",
       "3   5380      45    NaN  Twitter Web App  sundarpichai      ALPHABET INC   \n",
       "4  38021     700  photo  Twitter Web App  sundarpichai      ALPHABET INC   \n",
       "\n",
       "              user_join_date  user_followers  user_friends  user_statuses  \\\n",
       "0  2008-03-12T05:51:53+00:00         3374827           351           1483   \n",
       "1  2008-03-12T05:51:53+00:00         3374827           351           1483   \n",
       "2  2008-03-12T05:51:53+00:00         3374827           351           1483   \n",
       "3  2008-03-12T05:51:53+00:00         3374827           351           1483   \n",
       "4  2008-03-12T05:51:53+00:00         3374827           351           1483   \n",
       "\n",
       "   user_favorites  user_listed  user_media  \n",
       "0             892            0         111  \n",
       "1             892            0         111  \n",
       "2             892            0         111  \n",
       "3             892            0         111  \n",
       "4             892            0         111  "
      ]
     },
     "execution_count": 61,
     "metadata": {},
     "output_type": "execute_result"
    }
   ],
   "source": [
    "df.head()"
   ]
  },
  {
   "cell_type": "code",
   "execution_count": 46,
   "metadata": {},
   "outputs": [
    {
     "data": {
      "text/plain": [
       "Sprinklr                            15174\n",
       "SNAP101                              9272\n",
       "Lithium Tech.                        5916\n",
       "Salesforce - Social Studio           3682\n",
       "Conversocial                         2499\n",
       "Twitter Web App                      1474\n",
       "Khoros Marketing                     1203\n",
       "Sprinklr Publishing                   516\n",
       "Interactions Social Engage            308\n",
       "Twitter for Advertisers (legacy)      236\n",
       "Khoros                                235\n",
       "Sprinklr Publisher                    201\n",
       "Twitter for iPhone                    200\n",
       "Hootsuite Inc.                        146\n",
       "Clarabridge Engage                    133\n",
       "Twitter Media Studio                  101\n",
       "Astute Global                          45\n",
       "Sprout Social                          38\n",
       "Twitter Web Client                     37\n",
       "Twitter Ads                            31\n",
       "Twitter for iPad                       25\n",
       "Percolate                              19\n",
       "Liveworld Twitter Integration          18\n",
       "TweetDeck                              12\n",
       "Periscope                               6\n",
       "Twitter for Android                     3\n",
       "Name: source_label, dtype: int64"
      ]
     },
     "execution_count": 46,
     "metadata": {},
     "output_type": "execute_result"
    }
   ],
   "source": [
    "source_label = df['source_label'].value_counts()\n",
    "source_label"
   ]
  },
  {
   "cell_type": "code",
   "execution_count": 41,
   "metadata": {},
   "outputs": [
    {
     "name": "stdout",
     "output_type": "stream",
     "text": [
      "<class 'pandas.core.frame.DataFrame'>\n",
      "RangeIndex: 41530 entries, 0 to 41529\n",
      "Data columns (total 19 columns):\n",
      " #   Column             Non-Null Count  Dtype \n",
      "---  ------             --------------  ----- \n",
      " 0   Unnamed: 0         41530 non-null  int64 \n",
      " 1   date               41530 non-null  object\n",
      " 2   tweet_id           41530 non-null  int64 \n",
      " 3   text               41530 non-null  object\n",
      " 4   replies            41530 non-null  int64 \n",
      " 5   retweets           41530 non-null  int64 \n",
      " 6   likes              41530 non-null  int64 \n",
      " 7   quotes             41530 non-null  int64 \n",
      " 8   media              3432 non-null   object\n",
      " 9   source_label       41530 non-null  object\n",
      " 10  username           41530 non-null  object\n",
      " 11  compustat_company  41530 non-null  object\n",
      " 12  user_join_date     41530 non-null  object\n",
      " 13  user_followers     41530 non-null  int64 \n",
      " 14  user_friends       41530 non-null  int64 \n",
      " 15  user_statuses      41530 non-null  int64 \n",
      " 16  user_favorites     41530 non-null  int64 \n",
      " 17  user_listed        41530 non-null  int64 \n",
      " 18  user_media         41530 non-null  int64 \n",
      "dtypes: int64(12), object(7)\n",
      "memory usage: 6.0+ MB\n"
     ]
    }
   ],
   "source": [
    "df.info()"
   ]
  },
  {
   "cell_type": "code",
   "execution_count": 44,
   "metadata": {},
   "outputs": [
    {
     "data": {
      "image/png": "[encoded data removed]",
      "text/plain": [
       "<Figure size 1440x1080 with 12 Axes>"
      ]
     },
     "metadata": {
      "needs_background": "light"
     },
     "output_type": "display_data"
    }
   ],
   "source": [
    "%matplotlib inline\n",
    "import matplotlib.pyplot as plt\n",
    "df.hist(bins=10, figsize=(20,15))\n",
    "plt.show()"
   ]
  },
  {
   "cell_type": "code",
   "execution_count": 49,
   "metadata": {},
   "outputs": [],
   "source": []
  },
  {
   "cell_type": "code",
   "execution_count": 51,
   "metadata": {},
   "outputs": [
    {
     "name": "stdout",
     "output_type": "stream",
     "text": [
      "None\n"
     ]
    }
   ],
   "source": []
  },
  {
   "cell_type": "code",
   "execution_count": null,
   "metadata": {},
   "outputs": [],
   "source": []
  }
 ],
 "metadata": {
  "kernelspec": {
   "display_name": "Python 3",
   "language": "python",
   "name": "python3"
  },
  "language_info": {
   "codemirror_mode": {
    "name": "ipython",
    "version": 3
   },
   "file_extension": ".py",
   "mimetype": "text/x-python",
   "name": "python",
   "nbconvert_exporter": "python",
   "pygments_lexer": "ipython3",
   "version": "3.7.3"
  }
 },
 "nbformat": 4,
 "nbformat_minor": 4
}
