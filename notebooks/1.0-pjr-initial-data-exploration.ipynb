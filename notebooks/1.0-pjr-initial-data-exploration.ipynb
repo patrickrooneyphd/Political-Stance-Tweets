{
 "cells": [
  {
   "cell_type": "markdown",
   "metadata": {},
   "source": [
    "## Initial Data Analysis of the Unmatched, Unlabelled Tweets Data\n",
    "\n",
    "This analysis looks at trends within the sample of tweets scraped from Fortune 100 companies and associated CEO Twitter accounts +/- 3 weeks around May 25th, 2020. \n",
    "\n",
    "Future analyses will link Compustat data, which contain more CEO, company, and industry features.  \n",
    "    "
   ]
  },
  {
   "cell_type": "code",
   "execution_count": 147,
   "metadata": {},
   "outputs": [],
   "source": [
    "import sys\n",
    "assert sys.version_info >= (3, 5)\n",
    "\n",
    "import pandas as pd\n",
    "import numpy as np\n",
    "import datetime as dt\n",
    "import os\n",
    "\n",
    "# Import Matplotlib and Seaborn\n",
    "%matplotlib inline\n",
    "import matplotlib as mpl\n",
    "import matplotlib.pyplot as plt\n",
    "mpl.rc('axes', labelsize=14)\n",
    "mpl.rc('xtick', labelsize=12)\n",
    "mpl.rc('ytick', labelsize=12)\n",
    "\n",
    "import seaborn as sns\n",
    "\n",
    "##  A few useful functions and setup items\n",
    "# Changing directories\n",
    "def change_dir(num_steps_back, path_ext):\n",
    "    \"\"\"\n",
    "    :param num_steps_back: how many steps back up the dir you need (1 step represented as '.', 2 steps as '..', etc.)\n",
    "    :param path_ext: the desired path within project root folder (e.g., src, data)\n",
    "    :return: (none)\n",
    "    \"\"\"\n",
    "    print('Old Working Directory: ' + os.getcwd())\n",
    "    os.chdir(num_steps_back)\n",
    "    if not os.path.isdir(os.getcwd() + path_ext):\n",
    "        os.makedirs(os.getcwd() + path_ext)\n",
    "    new_dir = os.path.join(os.getcwd() + path_ext)\n",
    "    os.chdir(new_dir)\n",
    "    print('      ')\n",
    "    print('New Working Directory: ' + os.getcwd())\n",
    "\n",
    "    \n",
    "# Saving images\n",
    "def save_image(fig_id, tight_layout=True, fig_extension=\"png\", resolution=300):\n",
    "    ch_dir('..', '/analysis/figures')\n",
    "    if tight_layout:\n",
    "        plt.tight_layout()\n",
    "    plt.savefig(fig_id, format=fig_extension, dpi=resolution)\n",
    "    ch_dir('...', '/notebooks')"
   ]
  },
  {
   "cell_type": "code",
   "execution_count": 148,
   "metadata": {},
   "outputs": [
    {
     "name": "stdout",
     "output_type": "stream",
     "text": [
      "Old Working Directory: /Users/pjrooney/Dropbox/Rotman/Research/_Dissertation/PoliticalStancesAndStrategy/5_Data/4_F100Tweets/Political Stance Tweets/notebooks\n",
      "      \n",
      "New Working Directory: /Users/pjrooney/Dropbox/Rotman/Research/_Dissertation/PoliticalStancesAndStrategy/5_Data/4_F100Tweets/Political Stance Tweets/data\n",
      "Old Working Directory: /Users/pjrooney/Dropbox/Rotman/Research/_Dissertation/PoliticalStancesAndStrategy/5_Data/4_F100Tweets/Political Stance Tweets/data\n",
      "      \n",
      "New Working Directory: /Users/pjrooney/Dropbox/Rotman/Research/_Dissertation/PoliticalStancesAndStrategy/5_Data/4_F100Tweets/Political Stance Tweets/notebooks\n"
     ]
    }
   ],
   "source": [
    "# Change the directory to download the data and return to the notebooks folder.\n",
    "change_dir('..', '/data')\n",
    "df = pd.read_csv('tweets_df_raw.csv')\n",
    "change_dir('..', '/notebooks')"
   ]
  },
  {
   "cell_type": "code",
   "execution_count": 149,
   "metadata": {},
   "outputs": [],
   "source": [
    "df.head()\n",
    "df = df.drop(df.columns[0], 1) # Delete the \"Unnamed\" column, which is a duplicate of the index"
   ]
  },
  {
   "cell_type": "code",
   "execution_count": 150,
   "metadata": {},
   "outputs": [
    {
     "data": {
      "text/html": [
       "<div>\n",
       "<style scoped>\n",
       "    .dataframe tbody tr th:only-of-type {\n",
       "        vertical-align: middle;\n",
       "    }\n",
       "\n",
       "    .dataframe tbody tr th {\n",
       "        vertical-align: top;\n",
       "    }\n",
       "\n",
       "    .dataframe thead th {\n",
       "        text-align: right;\n",
       "    }\n",
       "</style>\n",
       "<table border=\"1\" class=\"dataframe\">\n",
       "  <thead>\n",
       "    <tr style=\"text-align: right;\">\n",
       "      <th></th>\n",
       "      <th>date</th>\n",
       "      <th>tweet_id</th>\n",
       "      <th>text</th>\n",
       "      <th>replies</th>\n",
       "      <th>retweets</th>\n",
       "      <th>likes</th>\n",
       "      <th>quotes</th>\n",
       "      <th>media</th>\n",
       "      <th>source_label</th>\n",
       "      <th>username</th>\n",
       "      <th>compustat_company</th>\n",
       "      <th>user_join_date</th>\n",
       "      <th>user_followers</th>\n",
       "      <th>user_friends</th>\n",
       "      <th>user_statuses</th>\n",
       "      <th>user_favorites</th>\n",
       "      <th>user_listed</th>\n",
       "      <th>user_media</th>\n",
       "    </tr>\n",
       "  </thead>\n",
       "  <tbody>\n",
       "    <tr>\n",
       "      <th>0</th>\n",
       "      <td>2020-06-12T00:17:58+00:00</td>\n",
       "      <td>1271235256918487040</td>\n",
       "      <td>An important update from @SusanWojcicki on how...</td>\n",
       "      <td>86</td>\n",
       "      <td>187</td>\n",
       "      <td>1689</td>\n",
       "      <td>14</td>\n",
       "      <td>NaN</td>\n",
       "      <td>Twitter Web App</td>\n",
       "      <td>sundarpichai</td>\n",
       "      <td>ALPHABET INC</td>\n",
       "      <td>2008-03-12T05:51:53+00:00</td>\n",
       "      <td>3374827</td>\n",
       "      <td>351</td>\n",
       "      <td>1483</td>\n",
       "      <td>892</td>\n",
       "      <td>0</td>\n",
       "      <td>111</td>\n",
       "    </tr>\n",
       "    <tr>\n",
       "      <th>1</th>\n",
       "      <td>2020-06-11T06:37:29+00:00</td>\n",
       "      <td>1270968380304941058</td>\n",
       "      <td>Proud that @GoogleCloud is partnering with @Te...</td>\n",
       "      <td>71</td>\n",
       "      <td>417</td>\n",
       "      <td>1937</td>\n",
       "      <td>47</td>\n",
       "      <td>NaN</td>\n",
       "      <td>Twitter Web App</td>\n",
       "      <td>sundarpichai</td>\n",
       "      <td>ALPHABET INC</td>\n",
       "      <td>2008-03-12T05:51:53+00:00</td>\n",
       "      <td>3374827</td>\n",
       "      <td>351</td>\n",
       "      <td>1483</td>\n",
       "      <td>892</td>\n",
       "      <td>0</td>\n",
       "      <td>111</td>\n",
       "    </tr>\n",
       "    <tr>\n",
       "      <th>2</th>\n",
       "      <td>2020-06-11T05:52:43+00:00</td>\n",
       "      <td>1270957112097570816</td>\n",
       "      <td>Also excited that in #Android11 we're making i...</td>\n",
       "      <td>89</td>\n",
       "      <td>408</td>\n",
       "      <td>3016</td>\n",
       "      <td>48</td>\n",
       "      <td>NaN</td>\n",
       "      <td>Twitter Web App</td>\n",
       "      <td>sundarpichai</td>\n",
       "      <td>ALPHABET INC</td>\n",
       "      <td>2008-03-12T05:51:53+00:00</td>\n",
       "      <td>3374827</td>\n",
       "      <td>351</td>\n",
       "      <td>1483</td>\n",
       "      <td>892</td>\n",
       "      <td>0</td>\n",
       "      <td>111</td>\n",
       "    </tr>\n",
       "    <tr>\n",
       "      <th>3</th>\n",
       "      <td>2020-06-11T05:44:05+00:00</td>\n",
       "      <td>1270954939309645824</td>\n",
       "      <td>Android 11 is now available in beta, with a fo...</td>\n",
       "      <td>152</td>\n",
       "      <td>709</td>\n",
       "      <td>5380</td>\n",
       "      <td>45</td>\n",
       "      <td>NaN</td>\n",
       "      <td>Twitter Web App</td>\n",
       "      <td>sundarpichai</td>\n",
       "      <td>ALPHABET INC</td>\n",
       "      <td>2008-03-12T05:51:53+00:00</td>\n",
       "      <td>3374827</td>\n",
       "      <td>351</td>\n",
       "      <td>1483</td>\n",
       "      <td>892</td>\n",
       "      <td>0</td>\n",
       "      <td>111</td>\n",
       "    </tr>\n",
       "    <tr>\n",
       "      <th>4</th>\n",
       "      <td>2020-05-31T14:03:32+00:00</td>\n",
       "      <td>1267094364976672768</td>\n",
       "      <td>Today on US Google &amp;amp; YouTube homepages we ...</td>\n",
       "      <td>1736</td>\n",
       "      <td>6366</td>\n",
       "      <td>38021</td>\n",
       "      <td>700</td>\n",
       "      <td>photo</td>\n",
       "      <td>Twitter Web App</td>\n",
       "      <td>sundarpichai</td>\n",
       "      <td>ALPHABET INC</td>\n",
       "      <td>2008-03-12T05:51:53+00:00</td>\n",
       "      <td>3374827</td>\n",
       "      <td>351</td>\n",
       "      <td>1483</td>\n",
       "      <td>892</td>\n",
       "      <td>0</td>\n",
       "      <td>111</td>\n",
       "    </tr>\n",
       "  </tbody>\n",
       "</table>\n",
       "</div>"
      ],
      "text/plain": [
       "                        date             tweet_id  \\\n",
       "0  2020-06-12T00:17:58+00:00  1271235256918487040   \n",
       "1  2020-06-11T06:37:29+00:00  1270968380304941058   \n",
       "2  2020-06-11T05:52:43+00:00  1270957112097570816   \n",
       "3  2020-06-11T05:44:05+00:00  1270954939309645824   \n",
       "4  2020-05-31T14:03:32+00:00  1267094364976672768   \n",
       "\n",
       "                                                text  replies  retweets  \\\n",
       "0  An important update from @SusanWojcicki on how...       86       187   \n",
       "1  Proud that @GoogleCloud is partnering with @Te...       71       417   \n",
       "2  Also excited that in #Android11 we're making i...       89       408   \n",
       "3  Android 11 is now available in beta, with a fo...      152       709   \n",
       "4  Today on US Google &amp; YouTube homepages we ...     1736      6366   \n",
       "\n",
       "   likes  quotes  media     source_label      username compustat_company  \\\n",
       "0   1689      14    NaN  Twitter Web App  sundarpichai      ALPHABET INC   \n",
       "1   1937      47    NaN  Twitter Web App  sundarpichai      ALPHABET INC   \n",
       "2   3016      48    NaN  Twitter Web App  sundarpichai      ALPHABET INC   \n",
       "3   5380      45    NaN  Twitter Web App  sundarpichai      ALPHABET INC   \n",
       "4  38021     700  photo  Twitter Web App  sundarpichai      ALPHABET INC   \n",
       "\n",
       "              user_join_date  user_followers  user_friends  user_statuses  \\\n",
       "0  2008-03-12T05:51:53+00:00         3374827           351           1483   \n",
       "1  2008-03-12T05:51:53+00:00         3374827           351           1483   \n",
       "2  2008-03-12T05:51:53+00:00         3374827           351           1483   \n",
       "3  2008-03-12T05:51:53+00:00         3374827           351           1483   \n",
       "4  2008-03-12T05:51:53+00:00         3374827           351           1483   \n",
       "\n",
       "   user_favorites  user_listed  user_media  \n",
       "0             892            0         111  \n",
       "1             892            0         111  \n",
       "2             892            0         111  \n",
       "3             892            0         111  \n",
       "4             892            0         111  "
      ]
     },
     "execution_count": 150,
     "metadata": {},
     "output_type": "execute_result"
    }
   ],
   "source": [
    "df.head()"
   ]
  },
  {
   "cell_type": "code",
   "execution_count": 151,
   "metadata": {},
   "outputs": [],
   "source": [
    "# Strip date and time information from original \"date\" feature\n",
    "df['date_'] = df.date.str[:10]\n",
    "df['utc_time'] = df.date.str[11:19]"
   ]
  },
  {
   "cell_type": "code",
   "execution_count": 152,
   "metadata": {},
   "outputs": [],
   "source": [
    "# Convert date and time to DateTime types"
   ]
  },
  {
   "cell_type": "code",
   "execution_count": 153,
   "metadata": {},
   "outputs": [],
   "source": [
    "df['date_'] = pd.to_datetime(df['date_'])\n",
    "df['event_date'] = '2020-05-25'\n",
    "df['event_date'] = pd.to_datetime(df['event_date'])\n",
    "df['date_'].fillna(0)\n",
    "df['event_date'].fillna(0)\n",
    "\n",
    "df['utc_time'] = pd.to_datetime(df['utc_time']).dt.strftime('%H%M%S')\n",
    "\n",
    "# Drop original date column, rename \"date_\" column as \"date\"\n",
    "df = df.drop(columns=['date'])\n",
    "df = df.rename(columns={'date_': 'date'})"
   ]
  },
  {
   "cell_type": "code",
   "execution_count": 154,
   "metadata": {},
   "outputs": [
    {
     "name": "stdout",
     "output_type": "stream",
     "text": [
      "<class 'pandas.core.frame.DataFrame'>\n",
      "RangeIndex: 41530 entries, 0 to 41529\n",
      "Data columns (total 20 columns):\n",
      " #   Column             Non-Null Count  Dtype         \n",
      "---  ------             --------------  -----         \n",
      " 0   tweet_id           41530 non-null  int64         \n",
      " 1   text               41530 non-null  object        \n",
      " 2   replies            41530 non-null  int64         \n",
      " 3   retweets           41530 non-null  int64         \n",
      " 4   likes              41530 non-null  int64         \n",
      " 5   quotes             41530 non-null  int64         \n",
      " 6   media              3432 non-null   object        \n",
      " 7   source_label       41530 non-null  object        \n",
      " 8   username           41530 non-null  object        \n",
      " 9   compustat_company  41530 non-null  object        \n",
      " 10  user_join_date     41530 non-null  object        \n",
      " 11  user_followers     41530 non-null  int64         \n",
      " 12  user_friends       41530 non-null  int64         \n",
      " 13  user_statuses      41530 non-null  int64         \n",
      " 14  user_favorites     41530 non-null  int64         \n",
      " 15  user_listed        41530 non-null  int64         \n",
      " 16  user_media         41530 non-null  int64         \n",
      " 17  date               41530 non-null  datetime64[ns]\n",
      " 18  utc_time           41530 non-null  object        \n",
      " 19  event_date         41530 non-null  datetime64[ns]\n",
      "dtypes: datetime64[ns](2), int64(11), object(7)\n",
      "memory usage: 6.3+ MB\n"
     ]
    }
   ],
   "source": [
    "df.info()"
   ]
  },
  {
   "cell_type": "code",
   "execution_count": 156,
   "metadata": {},
   "outputs": [],
   "source": [
    "df['days_from_event'] = (df['date'] - df['event_date']).dt.days"
   ]
  },
  {
   "cell_type": "code",
   "execution_count": 157,
   "metadata": {},
   "outputs": [
    {
     "data": {
      "text/html": [
       "<div>\n",
       "<style scoped>\n",
       "    .dataframe tbody tr th:only-of-type {\n",
       "        vertical-align: middle;\n",
       "    }\n",
       "\n",
       "    .dataframe tbody tr th {\n",
       "        vertical-align: top;\n",
       "    }\n",
       "\n",
       "    .dataframe thead th {\n",
       "        text-align: right;\n",
       "    }\n",
       "</style>\n",
       "<table border=\"1\" class=\"dataframe\">\n",
       "  <thead>\n",
       "    <tr style=\"text-align: right;\">\n",
       "      <th></th>\n",
       "      <th>tweet_id</th>\n",
       "      <th>text</th>\n",
       "      <th>replies</th>\n",
       "      <th>retweets</th>\n",
       "      <th>likes</th>\n",
       "      <th>quotes</th>\n",
       "      <th>media</th>\n",
       "      <th>source_label</th>\n",
       "      <th>username</th>\n",
       "      <th>compustat_company</th>\n",
       "      <th>...</th>\n",
       "      <th>user_followers</th>\n",
       "      <th>user_friends</th>\n",
       "      <th>user_statuses</th>\n",
       "      <th>user_favorites</th>\n",
       "      <th>user_listed</th>\n",
       "      <th>user_media</th>\n",
       "      <th>date</th>\n",
       "      <th>utc_time</th>\n",
       "      <th>event_date</th>\n",
       "      <th>days_from_event</th>\n",
       "    </tr>\n",
       "  </thead>\n",
       "  <tbody>\n",
       "    <tr>\n",
       "      <th>0</th>\n",
       "      <td>1271235256918487040</td>\n",
       "      <td>An important update from @SusanWojcicki on how...</td>\n",
       "      <td>86</td>\n",
       "      <td>187</td>\n",
       "      <td>1689</td>\n",
       "      <td>14</td>\n",
       "      <td>NaN</td>\n",
       "      <td>Twitter Web App</td>\n",
       "      <td>sundarpichai</td>\n",
       "      <td>ALPHABET INC</td>\n",
       "      <td>...</td>\n",
       "      <td>3374827</td>\n",
       "      <td>351</td>\n",
       "      <td>1483</td>\n",
       "      <td>892</td>\n",
       "      <td>0</td>\n",
       "      <td>111</td>\n",
       "      <td>2020-06-12</td>\n",
       "      <td>001758</td>\n",
       "      <td>2020-05-25</td>\n",
       "      <td>18</td>\n",
       "    </tr>\n",
       "    <tr>\n",
       "      <th>1</th>\n",
       "      <td>1270968380304941058</td>\n",
       "      <td>Proud that @GoogleCloud is partnering with @Te...</td>\n",
       "      <td>71</td>\n",
       "      <td>417</td>\n",
       "      <td>1937</td>\n",
       "      <td>47</td>\n",
       "      <td>NaN</td>\n",
       "      <td>Twitter Web App</td>\n",
       "      <td>sundarpichai</td>\n",
       "      <td>ALPHABET INC</td>\n",
       "      <td>...</td>\n",
       "      <td>3374827</td>\n",
       "      <td>351</td>\n",
       "      <td>1483</td>\n",
       "      <td>892</td>\n",
       "      <td>0</td>\n",
       "      <td>111</td>\n",
       "      <td>2020-06-11</td>\n",
       "      <td>063729</td>\n",
       "      <td>2020-05-25</td>\n",
       "      <td>17</td>\n",
       "    </tr>\n",
       "    <tr>\n",
       "      <th>2</th>\n",
       "      <td>1270957112097570816</td>\n",
       "      <td>Also excited that in #Android11 we're making i...</td>\n",
       "      <td>89</td>\n",
       "      <td>408</td>\n",
       "      <td>3016</td>\n",
       "      <td>48</td>\n",
       "      <td>NaN</td>\n",
       "      <td>Twitter Web App</td>\n",
       "      <td>sundarpichai</td>\n",
       "      <td>ALPHABET INC</td>\n",
       "      <td>...</td>\n",
       "      <td>3374827</td>\n",
       "      <td>351</td>\n",
       "      <td>1483</td>\n",
       "      <td>892</td>\n",
       "      <td>0</td>\n",
       "      <td>111</td>\n",
       "      <td>2020-06-11</td>\n",
       "      <td>055243</td>\n",
       "      <td>2020-05-25</td>\n",
       "      <td>17</td>\n",
       "    </tr>\n",
       "    <tr>\n",
       "      <th>3</th>\n",
       "      <td>1270954939309645824</td>\n",
       "      <td>Android 11 is now available in beta, with a fo...</td>\n",
       "      <td>152</td>\n",
       "      <td>709</td>\n",
       "      <td>5380</td>\n",
       "      <td>45</td>\n",
       "      <td>NaN</td>\n",
       "      <td>Twitter Web App</td>\n",
       "      <td>sundarpichai</td>\n",
       "      <td>ALPHABET INC</td>\n",
       "      <td>...</td>\n",
       "      <td>3374827</td>\n",
       "      <td>351</td>\n",
       "      <td>1483</td>\n",
       "      <td>892</td>\n",
       "      <td>0</td>\n",
       "      <td>111</td>\n",
       "      <td>2020-06-11</td>\n",
       "      <td>054405</td>\n",
       "      <td>2020-05-25</td>\n",
       "      <td>17</td>\n",
       "    </tr>\n",
       "    <tr>\n",
       "      <th>4</th>\n",
       "      <td>1267094364976672768</td>\n",
       "      <td>Today on US Google &amp;amp; YouTube homepages we ...</td>\n",
       "      <td>1736</td>\n",
       "      <td>6366</td>\n",
       "      <td>38021</td>\n",
       "      <td>700</td>\n",
       "      <td>photo</td>\n",
       "      <td>Twitter Web App</td>\n",
       "      <td>sundarpichai</td>\n",
       "      <td>ALPHABET INC</td>\n",
       "      <td>...</td>\n",
       "      <td>3374827</td>\n",
       "      <td>351</td>\n",
       "      <td>1483</td>\n",
       "      <td>892</td>\n",
       "      <td>0</td>\n",
       "      <td>111</td>\n",
       "      <td>2020-05-31</td>\n",
       "      <td>140332</td>\n",
       "      <td>2020-05-25</td>\n",
       "      <td>6</td>\n",
       "    </tr>\n",
       "  </tbody>\n",
       "</table>\n",
       "<p>5 rows × 21 columns</p>\n",
       "</div>"
      ],
      "text/plain": [
       "              tweet_id                                               text  \\\n",
       "0  1271235256918487040  An important update from @SusanWojcicki on how...   \n",
       "1  1270968380304941058  Proud that @GoogleCloud is partnering with @Te...   \n",
       "2  1270957112097570816  Also excited that in #Android11 we're making i...   \n",
       "3  1270954939309645824  Android 11 is now available in beta, with a fo...   \n",
       "4  1267094364976672768  Today on US Google &amp; YouTube homepages we ...   \n",
       "\n",
       "   replies  retweets  likes  quotes  media     source_label      username  \\\n",
       "0       86       187   1689      14    NaN  Twitter Web App  sundarpichai   \n",
       "1       71       417   1937      47    NaN  Twitter Web App  sundarpichai   \n",
       "2       89       408   3016      48    NaN  Twitter Web App  sundarpichai   \n",
       "3      152       709   5380      45    NaN  Twitter Web App  sundarpichai   \n",
       "4     1736      6366  38021     700  photo  Twitter Web App  sundarpichai   \n",
       "\n",
       "  compustat_company  ... user_followers  user_friends  user_statuses  \\\n",
       "0      ALPHABET INC  ...        3374827           351           1483   \n",
       "1      ALPHABET INC  ...        3374827           351           1483   \n",
       "2      ALPHABET INC  ...        3374827           351           1483   \n",
       "3      ALPHABET INC  ...        3374827           351           1483   \n",
       "4      ALPHABET INC  ...        3374827           351           1483   \n",
       "\n",
       "   user_favorites  user_listed  user_media       date utc_time event_date  \\\n",
       "0             892            0         111 2020-06-12   001758 2020-05-25   \n",
       "1             892            0         111 2020-06-11   063729 2020-05-25   \n",
       "2             892            0         111 2020-06-11   055243 2020-05-25   \n",
       "3             892            0         111 2020-06-11   054405 2020-05-25   \n",
       "4             892            0         111 2020-05-31   140332 2020-05-25   \n",
       "\n",
       "  days_from_event  \n",
       "0              18  \n",
       "1              17  \n",
       "2              17  \n",
       "3              17  \n",
       "4               6  \n",
       "\n",
       "[5 rows x 21 columns]"
      ]
     },
     "execution_count": 157,
     "metadata": {},
     "output_type": "execute_result"
    }
   ],
   "source": [
    "df.head()"
   ]
  },
  {
   "cell_type": "code",
   "execution_count": 10,
   "metadata": {},
   "outputs": [
    {
     "data": {
      "text/html": [
       "<div>\n",
       "<style scoped>\n",
       "    .dataframe tbody tr th:only-of-type {\n",
       "        vertical-align: middle;\n",
       "    }\n",
       "\n",
       "    .dataframe tbody tr th {\n",
       "        vertical-align: top;\n",
       "    }\n",
       "\n",
       "    .dataframe thead th {\n",
       "        text-align: right;\n",
       "    }\n",
       "</style>\n",
       "<table border=\"1\" class=\"dataframe\">\n",
       "  <thead>\n",
       "    <tr style=\"text-align: right;\">\n",
       "      <th></th>\n",
       "      <th>tweet_id</th>\n",
       "      <th>replies</th>\n",
       "      <th>retweets</th>\n",
       "      <th>likes</th>\n",
       "      <th>quotes</th>\n",
       "      <th>user_followers</th>\n",
       "      <th>user_friends</th>\n",
       "      <th>user_statuses</th>\n",
       "      <th>user_favorites</th>\n",
       "      <th>user_listed</th>\n",
       "      <th>user_media</th>\n",
       "    </tr>\n",
       "  </thead>\n",
       "  <tbody>\n",
       "    <tr>\n",
       "      <th>count</th>\n",
       "      <td>4.153000e+04</td>\n",
       "      <td>41530.000000</td>\n",
       "      <td>41530.000000</td>\n",
       "      <td>41530.000000</td>\n",
       "      <td>41530.000000</td>\n",
       "      <td>4.153000e+04</td>\n",
       "      <td>41530.000000</td>\n",
       "      <td>4.153000e+04</td>\n",
       "      <td>41530.000000</td>\n",
       "      <td>41530.000000</td>\n",
       "      <td>41530.000000</td>\n",
       "    </tr>\n",
       "    <tr>\n",
       "      <th>mean</th>\n",
       "      <td>1.264048e+18</td>\n",
       "      <td>2.334313</td>\n",
       "      <td>4.212979</td>\n",
       "      <td>22.438839</td>\n",
       "      <td>0.994101</td>\n",
       "      <td>2.395559e+06</td>\n",
       "      <td>31896.905803</td>\n",
       "      <td>7.266864e+05</td>\n",
       "      <td>17249.522899</td>\n",
       "      <td>11624.849338</td>\n",
       "      <td>7075.217867</td>\n",
       "    </tr>\n",
       "    <tr>\n",
       "      <th>std</th>\n",
       "      <td>4.159712e+15</td>\n",
       "      <td>42.154473</td>\n",
       "      <td>66.119211</td>\n",
       "      <td>390.385367</td>\n",
       "      <td>50.894983</td>\n",
       "      <td>5.329555e+06</td>\n",
       "      <td>41729.762180</td>\n",
       "      <td>9.117064e+05</td>\n",
       "      <td>21276.001204</td>\n",
       "      <td>21365.761350</td>\n",
       "      <td>9488.712544</td>\n",
       "    </tr>\n",
       "    <tr>\n",
       "      <th>min</th>\n",
       "      <td>1.257098e+18</td>\n",
       "      <td>0.000000</td>\n",
       "      <td>0.000000</td>\n",
       "      <td>0.000000</td>\n",
       "      <td>0.000000</td>\n",
       "      <td>5.450000e+02</td>\n",
       "      <td>0.000000</td>\n",
       "      <td>1.390000e+02</td>\n",
       "      <td>0.000000</td>\n",
       "      <td>0.000000</td>\n",
       "      <td>24.000000</td>\n",
       "    </tr>\n",
       "    <tr>\n",
       "      <th>25%</th>\n",
       "      <td>1.260750e+18</td>\n",
       "      <td>0.000000</td>\n",
       "      <td>0.000000</td>\n",
       "      <td>0.000000</td>\n",
       "      <td>0.000000</td>\n",
       "      <td>2.486740e+05</td>\n",
       "      <td>292.000000</td>\n",
       "      <td>7.281900e+04</td>\n",
       "      <td>4987.000000</td>\n",
       "      <td>1688.000000</td>\n",
       "      <td>2233.000000</td>\n",
       "    </tr>\n",
       "    <tr>\n",
       "      <th>50%</th>\n",
       "      <td>1.263550e+18</td>\n",
       "      <td>0.000000</td>\n",
       "      <td>0.000000</td>\n",
       "      <td>0.000000</td>\n",
       "      <td>0.000000</td>\n",
       "      <td>1.082449e+06</td>\n",
       "      <td>9059.000000</td>\n",
       "      <td>1.363700e+05</td>\n",
       "      <td>5266.000000</td>\n",
       "      <td>6005.000000</td>\n",
       "      <td>2946.000000</td>\n",
       "    </tr>\n",
       "    <tr>\n",
       "      <th>75%</th>\n",
       "      <td>1.267451e+18</td>\n",
       "      <td>1.000000</td>\n",
       "      <td>0.000000</td>\n",
       "      <td>1.000000</td>\n",
       "      <td>0.000000</td>\n",
       "      <td>1.604150e+06</td>\n",
       "      <td>42921.000000</td>\n",
       "      <td>1.236791e+06</td>\n",
       "      <td>19915.000000</td>\n",
       "      <td>11312.000000</td>\n",
       "      <td>6855.000000</td>\n",
       "    </tr>\n",
       "    <tr>\n",
       "      <th>max</th>\n",
       "      <td>1.272317e+18</td>\n",
       "      <td>5112.000000</td>\n",
       "      <td>6366.000000</td>\n",
       "      <td>38021.000000</td>\n",
       "      <td>10019.000000</td>\n",
       "      <td>2.262399e+07</td>\n",
       "      <td>105727.000000</td>\n",
       "      <td>2.284221e+06</td>\n",
       "      <td>81729.000000</td>\n",
       "      <td>92837.000000</td>\n",
       "      <td>35993.000000</td>\n",
       "    </tr>\n",
       "  </tbody>\n",
       "</table>\n",
       "</div>"
      ],
      "text/plain": [
       "           tweet_id       replies      retweets         likes        quotes  \\\n",
       "count  4.153000e+04  41530.000000  41530.000000  41530.000000  41530.000000   \n",
       "mean   1.264048e+18      2.334313      4.212979     22.438839      0.994101   \n",
       "std    4.159712e+15     42.154473     66.119211    390.385367     50.894983   \n",
       "min    1.257098e+18      0.000000      0.000000      0.000000      0.000000   \n",
       "25%    1.260750e+18      0.000000      0.000000      0.000000      0.000000   \n",
       "50%    1.263550e+18      0.000000      0.000000      0.000000      0.000000   \n",
       "75%    1.267451e+18      1.000000      0.000000      1.000000      0.000000   \n",
       "max    1.272317e+18   5112.000000   6366.000000  38021.000000  10019.000000   \n",
       "\n",
       "       user_followers   user_friends  user_statuses  user_favorites  \\\n",
       "count    4.153000e+04   41530.000000   4.153000e+04    41530.000000   \n",
       "mean     2.395559e+06   31896.905803   7.266864e+05    17249.522899   \n",
       "std      5.329555e+06   41729.762180   9.117064e+05    21276.001204   \n",
       "min      5.450000e+02       0.000000   1.390000e+02        0.000000   \n",
       "25%      2.486740e+05     292.000000   7.281900e+04     4987.000000   \n",
       "50%      1.082449e+06    9059.000000   1.363700e+05     5266.000000   \n",
       "75%      1.604150e+06   42921.000000   1.236791e+06    19915.000000   \n",
       "max      2.262399e+07  105727.000000   2.284221e+06    81729.000000   \n",
       "\n",
       "        user_listed    user_media  \n",
       "count  41530.000000  41530.000000  \n",
       "mean   11624.849338   7075.217867  \n",
       "std    21365.761350   9488.712544  \n",
       "min        0.000000     24.000000  \n",
       "25%     1688.000000   2233.000000  \n",
       "50%     6005.000000   2946.000000  \n",
       "75%    11312.000000   6855.000000  \n",
       "max    92837.000000  35993.000000  "
      ]
     },
     "execution_count": 10,
     "metadata": {},
     "output_type": "execute_result"
    }
   ],
   "source": [
    "df.describe()"
   ]
  },
  {
   "cell_type": "markdown",
   "metadata": {},
   "source": [
    "There are a few things worth noting from this table of summary statistics and the data generating process:\n",
    "\n",
    "(1) There are notable outliers on many of the individual tweet-level features (e.g., replies, retweets), especially on the high end. These features have right-skewed distributions, with one (or more) accounts being prolific tweeters.\n",
    "\n",
    "(2) The large majority of tweets in the dataset are sourced through customer experience management (CXM) platforms such as Sprinklr and Conversocial (See below). These tweets are one-on-one responses to customer inquiries. While the data only contains tweets in a 3 week window before and after May 25, 2020, the percentage of tweets that originate outside  strictly Twitter sources (e.g., Twitter Web App) could be seen as a rough proxy for the intensity of a company's interaction with individual consumers on Twitter. \n",
    "\n",
    "One could imagine this factor could have implications for a company's propensity to take a stance/follow-through on the stance. For example, it is reasonable to hypothesize that companies that have greater interaction with individual customers on Twitter may be more likely to be credibly pressured by these customers to take a stance on political issues on Twitter."
   ]
  },
  {
   "cell_type": "code",
   "execution_count": 11,
   "metadata": {},
   "outputs": [
    {
     "data": {
      "text/plain": [
       "Sprinklr                            15174\n",
       "SNAP101                              9272\n",
       "Lithium Tech.                        5916\n",
       "Salesforce - Social Studio           3682\n",
       "Conversocial                         2499\n",
       "Twitter Web App                      1474\n",
       "Khoros Marketing                     1203\n",
       "Sprinklr Publishing                   516\n",
       "Interactions Social Engage            308\n",
       "Twitter for Advertisers (legacy)      236\n",
       "Khoros                                235\n",
       "Sprinklr Publisher                    201\n",
       "Twitter for iPhone                    200\n",
       "Hootsuite Inc.                        146\n",
       "Clarabridge Engage                    133\n",
       "Twitter Media Studio                  101\n",
       "Astute Global                          45\n",
       "Sprout Social                          38\n",
       "Twitter Web Client                     37\n",
       "Twitter Ads                            31\n",
       "Twitter for iPad                       25\n",
       "Percolate                              19\n",
       "Liveworld Twitter Integration          18\n",
       "TweetDeck                              12\n",
       "Periscope                               6\n",
       "Twitter for Android                     3\n",
       "Name: source_label, dtype: int64"
      ]
     },
     "execution_count": 11,
     "metadata": {},
     "output_type": "execute_result"
    }
   ],
   "source": [
    "source_label = df['source_label'].value_counts()\n",
    "source_label"
   ]
  },
  {
   "cell_type": "code",
   "execution_count": 12,
   "metadata": {},
   "outputs": [
    {
     "data": {
      "image/png": "[encoded data removed]",
      "text/plain": [
       "<Figure size 1440x1080 with 12 Axes>"
      ]
     },
     "metadata": {
      "needs_background": "light"
     },
     "output_type": "display_data"
    }
   ],
   "source": [
    "%matplotlib inline\n",
    "import matplotlib.pyplot as plt\n",
    "df.hist(bins=10, figsize=(20,15))\n",
    "plt.show()"
   ]
  },
  {
   "cell_type": "markdown",
   "metadata": {},
   "source": [
    "It's tough to visualize a few of these histograms (likes, quotes, replies, retweets) due to outliers at the right end of the distribution. \n",
    "\n",
    "As examples, looking at the value counts for the number of likes on a tweet and a histogram of tweet replies for tweets with less than 20 replies, one can see that the vast majority of tweets have zero or one likes/replies. So it appears that the data is very right skewed here. More formally, we can use scipy's skewtest, which confirms that these four  features have a larger skewness than a user's cumulative number of favorites and user's number of friends. "
   ]
  },
  {
   "cell_type": "code",
   "execution_count": 28,
   "metadata": {},
   "outputs": [
    {
     "data": {
      "text/plain": [
       "(-38.022, 7604.2]     41512\n",
       "(7604.2, 15208.4]        12\n",
       "(15208.4, 22812.6]        3\n",
       "(22812.6, 30416.8]        2\n",
       "(30416.8, 38021.0]        1\n",
       "Name: likes, dtype: int64"
      ]
     },
     "execution_count": 28,
     "metadata": {},
     "output_type": "execute_result"
    }
   ],
   "source": [
    "likes_val_ct = df['likes'].value_counts()\n",
    "likes_val_ct"
   ]
  },
  {
   "cell_type": "code",
   "execution_count": 20,
   "metadata": {},
   "outputs": [
    {
     "data": {
      "image/png": "[encoded data removed]",
      "text/plain": [
       "<Figure size 1440x1080 with 1 Axes>"
      ]
     },
     "metadata": {
      "needs_background": "light"
     },
     "output_type": "display_data"
    }
   ],
   "source": [
    "df_replies_cut = df[df['replies'] < 20]\n",
    "df_replies_cut['replies'].hist(bins = 10, figsize=(20,15))\n",
    "plt.show()"
   ]
  },
  {
   "cell_type": "code",
   "execution_count": 23,
   "metadata": {},
   "outputs": [
    {
     "data": {
      "text/plain": [
       "SkewtestResult(statistic=array([329.99025802, 415.47148641, 353.46747231, 329.52727879,\n",
       "        87.73951864,  72.09190793]), pvalue=array([0., 0., 0., 0., 0., 0.]))"
      ]
     },
     "execution_count": 23,
     "metadata": {},
     "output_type": "execute_result"
    }
   ],
   "source": [
    "from scipy import stats\n",
    "stats.skewtest(df[['likes', 'quotes', 'replies', 'retweets', 'user_favorites', 'user_friends']])"
   ]
  },
  {
   "cell_type": "markdown",
   "metadata": {},
   "source": [
    "At this point, there are a few potentially interesting next steps:\n",
    "\n",
    "1. What tweets are in the right tail of the likes and retweets? These tweets are ostensibly the ones with the most \"reach\" on Twitter.\n",
    "\n",
    "2. How do these descriptives change when we remove non-Twitter sources?"
   ]
  },
  {
   "cell_type": "markdown",
   "metadata": {},
   "source": [
    "Let's start with looking at the text and distribution in time, say of the 30 tweets with the most likes. \n",
    "\n",
    "Below, we see that a reasonable, round-number cutoff for this descriptive analysis would be likes > 5000"
   ]
  },
  {
   "cell_type": "code",
   "execution_count": 174,
   "metadata": {},
   "outputs": [
    {
     "data": {
      "text/plain": [
       "(-38.022, 3802.1]     41493\n",
       "(3802.1, 7604.2]         19\n",
       "(7604.2, 11406.3]        11\n",
       "(19010.5, 22812.6]        3\n",
       "(34218.9, 38021.0]        1\n",
       "(26614.7, 30416.8]        1\n",
       "(22812.6, 26614.7]        1\n",
       "(11406.3, 15208.4]        1\n",
       "(30416.8, 34218.9]        0\n",
       "(15208.4, 19010.5]        0\n",
       "Name: likes, dtype: int64"
      ]
     },
     "execution_count": 174,
     "metadata": {},
     "output_type": "execute_result"
    }
   ],
   "source": [
    "likes_val_ct = df['likes'].value_counts(bins=10)\n",
    "likes_val_ct"
   ]
  },
  {
   "cell_type": "markdown",
   "metadata": {},
   "source": [
    "Let's now look at the days from the shooting (where negative days indicates days prior to May 25) and the associated text of these tweets.\n",
    "\n",
    "Although the output contains surface level descriptives, one can already see strong representation of words that are associated with taking a stance on the event (e.g., \"Minneapolis\", \"race\", \"using our platform\"). This warrants a more rigorous text analysis with the data."
   ]
  },
  {
   "cell_type": "code",
   "execution_count": 175,
   "metadata": {},
   "outputs": [
    {
     "name": "stdout",
     "output_type": "stream",
     "text": [
      "       days_from_event                                               text\n",
      "3                   17  Android 11 is now available in beta, with a fo...\n",
      "4                    6  Today on US Google &amp; YouTube homepages we ...\n",
      "9                   -5  The #COVID19 Exposure Notification technology ...\n",
      "11                 -13  We've re-engineered Google Meet to make secure...\n",
      "18                  17  The unfinished work of racial justice and equa...\n",
      "19                  10  Today, as Minneapolis gathers and the nation m...\n",
      "20                   4  Minneapolis is grieving for a reason. To parap...\n",
      "22                   0  We will never forget the memory and sacrifice ...\n",
      "23                  -2  Wishing safety, happiness and peace to those c...\n",
      "26                  -5  Technology can help health officials rapidly t...\n",
      "28                 -13  To the nurses who work every day to save the l...\n",
      "29                 -15  The dreams mothers nurture become the ideas th...\n",
      "31                 -20  Every year I am blown away by the talent of ou...\n",
      "113                 -8  Sorry to see The Last Dance conclude tonight o...\n",
      "117                -13  We’re thrilled to bring the extraordinary @Ham...\n",
      "119                -19  And we are blown away by your sacrifice, your ...\n",
      "121                -21  To all hospital and health care workers.....th...\n",
      "151                  7  There is no place for hate and racism in our s...\n",
      "3383                 6                            https://t.co/yI4MYEDz4C\n",
      "13435               16  Through years of practice, AIG’s Rajender Dahi...\n",
      "13486                3  While #COVID19 has disrupted life for many, co...\n",
      "15207               -5  We're all in for the release of the #JusticeLe...\n",
      "16467                0  Congrats @TigerWoods and Peyton Manning! Winne...\n",
      "16521               -2  Who would you rather caddie for? #CapitalOnesT...\n",
      "16525               -4  Golf is back. ✅\\nFor a great cause. ✅\\nPractic...\n",
      "16950                1  #Citi President Jane Fraser spoke with @Fortun...\n",
      "21963                9  The Walt Disney Company has pledged $5 million...\n",
      "33530                8  At this time, we will be using our platform to...\n",
      "33535                7  At this time, we will be using our platform to...\n",
      "33536                7  At this time, we will be using our platform to...\n",
      "34757                1  Roses are red, violets are blue, hope you have...\n"
     ]
    }
   ],
   "source": [
    "df_indiv_tweets = df[['date','days_from_event', 'text', 'replies', 'retweets', 'likes', 'quotes']]\n",
    "print(df_indiv_tweets[['days_from_event','text']][df_indiv_tweets['likes']>5000])"
   ]
  },
  {
   "cell_type": "markdown",
   "metadata": {},
   "source": [
    "We can also take a quick look at the distributions of this subsample of highly liked tweets compared to the full sample. \n",
    "\n",
    "Compared to the full sample, the sample of most liked tweets has a notable center of mass just right of the event date. Coupled with the cursory analysis above, it appears that political stance tweets may attract significant attention relative to the average corporate tweet."
   ]
  },
  {
   "cell_type": "code",
   "execution_count": 176,
   "metadata": {},
   "outputs": [
    {
     "data": {
      "image/png": "[encoded data removed]",
      "text/plain": [
       "<Figure size 432x288 with 1 Axes>"
      ]
     },
     "metadata": {
      "needs_background": "light"
     },
     "output_type": "display_data"
    }
   ],
   "source": [
    "df['days_from_event'].hist(bins=10)\n",
    "plt.show()"
   ]
  },
  {
   "cell_type": "code",
   "execution_count": 169,
   "metadata": {},
   "outputs": [
    {
     "data": {
      "image/png": "[encoded data removed]",
      "text/plain": [
       "<Figure size 432x288 with 1 Axes>"
      ]
     },
     "metadata": {
      "needs_background": "light"
     },
     "output_type": "display_data"
    }
   ],
   "source": [
    "df_indiv_tweets[['days_from_event']][df_indiv_tweets['likes'] > 5000].hist(bins=10)\n",
    "plt.show()"
   ]
  }
 ],
 "metadata": {
  "kernelspec": {
   "display_name": "Python 3",
   "language": "python",
   "name": "python3"
  },
  "language_info": {
   "codemirror_mode": {
    "name": "ipython",
    "version": 3
   },
   "file_extension": ".py",
   "mimetype": "text/x-python",
   "name": "python",
   "nbconvert_exporter": "python",
   "pygments_lexer": "ipython3",
   "version": "3.7.3"
  }
 },
 "nbformat": 4,
 "nbformat_minor": 4
}
