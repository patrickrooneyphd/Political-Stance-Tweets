{
 "cells": [
  {
   "cell_type": "code",
   "execution_count": 2,
   "metadata": {},
   "outputs": [],
   "source": [
    "import sys\n",
    "assert sys.version_info >= (3, 5)\n",
    "\n",
    "import pandas as pd\n",
    "import numpy as np\n",
    "import os\n",
    "\n",
    "# Import Matplotlib and Seaborn\n",
    "%matplotlib inline\n",
    "import matplotlib as mpl\n",
    "import matplotlib.pyplot as plt\n",
    "mpl.rc('axes', labelsize=14)\n",
    "mpl.rc('xtick', labelsize=12)\n",
    "mpl.rc('ytick', labelsize=12)\n",
    "\n",
    "import seaborn as sns\n",
    "\n",
    "##  A few useful functions and setup items\n",
    "# Changing directories\n",
    "def change_dir(num_steps_back, path_ext):\n",
    "    \"\"\"\n",
    "    :param num_steps_back: how many steps back up the dir you need (1 step represented as '.', 2 steps as '..', etc.)\n",
    "    :param path_ext: the desired path within project root folder (e.g., src, data)\n",
    "    :return: (none)\n",
    "    \"\"\"\n",
    "    print('Old Working Directory: ' + os.getcwd())\n",
    "    os.chdir(num_steps_back)\n",
    "    if not os.path.isdir(os.getcwd() + path_ext):\n",
    "        os.makedirs(os.getcwd() + path_ext)\n",
    "    new_dir = os.path.join(os.getcwd() + path_ext)\n",
    "    os.chdir(new_dir)\n",
    "    print('      ')\n",
    "    print('New Working Directory: ' + os.getcwd())\n",
    "\n",
    "    \n",
    "# Saving images\n",
    "def save_image(fig_id, tight_layout=True, fig_extension=\"png\", resolution=300):\n",
    "    ch_dir('..', '/analysis/figures')\n",
    "    if tight_layout:\n",
    "        plt.tight_layout()\n",
    "    plt.savefig(fig_id, format=fig_extension, dpi=resolution)\n",
    "    ch_dir('...', '/notebooks')\n",
    "    "
   ]
  },
  {
   "cell_type": "code",
   "execution_count": 3,
   "metadata": {},
   "outputs": [
    {
     "name": "stdout",
     "output_type": "stream",
     "text": [
      "Old Working Directory: /Users/pjrooney/Dropbox/Rotman/Research/_Dissertation/PoliticalStancesAndStrategy/5_Data/4_F100Tweets/Political Stance Tweets/notebooks\n",
      "      \n",
      "New Working Directory: /Users/pjrooney/Dropbox/Rotman/Research/_Dissertation/PoliticalStancesAndStrategy/5_Data/4_F100Tweets/Political Stance Tweets/data\n",
      "Old Working Directory: /Users/pjrooney/Dropbox/Rotman/Research/_Dissertation/PoliticalStancesAndStrategy/5_Data/4_F100Tweets/Political Stance Tweets/data\n",
      "      \n",
      "New Working Directory: /Users/pjrooney/Dropbox/Rotman/Research/_Dissertation/PoliticalStancesAndStrategy/5_Data/4_F100Tweets/Political Stance Tweets/notebooks\n"
     ]
    }
   ],
   "source": [
    "# Change the directory to download the data and return to the notebooks folder.\n",
    "change_dir('..', '/data')\n",
    "df = pd.read_csv('tweets_df_raw.csv')\n",
    "change_dir('..', '/notebooks')"
   ]
  },
  {
   "cell_type": "code",
   "execution_count": 7,
   "metadata": {},
   "outputs": [],
   "source": [
    "df.head()\n",
    "df = df.drop(df.columns[0], 1) # Delete the \"Unnamed\" column, which is a duplicate of the index"
   ]
  },
  {
   "cell_type": "code",
   "execution_count": 8,
   "metadata": {},
   "outputs": [
    {
     "data": {
      "text/html": [
       "<div>\n",
       "<style scoped>\n",
       "    .dataframe tbody tr th:only-of-type {\n",
       "        vertical-align: middle;\n",
       "    }\n",
       "\n",
       "    .dataframe tbody tr th {\n",
       "        vertical-align: top;\n",
       "    }\n",
       "\n",
       "    .dataframe thead th {\n",
       "        text-align: right;\n",
       "    }\n",
       "</style>\n",
       "<table border=\"1\" class=\"dataframe\">\n",
       "  <thead>\n",
       "    <tr style=\"text-align: right;\">\n",
       "      <th></th>\n",
       "      <th>date</th>\n",
       "      <th>tweet_id</th>\n",
       "      <th>text</th>\n",
       "      <th>replies</th>\n",
       "      <th>retweets</th>\n",
       "      <th>likes</th>\n",
       "      <th>quotes</th>\n",
       "      <th>media</th>\n",
       "      <th>source_label</th>\n",
       "      <th>username</th>\n",
       "      <th>compustat_company</th>\n",
       "      <th>user_join_date</th>\n",
       "      <th>user_followers</th>\n",
       "      <th>user_friends</th>\n",
       "      <th>user_statuses</th>\n",
       "      <th>user_favorites</th>\n",
       "      <th>user_listed</th>\n",
       "      <th>user_media</th>\n",
       "    </tr>\n",
       "  </thead>\n",
       "  <tbody>\n",
       "    <tr>\n",
       "      <th>0</th>\n",
       "      <td>2020-06-12T00:17:58+00:00</td>\n",
       "      <td>1271235256918487040</td>\n",
       "      <td>An important update from @SusanWojcicki on how...</td>\n",
       "      <td>86</td>\n",
       "      <td>187</td>\n",
       "      <td>1689</td>\n",
       "      <td>14</td>\n",
       "      <td>NaN</td>\n",
       "      <td>Twitter Web App</td>\n",
       "      <td>sundarpichai</td>\n",
       "      <td>ALPHABET INC</td>\n",
       "      <td>2008-03-12T05:51:53+00:00</td>\n",
       "      <td>3374827</td>\n",
       "      <td>351</td>\n",
       "      <td>1483</td>\n",
       "      <td>892</td>\n",
       "      <td>0</td>\n",
       "      <td>111</td>\n",
       "    </tr>\n",
       "    <tr>\n",
       "      <th>1</th>\n",
       "      <td>2020-06-11T06:37:29+00:00</td>\n",
       "      <td>1270968380304941058</td>\n",
       "      <td>Proud that @GoogleCloud is partnering with @Te...</td>\n",
       "      <td>71</td>\n",
       "      <td>417</td>\n",
       "      <td>1937</td>\n",
       "      <td>47</td>\n",
       "      <td>NaN</td>\n",
       "      <td>Twitter Web App</td>\n",
       "      <td>sundarpichai</td>\n",
       "      <td>ALPHABET INC</td>\n",
       "      <td>2008-03-12T05:51:53+00:00</td>\n",
       "      <td>3374827</td>\n",
       "      <td>351</td>\n",
       "      <td>1483</td>\n",
       "      <td>892</td>\n",
       "      <td>0</td>\n",
       "      <td>111</td>\n",
       "    </tr>\n",
       "    <tr>\n",
       "      <th>2</th>\n",
       "      <td>2020-06-11T05:52:43+00:00</td>\n",
       "      <td>1270957112097570816</td>\n",
       "      <td>Also excited that in #Android11 we're making i...</td>\n",
       "      <td>89</td>\n",
       "      <td>408</td>\n",
       "      <td>3016</td>\n",
       "      <td>48</td>\n",
       "      <td>NaN</td>\n",
       "      <td>Twitter Web App</td>\n",
       "      <td>sundarpichai</td>\n",
       "      <td>ALPHABET INC</td>\n",
       "      <td>2008-03-12T05:51:53+00:00</td>\n",
       "      <td>3374827</td>\n",
       "      <td>351</td>\n",
       "      <td>1483</td>\n",
       "      <td>892</td>\n",
       "      <td>0</td>\n",
       "      <td>111</td>\n",
       "    </tr>\n",
       "    <tr>\n",
       "      <th>3</th>\n",
       "      <td>2020-06-11T05:44:05+00:00</td>\n",
       "      <td>1270954939309645824</td>\n",
       "      <td>Android 11 is now available in beta, with a fo...</td>\n",
       "      <td>152</td>\n",
       "      <td>709</td>\n",
       "      <td>5380</td>\n",
       "      <td>45</td>\n",
       "      <td>NaN</td>\n",
       "      <td>Twitter Web App</td>\n",
       "      <td>sundarpichai</td>\n",
       "      <td>ALPHABET INC</td>\n",
       "      <td>2008-03-12T05:51:53+00:00</td>\n",
       "      <td>3374827</td>\n",
       "      <td>351</td>\n",
       "      <td>1483</td>\n",
       "      <td>892</td>\n",
       "      <td>0</td>\n",
       "      <td>111</td>\n",
       "    </tr>\n",
       "    <tr>\n",
       "      <th>4</th>\n",
       "      <td>2020-05-31T14:03:32+00:00</td>\n",
       "      <td>1267094364976672768</td>\n",
       "      <td>Today on US Google &amp;amp; YouTube homepages we ...</td>\n",
       "      <td>1736</td>\n",
       "      <td>6366</td>\n",
       "      <td>38021</td>\n",
       "      <td>700</td>\n",
       "      <td>photo</td>\n",
       "      <td>Twitter Web App</td>\n",
       "      <td>sundarpichai</td>\n",
       "      <td>ALPHABET INC</td>\n",
       "      <td>2008-03-12T05:51:53+00:00</td>\n",
       "      <td>3374827</td>\n",
       "      <td>351</td>\n",
       "      <td>1483</td>\n",
       "      <td>892</td>\n",
       "      <td>0</td>\n",
       "      <td>111</td>\n",
       "    </tr>\n",
       "  </tbody>\n",
       "</table>\n",
       "</div>"
      ],
      "text/plain": [
       "                        date             tweet_id  \\\n",
       "0  2020-06-12T00:17:58+00:00  1271235256918487040   \n",
       "1  2020-06-11T06:37:29+00:00  1270968380304941058   \n",
       "2  2020-06-11T05:52:43+00:00  1270957112097570816   \n",
       "3  2020-06-11T05:44:05+00:00  1270954939309645824   \n",
       "4  2020-05-31T14:03:32+00:00  1267094364976672768   \n",
       "\n",
       "                                                text  replies  retweets  \\\n",
       "0  An important update from @SusanWojcicki on how...       86       187   \n",
       "1  Proud that @GoogleCloud is partnering with @Te...       71       417   \n",
       "2  Also excited that in #Android11 we're making i...       89       408   \n",
       "3  Android 11 is now available in beta, with a fo...      152       709   \n",
       "4  Today on US Google &amp; YouTube homepages we ...     1736      6366   \n",
       "\n",
       "   likes  quotes  media     source_label      username compustat_company  \\\n",
       "0   1689      14    NaN  Twitter Web App  sundarpichai      ALPHABET INC   \n",
       "1   1937      47    NaN  Twitter Web App  sundarpichai      ALPHABET INC   \n",
       "2   3016      48    NaN  Twitter Web App  sundarpichai      ALPHABET INC   \n",
       "3   5380      45    NaN  Twitter Web App  sundarpichai      ALPHABET INC   \n",
       "4  38021     700  photo  Twitter Web App  sundarpichai      ALPHABET INC   \n",
       "\n",
       "              user_join_date  user_followers  user_friends  user_statuses  \\\n",
       "0  2008-03-12T05:51:53+00:00         3374827           351           1483   \n",
       "1  2008-03-12T05:51:53+00:00         3374827           351           1483   \n",
       "2  2008-03-12T05:51:53+00:00         3374827           351           1483   \n",
       "3  2008-03-12T05:51:53+00:00         3374827           351           1483   \n",
       "4  2008-03-12T05:51:53+00:00         3374827           351           1483   \n",
       "\n",
       "   user_favorites  user_listed  user_media  \n",
       "0             892            0         111  \n",
       "1             892            0         111  \n",
       "2             892            0         111  \n",
       "3             892            0         111  \n",
       "4             892            0         111  "
      ]
     },
     "execution_count": 8,
     "metadata": {},
     "output_type": "execute_result"
    }
   ],
   "source": [
    "df.head()"
   ]
  },
  {
   "cell_type": "code",
   "execution_count": 9,
   "metadata": {},
   "outputs": [
    {
     "name": "stdout",
     "output_type": "stream",
     "text": [
      "<class 'pandas.core.frame.DataFrame'>\n",
      "RangeIndex: 41530 entries, 0 to 41529\n",
      "Data columns (total 18 columns):\n",
      " #   Column             Non-Null Count  Dtype \n",
      "---  ------             --------------  ----- \n",
      " 0   date               41530 non-null  object\n",
      " 1   tweet_id           41530 non-null  int64 \n",
      " 2   text               41530 non-null  object\n",
      " 3   replies            41530 non-null  int64 \n",
      " 4   retweets           41530 non-null  int64 \n",
      " 5   likes              41530 non-null  int64 \n",
      " 6   quotes             41530 non-null  int64 \n",
      " 7   media              3432 non-null   object\n",
      " 8   source_label       41530 non-null  object\n",
      " 9   username           41530 non-null  object\n",
      " 10  compustat_company  41530 non-null  object\n",
      " 11  user_join_date     41530 non-null  object\n",
      " 12  user_followers     41530 non-null  int64 \n",
      " 13  user_friends       41530 non-null  int64 \n",
      " 14  user_statuses      41530 non-null  int64 \n",
      " 15  user_favorites     41530 non-null  int64 \n",
      " 16  user_listed        41530 non-null  int64 \n",
      " 17  user_media         41530 non-null  int64 \n",
      "dtypes: int64(11), object(7)\n",
      "memory usage: 5.7+ MB\n"
     ]
    }
   ],
   "source": [
    "df.info()"
   ]
  },
  {
   "cell_type": "code",
   "execution_count": 10,
   "metadata": {},
   "outputs": [
    {
     "data": {
      "text/html": [
       "<div>\n",
       "<style scoped>\n",
       "    .dataframe tbody tr th:only-of-type {\n",
       "        vertical-align: middle;\n",
       "    }\n",
       "\n",
       "    .dataframe tbody tr th {\n",
       "        vertical-align: top;\n",
       "    }\n",
       "\n",
       "    .dataframe thead th {\n",
       "        text-align: right;\n",
       "    }\n",
       "</style>\n",
       "<table border=\"1\" class=\"dataframe\">\n",
       "  <thead>\n",
       "    <tr style=\"text-align: right;\">\n",
       "      <th></th>\n",
       "      <th>tweet_id</th>\n",
       "      <th>replies</th>\n",
       "      <th>retweets</th>\n",
       "      <th>likes</th>\n",
       "      <th>quotes</th>\n",
       "      <th>user_followers</th>\n",
       "      <th>user_friends</th>\n",
       "      <th>user_statuses</th>\n",
       "      <th>user_favorites</th>\n",
       "      <th>user_listed</th>\n",
       "      <th>user_media</th>\n",
       "    </tr>\n",
       "  </thead>\n",
       "  <tbody>\n",
       "    <tr>\n",
       "      <th>count</th>\n",
       "      <td>4.153000e+04</td>\n",
       "      <td>41530.000000</td>\n",
       "      <td>41530.000000</td>\n",
       "      <td>41530.000000</td>\n",
       "      <td>41530.000000</td>\n",
       "      <td>4.153000e+04</td>\n",
       "      <td>41530.000000</td>\n",
       "      <td>4.153000e+04</td>\n",
       "      <td>41530.000000</td>\n",
       "      <td>41530.000000</td>\n",
       "      <td>41530.000000</td>\n",
       "    </tr>\n",
       "    <tr>\n",
       "      <th>mean</th>\n",
       "      <td>1.264048e+18</td>\n",
       "      <td>2.334313</td>\n",
       "      <td>4.212979</td>\n",
       "      <td>22.438839</td>\n",
       "      <td>0.994101</td>\n",
       "      <td>2.395559e+06</td>\n",
       "      <td>31896.905803</td>\n",
       "      <td>7.266864e+05</td>\n",
       "      <td>17249.522899</td>\n",
       "      <td>11624.849338</td>\n",
       "      <td>7075.217867</td>\n",
       "    </tr>\n",
       "    <tr>\n",
       "      <th>std</th>\n",
       "      <td>4.159712e+15</td>\n",
       "      <td>42.154473</td>\n",
       "      <td>66.119211</td>\n",
       "      <td>390.385367</td>\n",
       "      <td>50.894983</td>\n",
       "      <td>5.329555e+06</td>\n",
       "      <td>41729.762180</td>\n",
       "      <td>9.117064e+05</td>\n",
       "      <td>21276.001204</td>\n",
       "      <td>21365.761350</td>\n",
       "      <td>9488.712544</td>\n",
       "    </tr>\n",
       "    <tr>\n",
       "      <th>min</th>\n",
       "      <td>1.257098e+18</td>\n",
       "      <td>0.000000</td>\n",
       "      <td>0.000000</td>\n",
       "      <td>0.000000</td>\n",
       "      <td>0.000000</td>\n",
       "      <td>5.450000e+02</td>\n",
       "      <td>0.000000</td>\n",
       "      <td>1.390000e+02</td>\n",
       "      <td>0.000000</td>\n",
       "      <td>0.000000</td>\n",
       "      <td>24.000000</td>\n",
       "    </tr>\n",
       "    <tr>\n",
       "      <th>25%</th>\n",
       "      <td>1.260750e+18</td>\n",
       "      <td>0.000000</td>\n",
       "      <td>0.000000</td>\n",
       "      <td>0.000000</td>\n",
       "      <td>0.000000</td>\n",
       "      <td>2.486740e+05</td>\n",
       "      <td>292.000000</td>\n",
       "      <td>7.281900e+04</td>\n",
       "      <td>4987.000000</td>\n",
       "      <td>1688.000000</td>\n",
       "      <td>2233.000000</td>\n",
       "    </tr>\n",
       "    <tr>\n",
       "      <th>50%</th>\n",
       "      <td>1.263550e+18</td>\n",
       "      <td>0.000000</td>\n",
       "      <td>0.000000</td>\n",
       "      <td>0.000000</td>\n",
       "      <td>0.000000</td>\n",
       "      <td>1.082449e+06</td>\n",
       "      <td>9059.000000</td>\n",
       "      <td>1.363700e+05</td>\n",
       "      <td>5266.000000</td>\n",
       "      <td>6005.000000</td>\n",
       "      <td>2946.000000</td>\n",
       "    </tr>\n",
       "    <tr>\n",
       "      <th>75%</th>\n",
       "      <td>1.267451e+18</td>\n",
       "      <td>1.000000</td>\n",
       "      <td>0.000000</td>\n",
       "      <td>1.000000</td>\n",
       "      <td>0.000000</td>\n",
       "      <td>1.604150e+06</td>\n",
       "      <td>42921.000000</td>\n",
       "      <td>1.236791e+06</td>\n",
       "      <td>19915.000000</td>\n",
       "      <td>11312.000000</td>\n",
       "      <td>6855.000000</td>\n",
       "    </tr>\n",
       "    <tr>\n",
       "      <th>max</th>\n",
       "      <td>1.272317e+18</td>\n",
       "      <td>5112.000000</td>\n",
       "      <td>6366.000000</td>\n",
       "      <td>38021.000000</td>\n",
       "      <td>10019.000000</td>\n",
       "      <td>2.262399e+07</td>\n",
       "      <td>105727.000000</td>\n",
       "      <td>2.284221e+06</td>\n",
       "      <td>81729.000000</td>\n",
       "      <td>92837.000000</td>\n",
       "      <td>35993.000000</td>\n",
       "    </tr>\n",
       "  </tbody>\n",
       "</table>\n",
       "</div>"
      ],
      "text/plain": [
       "           tweet_id       replies      retweets         likes        quotes  \\\n",
       "count  4.153000e+04  41530.000000  41530.000000  41530.000000  41530.000000   \n",
       "mean   1.264048e+18      2.334313      4.212979     22.438839      0.994101   \n",
       "std    4.159712e+15     42.154473     66.119211    390.385367     50.894983   \n",
       "min    1.257098e+18      0.000000      0.000000      0.000000      0.000000   \n",
       "25%    1.260750e+18      0.000000      0.000000      0.000000      0.000000   \n",
       "50%    1.263550e+18      0.000000      0.000000      0.000000      0.000000   \n",
       "75%    1.267451e+18      1.000000      0.000000      1.000000      0.000000   \n",
       "max    1.272317e+18   5112.000000   6366.000000  38021.000000  10019.000000   \n",
       "\n",
       "       user_followers   user_friends  user_statuses  user_favorites  \\\n",
       "count    4.153000e+04   41530.000000   4.153000e+04    41530.000000   \n",
       "mean     2.395559e+06   31896.905803   7.266864e+05    17249.522899   \n",
       "std      5.329555e+06   41729.762180   9.117064e+05    21276.001204   \n",
       "min      5.450000e+02       0.000000   1.390000e+02        0.000000   \n",
       "25%      2.486740e+05     292.000000   7.281900e+04     4987.000000   \n",
       "50%      1.082449e+06    9059.000000   1.363700e+05     5266.000000   \n",
       "75%      1.604150e+06   42921.000000   1.236791e+06    19915.000000   \n",
       "max      2.262399e+07  105727.000000   2.284221e+06    81729.000000   \n",
       "\n",
       "        user_listed    user_media  \n",
       "count  41530.000000  41530.000000  \n",
       "mean   11624.849338   7075.217867  \n",
       "std    21365.761350   9488.712544  \n",
       "min        0.000000     24.000000  \n",
       "25%     1688.000000   2233.000000  \n",
       "50%     6005.000000   2946.000000  \n",
       "75%    11312.000000   6855.000000  \n",
       "max    92837.000000  35993.000000  "
      ]
     },
     "execution_count": 10,
     "metadata": {},
     "output_type": "execute_result"
    }
   ],
   "source": [
    "df.describe()"
   ]
  },
  {
   "cell_type": "markdown",
   "metadata": {},
   "source": [
    "There are a few things worth noting from this table of summary statistics and the data generating process:\n",
    "\n",
    "(1) There are notable outliers on many of the individual tweet-level features (e.g., replies, retweets), especially on the high end. These features have right-skewed distributions, with one (or more) accounts being prolific tweeters.\n",
    "\n",
    "(2) The large majority of tweets in the dataset are sourced through customer experience management (CXM) platforms such as Sprinklr and Conversocial (See below). These tweets are one-on-one responses to customer inquiries. While the data only contains tweets in a 3 week window before and after May 25, 2020, the percentage of tweets that originate outside  strictly Twitter sources (e.g., Twitter Web App) could be seen as a rough proxy for the intensity of a company's interaction with individual consumers on Twitter. \n",
    "\n",
    "One could imagine this factor could have implications for a company's propensity to take a stance/follow-through on the stance. For example, it is reasonable to hypothesize that companies that have greater interaction with individual customers on Twitter may be more likely to be credibly pressured by these customers to take a stance on political issues on Twitter."
   ]
  },
  {
   "cell_type": "code",
   "execution_count": 11,
   "metadata": {},
   "outputs": [
    {
     "data": {
      "text/plain": [
       "Sprinklr                            15174\n",
       "SNAP101                              9272\n",
       "Lithium Tech.                        5916\n",
       "Salesforce - Social Studio           3682\n",
       "Conversocial                         2499\n",
       "Twitter Web App                      1474\n",
       "Khoros Marketing                     1203\n",
       "Sprinklr Publishing                   516\n",
       "Interactions Social Engage            308\n",
       "Twitter for Advertisers (legacy)      236\n",
       "Khoros                                235\n",
       "Sprinklr Publisher                    201\n",
       "Twitter for iPhone                    200\n",
       "Hootsuite Inc.                        146\n",
       "Clarabridge Engage                    133\n",
       "Twitter Media Studio                  101\n",
       "Astute Global                          45\n",
       "Sprout Social                          38\n",
       "Twitter Web Client                     37\n",
       "Twitter Ads                            31\n",
       "Twitter for iPad                       25\n",
       "Percolate                              19\n",
       "Liveworld Twitter Integration          18\n",
       "TweetDeck                              12\n",
       "Periscope                               6\n",
       "Twitter for Android                     3\n",
       "Name: source_label, dtype: int64"
      ]
     },
     "execution_count": 11,
     "metadata": {},
     "output_type": "execute_result"
    }
   ],
   "source": [
    "source_label = df['source_label'].value_counts()\n",
    "source_label"
   ]
  },
  {
   "cell_type": "code",
   "execution_count": 12,
   "metadata": {},
   "outputs": [
    {
     "data": {
      "image/png": "[encoded data removed]",
      "text/plain": [
       "<Figure size 1440x1080 with 12 Axes>"
      ]
     },
     "metadata": {
      "needs_background": "light"
     },
     "output_type": "display_data"
    }
   ],
   "source": [
    "%matplotlib inline\n",
    "import matplotlib.pyplot as plt\n",
    "df.hist(bins=10, figsize=(20,15))\n",
    "plt.show()"
   ]
  },
  {
   "cell_type": "markdown",
   "metadata": {},
   "source": [
    "It's tough to visualize a few of these histograms (likes, quotes, replies, retweets) due to outliers at the right end of the distribution. \n",
    "\n",
    "As examples, looking at the value counts for the number of likes on a tweet and a histogram of tweet replies for tweets with less than 20 replies, one can see that the vast majority of tweets have zero or one likes/replies. So it appears that the data is very right skewed here. More formally, we can use scipy's skewtest, which confirms that these four  features have a larger skewness than a user's cumulative number of favorites and user's number of friends. "
   ]
  },
  {
   "cell_type": "code",
   "execution_count": 18,
   "metadata": {},
   "outputs": [
    {
     "data": {
      "text/plain": [
       "0        28587\n",
       "1         6382\n",
       "2         1275\n",
       "3          564\n",
       "4          331\n",
       "         ...  \n",
       "499          1\n",
       "8823         1\n",
       "659          1\n",
       "691          1\n",
       "10901        1\n",
       "Name: likes, Length: 653, dtype: int64"
      ]
     },
     "execution_count": 18,
     "metadata": {},
     "output_type": "execute_result"
    }
   ],
   "source": [
    "likes_val_ct = df['likes'].value_counts()\n",
    "likes_val_ct"
   ]
  },
  {
   "cell_type": "code",
   "execution_count": 20,
   "metadata": {},
   "outputs": [
    {
     "data": {
      "image/png": "[encoded data removed]",
      "text/plain": [
       "<Figure size 1440x1080 with 1 Axes>"
      ]
     },
     "metadata": {
      "needs_background": "light"
     },
     "output_type": "display_data"
    }
   ],
   "source": [
    "df_replies_cut = df[df['replies'] < 20]\n",
    "df_replies_cut['replies'].hist(bins = 10, figsize=(20,15))\n",
    "plt.show()"
   ]
  },
  {
   "cell_type": "code",
   "execution_count": 23,
   "metadata": {},
   "outputs": [
    {
     "data": {
      "text/plain": [
       "SkewtestResult(statistic=array([329.99025802, 415.47148641, 353.46747231, 329.52727879,\n",
       "        87.73951864,  72.09190793]), pvalue=array([0., 0., 0., 0., 0., 0.]))"
      ]
     },
     "execution_count": 23,
     "metadata": {},
     "output_type": "execute_result"
    }
   ],
   "source": [
    "from scipy import stats\n",
    "stats.skewtest(df[['likes', 'quotes', 'replies', 'retweets', 'user_favorites', 'user_friends']])"
   ]
  },
  {
   "cell_type": "code",
   "execution_count": null,
   "metadata": {},
   "outputs": [],
   "source": [
    "\"\"\"\n",
    "Things to investigate:\n",
    "\n",
    "\"\"\"\n"
   ]
  },
  {
   "cell_type": "code",
   "execution_count": null,
   "metadata": {},
   "outputs": [],
   "source": []
  },
  {
   "cell_type": "code",
   "execution_count": null,
   "metadata": {},
   "outputs": [],
   "source": []
  },
  {
   "cell_type": "code",
   "execution_count": null,
   "metadata": {},
   "outputs": [],
   "source": []
  }
 ],
 "metadata": {
  "kernelspec": {
   "display_name": "Python 3",
   "language": "python",
   "name": "python3"
  },
  "language_info": {
   "codemirror_mode": {
    "name": "ipython",
    "version": 3
   },
   "file_extension": ".py",
   "mimetype": "text/x-python",
   "name": "python",
   "nbconvert_exporter": "python",
   "pygments_lexer": "ipython3",
   "version": "3.7.3"
  }
 },
 "nbformat": 4,
 "nbformat_minor": 4
}
