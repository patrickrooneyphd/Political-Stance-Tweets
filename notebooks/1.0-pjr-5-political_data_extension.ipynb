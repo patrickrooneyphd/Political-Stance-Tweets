{
 "cells": [
  {
   "cell_type": "markdown",
   "metadata": {},
   "source": [
    "### Political Data Extension\n",
    "\n",
    "In this notebook, I extend analyses in the \"extra_figures\" notebook to account for CEO and employee political orientations. Organizational research has shown that CEOs and companies themselves tend to have different political orientations that may inform their strategic decisions. For example, companies with more liberal CEOs and a more liberal slant among their employees tend to engage in more corporate social responsibility measures than their conservative peers (Chin et al., 2013 ASQ; Gupta et al., 2017 SMJ). companies with more conservative boards of directors tend to pay their companies' CEOs more and tie CEO compensation more closely to recent company performance (Gupta and Wowack, 2017 ASQ). \n",
    "\n",
    "To I pull down data on CEO and employee political contributions from the [Federal Election Commission website](https://www.fec.gov/data/browse-data/?tab=bulk-data) for individuals working for the companies in my dataset. \n",
    "\n"
   ]
  },
  {
   "cell_type": "code",
   "execution_count": 1,
   "metadata": {},
   "outputs": [],
   "source": [
    "import sys\n",
    "assert sys.version_info >= (3, 5)\n",
    "\n",
    "import zipfile\n",
    "from io import BytesIO\n",
    "import pandas as pd\n",
    "import numpy as np\n",
    "import urllib\n",
    "from selenium import webdriver\n",
    "from selenium.webdriver.common.keys import Keys\n",
    "import time\n",
    "import shutil\n",
    "import os\n",
    "import re\n",
    "import math\n",
    "\n",
    "import nltk\n",
    "from wordcloud import WordCloud\n",
    "from textblob import TextBlob\n",
    "\n",
    "# Import Matplotlib and Seaborn\n",
    "%matplotlib inline\n",
    "import matplotlib as mpl\n",
    "import matplotlib.pyplot as plt\n",
    "mpl.rc('axes', labelsize=14)\n",
    "mpl.rc('xtick', labelsize=12)\n",
    "mpl.rc('ytick', labelsize=12)\n",
    "import seaborn as sns\n",
    "\n",
    "#Import helpful user-defined functions for directories in nb_functions.py\n",
    "from nb_functions import set_project_root, change_dir\n",
    "\n",
    "try:\n",
    "    PROJECT_ROOT\n",
    "except:\n",
    "    PROJECT_ROOT = set_project_root()"
   ]
  },
  {
   "cell_type": "code",
   "execution_count": 2,
   "metadata": {},
   "outputs": [],
   "source": [
    "# Create DF of candidates from 2012-2020 election cycles\n",
    "\n",
    "cand_urls = ['https://www.fec.gov/files/bulk-downloads/2020/cn20.zip', \n",
    "        'https://www.fec.gov/files/bulk-downloads/2018/cn18.zip', \n",
    "        'https://www.fec.gov/files/bulk-downloads/2016/cn16.zip', \n",
    "        'https://www.fec.gov/files/bulk-downloads/2014/cn14.zip', \n",
    "        'https://www.fec.gov/files/bulk-downloads/2012/cn12.zip',\n",
    "       ]\n",
    "\n",
    "cmte_urls = ['https://www.fec.gov/files/bulk-downloads/2020/cm20.zip', \n",
    "             'https://www.fec.gov/files/bulk-downloads/2018/cm18.zip', \n",
    "             'https://www.fec.gov/files/bulk-downloads/2016/cm16.zip', \n",
    "             'https://www.fec.gov/files/bulk-downloads/2014/cm14.zip', \n",
    "             'https://www.fec.gov/files/bulk-downloads/2012/cm12.zip'\n",
    "             ]\n",
    "\n",
    "cand_col_names = ['candidate_id','name','party','election_year', 'state','office', 'district', 'incumbent',\n",
    "             'status', 'committee_id', 'mail_st1', 'mail_st2', 'mail_city', 'mail_state', \n",
    "             'mail_zip'\n",
    "            ]\n",
    "\n",
    "cmte_col_names = ['committee_id', 'name', 'treas_name', 'mail_st1', 'mail_st2', 'mail_city', 'mail_state', \n",
    "                  'mail_zip', 'designation', 'type', 'party', 'filing_freq', 'interest_group', \n",
    "                  'connected_org', 'candidate_id'\n",
    "                 ]\n",
    "\n",
    "cand_df = pd.DataFrame(columns=cand_col_names)\n",
    "cmte_df = pd.DataFrame(columns=cmte_col_names)\n",
    "\n",
    "\n",
    "def create_dataframe(urls, file_name, col_names, df_arg):\n",
    "    for i in range(len(urls)):\n",
    "        z = urllib.request.urlopen(urls[i])\n",
    "        print(f'Opened {urls[i]} file')\n",
    "        myzip = zipfile.ZipFile(BytesIO(z.read())).extract(file_name)\n",
    "        df_temp = pd.read_csv(myzip, delimiter = \"|\", names=col_names)\n",
    "        df_arg = pd.concat([df_arg, df_temp])\n",
    "    df_arg = df_arg.drop_duplicates()\n",
    "    return df_arg"
   ]
  },
  {
   "cell_type": "code",
   "execution_count": 3,
   "metadata": {},
   "outputs": [
    {
     "name": "stdout",
     "output_type": "stream",
     "text": [
      "Opened https://www.fec.gov/files/bulk-downloads/2020/cn20.zip file\n",
      "Opened https://www.fec.gov/files/bulk-downloads/2018/cn18.zip file\n",
      "Opened https://www.fec.gov/files/bulk-downloads/2016/cn16.zip file\n",
      "Opened https://www.fec.gov/files/bulk-downloads/2014/cn14.zip file\n",
      "Opened https://www.fec.gov/files/bulk-downloads/2012/cn12.zip file\n"
     ]
    },
    {
     "data": {
      "text/html": [
       "<div>\n",
       "<style scoped>\n",
       "    .dataframe tbody tr th:only-of-type {\n",
       "        vertical-align: middle;\n",
       "    }\n",
       "\n",
       "    .dataframe tbody tr th {\n",
       "        vertical-align: top;\n",
       "    }\n",
       "\n",
       "    .dataframe thead th {\n",
       "        text-align: right;\n",
       "    }\n",
       "</style>\n",
       "<table border=\"1\" class=\"dataframe\">\n",
       "  <thead>\n",
       "    <tr style=\"text-align: right;\">\n",
       "      <th></th>\n",
       "      <th>candidate_id</th>\n",
       "      <th>name</th>\n",
       "      <th>party</th>\n",
       "      <th>election_year</th>\n",
       "      <th>state</th>\n",
       "      <th>office</th>\n",
       "      <th>district</th>\n",
       "      <th>incumbent</th>\n",
       "      <th>status</th>\n",
       "      <th>committee_id</th>\n",
       "      <th>mail_st1</th>\n",
       "      <th>mail_st2</th>\n",
       "      <th>mail_city</th>\n",
       "      <th>mail_state</th>\n",
       "      <th>mail_zip</th>\n",
       "    </tr>\n",
       "  </thead>\n",
       "  <tbody>\n",
       "    <tr>\n",
       "      <th>0</th>\n",
       "      <td>H0AK00105</td>\n",
       "      <td>LAMB, THOMAS</td>\n",
       "      <td>NNE</td>\n",
       "      <td>2020</td>\n",
       "      <td>AK</td>\n",
       "      <td>H</td>\n",
       "      <td>0.0</td>\n",
       "      <td>C</td>\n",
       "      <td>N</td>\n",
       "      <td>C00607515</td>\n",
       "      <td>1861 W LAKE LUCILLE DR</td>\n",
       "      <td>NaN</td>\n",
       "      <td>WASILLA</td>\n",
       "      <td>AK</td>\n",
       "      <td>99654.0</td>\n",
       "    </tr>\n",
       "    <tr>\n",
       "      <th>1</th>\n",
       "      <td>H0AK00113</td>\n",
       "      <td>TUGATUK, RAY SEAN</td>\n",
       "      <td>DEM</td>\n",
       "      <td>2020</td>\n",
       "      <td>AK</td>\n",
       "      <td>H</td>\n",
       "      <td>0.0</td>\n",
       "      <td>C</td>\n",
       "      <td>N</td>\n",
       "      <td>NaN</td>\n",
       "      <td>PO BOX 172</td>\n",
       "      <td>NaN</td>\n",
       "      <td>MANAKOTAK</td>\n",
       "      <td>AK</td>\n",
       "      <td>99628.0</td>\n",
       "    </tr>\n",
       "    <tr>\n",
       "      <th>2</th>\n",
       "      <td>H0AK01046</td>\n",
       "      <td>CATALANO, THOMAS</td>\n",
       "      <td>OTH</td>\n",
       "      <td>2020</td>\n",
       "      <td>AK</td>\n",
       "      <td>H</td>\n",
       "      <td>0.0</td>\n",
       "      <td>C</td>\n",
       "      <td>N</td>\n",
       "      <td>NaN</td>\n",
       "      <td>188 WEST NORTHERN LIGHTS BOULEVARD</td>\n",
       "      <td>NaN</td>\n",
       "      <td>ANCHORAGE</td>\n",
       "      <td>AK</td>\n",
       "      <td>99503.0</td>\n",
       "    </tr>\n",
       "    <tr>\n",
       "      <th>3</th>\n",
       "      <td>H0AL01055</td>\n",
       "      <td>CARL, JERRY LEE, JR</td>\n",
       "      <td>REP</td>\n",
       "      <td>2020</td>\n",
       "      <td>AL</td>\n",
       "      <td>H</td>\n",
       "      <td>1.0</td>\n",
       "      <td>O</td>\n",
       "      <td>C</td>\n",
       "      <td>C00697789</td>\n",
       "      <td>PO BOX 852138</td>\n",
       "      <td>NaN</td>\n",
       "      <td>MOBILE</td>\n",
       "      <td>AL</td>\n",
       "      <td>36685.0</td>\n",
       "    </tr>\n",
       "    <tr>\n",
       "      <th>4</th>\n",
       "      <td>H0AL01063</td>\n",
       "      <td>LAMBERT, DOUGLAS WESTLEY III</td>\n",
       "      <td>REP</td>\n",
       "      <td>2020</td>\n",
       "      <td>AL</td>\n",
       "      <td>H</td>\n",
       "      <td>1.0</td>\n",
       "      <td>O</td>\n",
       "      <td>C</td>\n",
       "      <td>C00701557</td>\n",
       "      <td>7194 STILLWATER BLVD</td>\n",
       "      <td>NaN</td>\n",
       "      <td>SPANISH FORT</td>\n",
       "      <td>AL</td>\n",
       "      <td>36527.0</td>\n",
       "    </tr>\n",
       "  </tbody>\n",
       "</table>\n",
       "</div>"
      ],
      "text/plain": [
       "  candidate_id                          name party election_year state office  \\\n",
       "0    H0AK00105                  LAMB, THOMAS   NNE          2020    AK      H   \n",
       "1    H0AK00113             TUGATUK, RAY SEAN   DEM          2020    AK      H   \n",
       "2    H0AK01046              CATALANO, THOMAS   OTH          2020    AK      H   \n",
       "3    H0AL01055           CARL, JERRY LEE, JR   REP          2020    AL      H   \n",
       "4    H0AL01063  LAMBERT, DOUGLAS WESTLEY III   REP          2020    AL      H   \n",
       "\n",
       "   district incumbent status committee_id                            mail_st1  \\\n",
       "0       0.0         C      N    C00607515              1861 W LAKE LUCILLE DR   \n",
       "1       0.0         C      N          NaN                          PO BOX 172   \n",
       "2       0.0         C      N          NaN  188 WEST NORTHERN LIGHTS BOULEVARD   \n",
       "3       1.0         O      C    C00697789                       PO BOX 852138   \n",
       "4       1.0         O      C    C00701557                7194 STILLWATER BLVD   \n",
       "\n",
       "  mail_st2     mail_city mail_state  mail_zip  \n",
       "0      NaN       WASILLA         AK   99654.0  \n",
       "1      NaN     MANAKOTAK         AK   99628.0  \n",
       "2      NaN     ANCHORAGE         AK   99503.0  \n",
       "3      NaN        MOBILE         AL   36685.0  \n",
       "4      NaN  SPANISH FORT         AL   36527.0  "
      ]
     },
     "execution_count": 3,
     "metadata": {},
     "output_type": "execute_result"
    }
   ],
   "source": [
    "# Create DF of candidates from 2012-2020 election cycles\n",
    "cand_df = create_dataframe(cand_urls, 'cn.txt', cand_col_names, cand_df)\n",
    "cand_df.head()"
   ]
  },
  {
   "cell_type": "code",
   "execution_count": 4,
   "metadata": {},
   "outputs": [
    {
     "name": "stdout",
     "output_type": "stream",
     "text": [
      "Opened https://www.fec.gov/files/bulk-downloads/2020/cm20.zip file\n",
      "Opened https://www.fec.gov/files/bulk-downloads/2018/cm18.zip file\n",
      "Opened https://www.fec.gov/files/bulk-downloads/2016/cm16.zip file\n",
      "Opened https://www.fec.gov/files/bulk-downloads/2014/cm14.zip file\n",
      "Opened https://www.fec.gov/files/bulk-downloads/2012/cm12.zip file\n"
     ]
    },
    {
     "data": {
      "text/html": [
       "<div>\n",
       "<style scoped>\n",
       "    .dataframe tbody tr th:only-of-type {\n",
       "        vertical-align: middle;\n",
       "    }\n",
       "\n",
       "    .dataframe tbody tr th {\n",
       "        vertical-align: top;\n",
       "    }\n",
       "\n",
       "    .dataframe thead th {\n",
       "        text-align: right;\n",
       "    }\n",
       "</style>\n",
       "<table border=\"1\" class=\"dataframe\">\n",
       "  <thead>\n",
       "    <tr style=\"text-align: right;\">\n",
       "      <th></th>\n",
       "      <th>committee_id</th>\n",
       "      <th>name</th>\n",
       "      <th>treas_name</th>\n",
       "      <th>mail_st1</th>\n",
       "      <th>mail_st2</th>\n",
       "      <th>mail_city</th>\n",
       "      <th>mail_state</th>\n",
       "      <th>mail_zip</th>\n",
       "      <th>designation</th>\n",
       "      <th>type</th>\n",
       "      <th>party</th>\n",
       "      <th>filing_freq</th>\n",
       "      <th>interest_group</th>\n",
       "      <th>connected_org</th>\n",
       "      <th>candidate_id</th>\n",
       "    </tr>\n",
       "  </thead>\n",
       "  <tbody>\n",
       "    <tr>\n",
       "      <th>0</th>\n",
       "      <td>C00000059</td>\n",
       "      <td>HALLMARK CARDS PAC</td>\n",
       "      <td>SARAH MOE</td>\n",
       "      <td>2501 MCGEE</td>\n",
       "      <td>MD #500</td>\n",
       "      <td>KANSAS CITY</td>\n",
       "      <td>MO</td>\n",
       "      <td>64108</td>\n",
       "      <td>U</td>\n",
       "      <td>Q</td>\n",
       "      <td>UNK</td>\n",
       "      <td>M</td>\n",
       "      <td>C</td>\n",
       "      <td>NaN</td>\n",
       "      <td>NaN</td>\n",
       "    </tr>\n",
       "    <tr>\n",
       "      <th>1</th>\n",
       "      <td>C00000422</td>\n",
       "      <td>AMERICAN MEDICAL ASSOCIATION POLITICAL ACTION ...</td>\n",
       "      <td>WALKER, KEVIN MR.</td>\n",
       "      <td>25 MASSACHUSETTS AVE, NW</td>\n",
       "      <td>SUITE 600</td>\n",
       "      <td>WASHINGTON</td>\n",
       "      <td>DC</td>\n",
       "      <td>200017400</td>\n",
       "      <td>B</td>\n",
       "      <td>Q</td>\n",
       "      <td>NaN</td>\n",
       "      <td>M</td>\n",
       "      <td>M</td>\n",
       "      <td>DELAWARE MEDICAL PAC</td>\n",
       "      <td>NaN</td>\n",
       "    </tr>\n",
       "    <tr>\n",
       "      <th>2</th>\n",
       "      <td>C00000489</td>\n",
       "      <td>D R I V E POLITICAL FUND CHAPTER 886</td>\n",
       "      <td>JERRY SIMS JR</td>\n",
       "      <td>3528 W RENO</td>\n",
       "      <td>NaN</td>\n",
       "      <td>OKLAHOMA CITY</td>\n",
       "      <td>OK</td>\n",
       "      <td>73107</td>\n",
       "      <td>U</td>\n",
       "      <td>N</td>\n",
       "      <td>NaN</td>\n",
       "      <td>Q</td>\n",
       "      <td>L</td>\n",
       "      <td>NaN</td>\n",
       "      <td>NaN</td>\n",
       "    </tr>\n",
       "    <tr>\n",
       "      <th>3</th>\n",
       "      <td>C00000547</td>\n",
       "      <td>KANSAS MEDICAL SOCIETY POLITICAL ACTION COMMITTEE</td>\n",
       "      <td>JERRY SLAUGHTER</td>\n",
       "      <td>623 SW 10TH AVE</td>\n",
       "      <td>NaN</td>\n",
       "      <td>TOPEKA</td>\n",
       "      <td>KS</td>\n",
       "      <td>666121627</td>\n",
       "      <td>U</td>\n",
       "      <td>Q</td>\n",
       "      <td>UNK</td>\n",
       "      <td>Q</td>\n",
       "      <td>M</td>\n",
       "      <td>KANSAS MEDICAL SOCIETY</td>\n",
       "      <td>NaN</td>\n",
       "    </tr>\n",
       "    <tr>\n",
       "      <th>4</th>\n",
       "      <td>C00000638</td>\n",
       "      <td>INDIANA STATE MEDICAL ASSOCIATION POLITICAL AC...</td>\n",
       "      <td>ACHENBACH, GRANT MR.</td>\n",
       "      <td>322 CANAL WALK, CANAL LEVEL</td>\n",
       "      <td>NaN</td>\n",
       "      <td>INDIANAPOLIS</td>\n",
       "      <td>IN</td>\n",
       "      <td>46202</td>\n",
       "      <td>U</td>\n",
       "      <td>Q</td>\n",
       "      <td>NaN</td>\n",
       "      <td>T</td>\n",
       "      <td>M</td>\n",
       "      <td>NaN</td>\n",
       "      <td>NaN</td>\n",
       "    </tr>\n",
       "  </tbody>\n",
       "</table>\n",
       "</div>"
      ],
      "text/plain": [
       "  committee_id                                               name  \\\n",
       "0    C00000059                                 HALLMARK CARDS PAC   \n",
       "1    C00000422  AMERICAN MEDICAL ASSOCIATION POLITICAL ACTION ...   \n",
       "2    C00000489               D R I V E POLITICAL FUND CHAPTER 886   \n",
       "3    C00000547  KANSAS MEDICAL SOCIETY POLITICAL ACTION COMMITTEE   \n",
       "4    C00000638  INDIANA STATE MEDICAL ASSOCIATION POLITICAL AC...   \n",
       "\n",
       "             treas_name                     mail_st1   mail_st2  \\\n",
       "0             SARAH MOE                   2501 MCGEE    MD #500   \n",
       "1     WALKER, KEVIN MR.     25 MASSACHUSETTS AVE, NW  SUITE 600   \n",
       "2         JERRY SIMS JR                  3528 W RENO        NaN   \n",
       "3       JERRY SLAUGHTER              623 SW 10TH AVE        NaN   \n",
       "4  ACHENBACH, GRANT MR.  322 CANAL WALK, CANAL LEVEL        NaN   \n",
       "\n",
       "       mail_city mail_state   mail_zip designation type party filing_freq  \\\n",
       "0    KANSAS CITY         MO      64108           U    Q   UNK           M   \n",
       "1     WASHINGTON         DC  200017400           B    Q   NaN           M   \n",
       "2  OKLAHOMA CITY         OK      73107           U    N   NaN           Q   \n",
       "3         TOPEKA         KS  666121627           U    Q   UNK           Q   \n",
       "4   INDIANAPOLIS         IN      46202           U    Q   NaN           T   \n",
       "\n",
       "  interest_group           connected_org candidate_id  \n",
       "0              C                     NaN          NaN  \n",
       "1              M    DELAWARE MEDICAL PAC          NaN  \n",
       "2              L                     NaN          NaN  \n",
       "3              M  KANSAS MEDICAL SOCIETY          NaN  \n",
       "4              M                     NaN          NaN  "
      ]
     },
     "execution_count": 4,
     "metadata": {},
     "output_type": "execute_result"
    }
   ],
   "source": [
    "# Create DF of committees from 2012-2020 election cycles\n",
    "cmte_df = create_dataframe(cmte_urls, 'cm.txt', cmte_col_names, cmte_df)\n",
    "cmte_df.head()"
   ]
  },
  {
   "cell_type": "code",
   "execution_count": 5,
   "metadata": {},
   "outputs": [
    {
     "name": "stdout",
     "output_type": "stream",
     "text": [
      "<class 'pandas.core.frame.DataFrame'>\n",
      "Int64Index: 69568 entries, 0 to 14454\n",
      "Data columns (total 15 columns):\n",
      " #   Column          Non-Null Count  Dtype \n",
      "---  ------          --------------  ----- \n",
      " 0   committee_id    69568 non-null  object\n",
      " 1   name            69554 non-null  object\n",
      " 2   treas_name      65699 non-null  object\n",
      " 3   mail_st1        69504 non-null  object\n",
      " 4   mail_st2        13299 non-null  object\n",
      " 5   mail_city       69525 non-null  object\n",
      " 6   mail_state      69530 non-null  object\n",
      " 7   mail_zip        69485 non-null  object\n",
      " 8   designation     69521 non-null  object\n",
      " 9   type            69548 non-null  object\n",
      " 10  party           27394 non-null  object\n",
      " 11  filing_freq     69568 non-null  object\n",
      " 12  interest_group  12835 non-null  object\n",
      " 13  connected_org   25365 non-null  object\n",
      " 14  candidate_id    26379 non-null  object\n",
      "dtypes: object(15)\n",
      "memory usage: 8.5+ MB\n"
     ]
    }
   ],
   "source": [
    "cmte_df.info()"
   ]
  },
  {
   "cell_type": "code",
   "execution_count": 6,
   "metadata": {},
   "outputs": [
    {
     "name": "stdout",
     "output_type": "stream",
     "text": [
      "<class 'pandas.core.frame.DataFrame'>\n",
      "Int64Index: 26846 entries, 0 to 5627\n",
      "Data columns (total 15 columns):\n",
      " #   Column         Non-Null Count  Dtype  \n",
      "---  ------         --------------  -----  \n",
      " 0   candidate_id   26846 non-null  object \n",
      " 1   name           26846 non-null  object \n",
      " 2   party          26806 non-null  object \n",
      " 3   election_year  26846 non-null  object \n",
      " 4   state          26846 non-null  object \n",
      " 5   office         26846 non-null  object \n",
      " 6   district       26809 non-null  float64\n",
      " 7   incumbent      25761 non-null  object \n",
      " 8   status         26840 non-null  object \n",
      " 9   committee_id   20726 non-null  object \n",
      " 10  mail_st1       26355 non-null  object \n",
      " 11  mail_st2       1981 non-null   object \n",
      " 12  mail_city      26822 non-null  object \n",
      " 13  mail_state     26372 non-null  object \n",
      " 14  mail_zip       26336 non-null  float64\n",
      "dtypes: float64(2), object(13)\n",
      "memory usage: 3.3+ MB\n"
     ]
    }
   ],
   "source": [
    "cand_df.info()"
   ]
  },
  {
   "cell_type": "code",
   "execution_count": 7,
   "metadata": {},
   "outputs": [],
   "source": [
    "# Create list of companies\n",
    "# Start chrome driver\n",
    "# Navigate to the FEC page of individual contributions\n",
    "    # Select years for election cycles 2012-2020\n",
    "    # Set $200 contribution minimum"
   ]
  },
  {
   "cell_type": "code",
   "execution_count": 8,
   "metadata": {},
   "outputs": [
    {
     "name": "stdout",
     "output_type": "stream",
     "text": [
      "      \n",
      "New Working Directory: ~/data\n",
      "      \n",
      "New Working Directory: ~/notebooks\n"
     ]
    }
   ],
   "source": [
    "# Create list of companies, CEOs. \n",
    "# Create objects for URLs and directory locations needed for web crawling\n",
    "    \n",
    "    # Get company names from accounts.py in src folder\n",
    "change_dir(PROJECT_ROOT, '/data')\n",
    "companies_df = pd.read_csv(\"common_company_names.csv\")\n",
    "company_list = list(companies_df['common_name'])\n",
    "change_dir(PROJECT_ROOT, '/notebooks')\n",
    "\n",
    "    # Hard code CEO names since account name != person name in accounts.py\n",
    "ceo_dict = {\"Sundar Pichai\": \"ALPHABET INC\", \"Jeff Bezos\": \"AMAZON.COM INC\", \"Tim Cook\": \"APPLE INC\",\n",
    "        \"Charles Robbins\": \"CISCO SYSTEMS INC\", \"Lawrence Merlo\": \"CVS HEALTH CORP\", \"Michael Dell\": \"DELL TECHNOLOGIES INC\",\n",
    "        \"Robert Iger\": \"DISNEY (WALT) CO\", \"Jim Fitterling\": \"DOW INC\",\n",
    "        \"Mary Barra\": \"GENERAL MOTORS CO\",\n",
    "        \"Marvin Ellison\": \"LOWE'S COS INC\",\n",
    "        \"Satya Nadella\": \"MICROSOFT CORP\", \"Ramon Laguarta\": \"PEPSICO INC\", \"Albert Bourla\": \"PFIZER INC\",\n",
    "        \"Hans Vestberg\": \"VERIZON COMMUNICATIONS INC\"\n",
    "        }\n"
   ]
  },
  {
   "cell_type": "code",
   "execution_count": 9,
   "metadata": {
    "scrolled": true
   },
   "outputs": [],
   "source": [
    "# Note that unique queries have unique URLs, so can navigate via adding company/CEO names into URLs\n",
    "\n",
    "source = '/Users/pjrooney/Downloads'\n",
    "destination = PROJECT_ROOT + '/data/temp_data'\n",
    "chrome_driver_location = '/Users/pjrooney/PythonProjects/chromedriver' # Download chromedriver and change to your dir \n",
    "\n",
    "def chunk_maker(lst, n):\n",
    "    for i in range(0, len(lst), n):\n",
    "        lst_gen = lst[i:i + n]\n",
    "        lst_gen = [\"&contributor_employer=\" + s for s in lst_gen]\n",
    "        yield lst_gen"
   ]
  },
  {
   "cell_type": "code",
   "execution_count": 10,
   "metadata": {},
   "outputs": [],
   "source": [
    "def download_company_data(employers_url_gen, n_iter):    \n",
    "    for n in range(n_iter):\n",
    "        employer_key = next(employers_url_gen)\n",
    "        employer = employer_key[-1].replace(\"&contributor_employer=\", \"\")\n",
    "        employer_key = \"\".join(employer_key)\n",
    "        company_url_base = (\"https://www.fec.gov/data/receipts/individual-contributions/?\"\n",
    "                    + employer_key + \"&two_year_transaction_period=2020\"\n",
    "                    \"&two_year_transaction_period=2018&two_year_transaction_period=2016\"\n",
    "                    \"&two_year_transaction_period=2014&two_year_transaction_period=2012&min_amount=200\"\n",
    "                   )\n",
    "        driver.get(company_url_base)\n",
    "        print(f\"Getting data for employees through {employer}\")\n",
    "        time.sleep(900)\n",
    "        export_button = driver.find_element_by_class_name(\"data-container__export\")\n",
    "        export_button.click()\n",
    "        print(f\"...Exporting data\")\n",
    "        time.sleep(900)\n",
    "        download_button = driver.find_element_by_class_name(\"download__item\")\n",
    "        download_button.click()\n",
    "        print(f\"...Downloading data\")\n",
    "        x_download_button = driver.find_element_by_xpath(\"//button[@class='js-close button--cancel download__cancel']\")\n",
    "        x_download_button.click()\n",
    "        time.sleep(60)\n",
    "        print(f\"...Moving .csv\")\n",
    "        for filename in os.listdir(source):\n",
    "            root, ext = os.path.splitext(filename)\n",
    "            if root.startswith('schedule_a') and ext == '.csv':\n",
    "                file = filename\n",
    "        source_file_path = os.path.join(source + '/' + file)\n",
    "        dest_file_path = os.path.join(destination + '/' + file)\n",
    "        os.makedirs(os.path.dirname(dest_file_path), exist_ok=True)\n",
    "        shutil.move(source_file_path, dest_file_path)\n",
    "        os.chdir(destination)\n",
    "        time.sleep(60)\n",
    "        print(f\"...Renaming .csv\")\n",
    "        num_file = n+1\n",
    "        num_str = str(num_file)\n",
    "        os.rename(file, 'company_data_' + num_str + '.csv')\n"
   ]
  },
  {
   "cell_type": "code",
   "execution_count": 11,
   "metadata": {},
   "outputs": [],
   "source": [
    "# Create chunks of 10 company names per search (site limit), import .csv files to project folder\n",
    "\n",
    "# chunked_list_gen = chunk_maker(company_list, 10)\n",
    "# num_chunks = math.ceil(len(company_list) / 10)\n",
    "\n",
    "# driver = webdriver.Chrome(chrome_driver_location)\n",
    "# download_company_data(chunked_list_gen, num_chunks)"
   ]
  },
  {
   "cell_type": "code",
   "execution_count": 12,
   "metadata": {},
   "outputs": [
    {
     "name": "stdout",
     "output_type": "stream",
     "text": [
      "      \n",
      "New Working Directory: ~/data/temp_data\n"
     ]
    },
    {
     "name": "stderr",
     "output_type": "stream",
     "text": [
      "/Users/pjrooney/Dropbox/Rotman/Research/_Dissertation/PoliticalStancesAndStrategy/5_Data/4_F100Tweets/Political Stance Tweets/.venv/lib/python3.8/site-packages/IPython/core/interactiveshell.py:3146: DtypeWarning: Columns (37,50,51,52,53,54,57,61) have mixed types.Specify dtype option on import or set low_memory=False.\n",
      "  has_raised = await self.run_ast_nodes(code_ast.body, cell_name,\n",
      "/Users/pjrooney/Dropbox/Rotman/Research/_Dissertation/PoliticalStancesAndStrategy/5_Data/4_F100Tweets/Political Stance Tweets/.venv/lib/python3.8/site-packages/IPython/core/interactiveshell.py:3146: DtypeWarning: Columns (25,37,38,39,40,44,45,46,47,52,56,57) have mixed types.Specify dtype option on import or set low_memory=False.\n",
      "  has_raised = await self.run_ast_nodes(code_ast.body, cell_name,\n",
      "/Users/pjrooney/Dropbox/Rotman/Research/_Dissertation/PoliticalStancesAndStrategy/5_Data/4_F100Tweets/Political Stance Tweets/.venv/lib/python3.8/site-packages/IPython/core/interactiveshell.py:3146: DtypeWarning: Columns (37,38,39,40,44,45,46,47,52,56,57) have mixed types.Specify dtype option on import or set low_memory=False.\n",
      "  has_raised = await self.run_ast_nodes(code_ast.body, cell_name,\n",
      "/Users/pjrooney/Dropbox/Rotman/Research/_Dissertation/PoliticalStancesAndStrategy/5_Data/4_F100Tweets/Political Stance Tweets/.venv/lib/python3.8/site-packages/IPython/core/interactiveshell.py:3146: DtypeWarning: Columns (25,37,38,39,40,41,44,45,46,47,52,56,57) have mixed types.Specify dtype option on import or set low_memory=False.\n",
      "  has_raised = await self.run_ast_nodes(code_ast.body, cell_name,\n",
      "/Users/pjrooney/Dropbox/Rotman/Research/_Dissertation/PoliticalStancesAndStrategy/5_Data/4_F100Tweets/Political Stance Tweets/.venv/lib/python3.8/site-packages/IPython/core/interactiveshell.py:3146: DtypeWarning: Columns (20,25,37,38,39,40,41,43,44,45,46,47,50,51,52,53,54,56,57) have mixed types.Specify dtype option on import or set low_memory=False.\n",
      "  has_raised = await self.run_ast_nodes(code_ast.body, cell_name,\n",
      "/Users/pjrooney/Dropbox/Rotman/Research/_Dissertation/PoliticalStancesAndStrategy/5_Data/4_F100Tweets/Political Stance Tweets/.venv/lib/python3.8/site-packages/IPython/core/interactiveshell.py:3146: DtypeWarning: Columns (25,37,38,39,40,41,42,43,44,45,46,47,52,56,57) have mixed types.Specify dtype option on import or set low_memory=False.\n",
      "  has_raised = await self.run_ast_nodes(code_ast.body, cell_name,\n",
      "/Users/pjrooney/Dropbox/Rotman/Research/_Dissertation/PoliticalStancesAndStrategy/5_Data/4_F100Tweets/Political Stance Tweets/.venv/lib/python3.8/site-packages/IPython/core/interactiveshell.py:3146: DtypeWarning: Columns (25,37,52,56,57,61) have mixed types.Specify dtype option on import or set low_memory=False.\n",
      "  has_raised = await self.run_ast_nodes(code_ast.body, cell_name,\n",
      "/Users/pjrooney/Dropbox/Rotman/Research/_Dissertation/PoliticalStancesAndStrategy/5_Data/4_F100Tweets/Political Stance Tweets/.venv/lib/python3.8/site-packages/IPython/core/interactiveshell.py:3146: DtypeWarning: Columns (37,52,56,57) have mixed types.Specify dtype option on import or set low_memory=False.\n",
      "  has_raised = await self.run_ast_nodes(code_ast.body, cell_name,\n",
      "/Users/pjrooney/Dropbox/Rotman/Research/_Dissertation/PoliticalStancesAndStrategy/5_Data/4_F100Tweets/Political Stance Tweets/.venv/lib/python3.8/site-packages/IPython/core/interactiveshell.py:3146: DtypeWarning: Columns (12,20,38,39,40,44,45,46,47,52,56,57) have mixed types.Specify dtype option on import or set low_memory=False.\n",
      "  has_raised = await self.run_ast_nodes(code_ast.body, cell_name,\n"
     ]
    }
   ],
   "source": [
    "# keep committee_id, committee_name, report_year, report_type, contributor_name, \n",
    "# contributor_street_1, contributor_employer, contributor_occupation, contribution_receipt_date, \n",
    "# contribution_receipt_amount, contributor_aggregate_ytd, link_id, two_year_transaction_period,\n",
    "\n",
    "change_dir(PROJECT_ROOT, \"/data/temp_data\")\n",
    "\n",
    "import glob\n",
    "\n",
    "file_path = os.getcwd()\n",
    "all_files = glob.glob(file_path + '/*.csv')\n",
    "\n",
    "df_list = []\n",
    "\n",
    "for file in all_files:\n",
    "    df = pd.read_csv(file)\n",
    "    df = df[['committee_id', 'committee_name', 'report_year', 'report_type', 'contributor_name',\n",
    "               'contributor_street_1', 'contributor_employer', 'contributor_occupation', \n",
    "               'contribution_receipt_date', 'contribution_receipt_amount', \n",
    "               'contributor_aggregate_ytd', 'link_id', 'two_year_transaction_period']]\n",
    "    df_list.append(df)\n",
    "\n",
    "indiv_df = pd.concat(df_list, axis=0, ignore_index=True)  "
   ]
  },
  {
   "cell_type": "code",
   "execution_count": 13,
   "metadata": {},
   "outputs": [
    {
     "name": "stdout",
     "output_type": "stream",
     "text": [
      "<class 'pandas.core.frame.DataFrame'>\n",
      "RangeIndex: 641523 entries, 0 to 641522\n",
      "Data columns (total 13 columns):\n",
      " #   Column                       Non-Null Count   Dtype  \n",
      "---  ------                       --------------   -----  \n",
      " 0   committee_id                 641523 non-null  object \n",
      " 1   committee_name               641523 non-null  object \n",
      " 2   report_year                  641523 non-null  int64  \n",
      " 3   report_type                  630162 non-null  object \n",
      " 4   contributor_name             641508 non-null  object \n",
      " 5   contributor_street_1         641333 non-null  object \n",
      " 6   contributor_employer         641523 non-null  object \n",
      " 7   contributor_occupation       640553 non-null  object \n",
      " 8   contribution_receipt_date    641506 non-null  object \n",
      " 9   contribution_receipt_amount  641523 non-null  float64\n",
      " 10  contributor_aggregate_ytd    641503 non-null  float64\n",
      " 11  link_id                      641523 non-null  int64  \n",
      " 12  two_year_transaction_period  641523 non-null  int64  \n",
      "dtypes: float64(2), int64(3), object(8)\n",
      "memory usage: 63.6+ MB\n"
     ]
    }
   ],
   "source": [
    "indiv_df.info()"
   ]
  },
  {
   "cell_type": "markdown",
   "metadata": {},
   "source": [
    "<br><br>\n",
    "The individual-entered employer data for this dataset is quite messy, with many different\n",
    "entries and misspellings for individual companies. \n",
    "\n",
    "Given the very large size of this data (600,000+ entries), I will simplify the cleaning problem\n",
    "using the following technique below. This will inevitably cause some data loss. The main goal of this cleaning is to assign political orientations to firms. It is reasonable to assume that a person's tendency to use less common spellings and misspellings of their employer is not highly correlated with individual political orientation. After applying the cleaning algorithm below, I anticipate that I will have a strong sense of organization political orientation.\n",
    "\n",
    "1. Match company list to the list of individual contributors' employers to create an initial \"match_var\" boolean feature (This will mark any obvious mistake from the FEC search function as \"false\").\n",
    "\n",
    "2. Make sure abbreviations (e.g., ADM) are not counted in substrings within words (e.g., \"Federal Aviation Administration\"). I'll add a space character after these elements to eliminate them appearing as a substring in other employers that aren't in our sample.\n",
    "\n",
    "3. Using value counts, examine the top 200 most-occurring names, remove obvious mistakes, and check that all of the companies provided appear at least once in this series. If not, increase bandwidth by 100 most-occurring names until at least 80% of company list appears in the most-occurring name series. Add the (likely small) number of missing companies to the most-occurring names that don't already have an alternative version of the name in the most-occurring names list.\n",
    "\n",
    "4. Examine new list of companies and individually clean any mistakes. Apply these names as a new company list and complete the same step in 1, but with exact match. \n",
    "\n",
    "5. Use the Levenshtein distance to determine similar names (and misspellings). Limit the allowable distance to 5 changed characters. Change all other instances of match_var to false and drop false instances.\n",
    "<br><br>"
   ]
  },
  {
   "cell_type": "code",
   "execution_count": 14,
   "metadata": {},
   "outputs": [],
   "source": [
    "# 1. Clean Employer Data\n",
    "    # Clean company list for regex match\n",
    "company_list = [x.upper() for x in company_list]\n",
    "company_list = [x.replace('+', '&') for x in company_list]\n",
    "company_list_orig = company_list.copy()\n",
    "\n",
    "# 2. Remove companies that are substrings of many companies\n",
    "set_to_remove = ('ADM', 'CITI', 'CHARTER', 'DOW', 'DELTA', 'FORD', 'INTEL', 'SIERRA')\n",
    "company_list = [x for x in company_list if x not in set_to_remove]\n",
    "\n",
    "# Add back companies with improved substring formatting\n",
    "list_to_extend = [\"COCA-COLA\", \"JOHNSON & JOHNSON\", \"PROCTER & GAMBLE\", \"AT & T\", \"ADM \", \"CITI \", \"CHARTER \", \"DOW \", \"DELTA \", \"INTEL \", \"FORD \"]\n",
    "company_list.extend(list_to_extend)\n",
    "\n",
    "# See if employer contains any element of company_list\n",
    "\n",
    "pattern = '|'.join(company_list)\n",
    "indiv_df['match_var'] = indiv_df['contributor_employer'].str.contains(pattern, regex=True)"
   ]
  },
  {
   "cell_type": "code",
   "execution_count": 15,
   "metadata": {},
   "outputs": [],
   "source": [
    "# 3. Take the top 300 matches from value counts, clean individual mistakes\n",
    "alg_lst = indiv_df['contributor_employer'][indiv_df['match_var']==True].value_counts().index.tolist()[:300]\n",
    "# alg_lst #<- Uncomment to manually look through entire list"
   ]
  },
  {
   "cell_type": "code",
   "execution_count": 16,
   "metadata": {},
   "outputs": [],
   "source": [
    "alg_lst_set_to_remove = ['COMCAST (CC) OF WILLOW GROVE', 'HENRY FORD HEALTH SYSTEM', \n",
    "                         'HENRY FORD HOSPITAL', 'PORTLAND GENERAL ELECTRIC CO.', \n",
    "                         'HENRY FORD HEALTH SYSTEMS', 'DELTA DENTAL', 'GORDON THOMAS HONEYWELL',\n",
    "                         'FOX CHASE CANCER CENTER', 'MIDWAY FORD TRUCK CENTER', \n",
    "                         'DELTA DENTAL PLANS ASSOCIATION', 'CHARTER BROKERAGE', \n",
    "                         'DELTA MEDIX UROLOGY', 'DOW LOHNES', 'DELTA DENTAL OF WASHINGTON', \n",
    "                         'EM UPSTR INTEG SOLTNS CO', 'PROGRESSIVE LEASING',\n",
    "                         'SUNY UPSTATE MEDICAL UNIVERSITY', \n",
    "                         'CHARTER BROKERAGE LLC', 'DELTA STRATEGY GROUP', \n",
    "                         'MARATHON ASSET MANAGEMENT'\n",
    "                        ]\n",
    "alg_lst = [x for x in alg_lst if x not in alg_lst_set_to_remove]"
   ]
  },
  {
   "cell_type": "code",
   "execution_count": 17,
   "metadata": {},
   "outputs": [],
   "source": [
    "# 3. Ctd. See the % match of company_list on alg_list\n",
    "def calc_pct_coverage(full_lst, algo_lst):\n",
    "    counter = 0\n",
    "    list_len = len(full_lst)\n",
    "    miss_lst = []\n",
    "    for i in full_lst:\n",
    "        if i in algo_lst:\n",
    "            counter += 1\n",
    "        else:\n",
    "            miss_lst.append(i)\n",
    "    return counter / list_len, miss_lst"
   ]
  },
  {
   "cell_type": "code",
   "execution_count": 18,
   "metadata": {},
   "outputs": [
    {
     "data": {
      "text/plain": [
       "(0.8791208791208791,\n",
       " ['CONOCO',\n",
       "  'DEERE',\n",
       "  'HELMERICH',\n",
       "  'INTERNATIONAL BUSINESS MACHINES',\n",
       "  'JOHNSON&JOHNSON',\n",
       "  'MARATHON',\n",
       "  'PEPSI',\n",
       "  'PROCTER&GAMBLE',\n",
       "  'SYSCO',\n",
       "  'TECH DATA',\n",
       "  'TJX'])"
      ]
     },
     "execution_count": 18,
     "metadata": {},
     "output_type": "execute_result"
    }
   ],
   "source": [
    "company_list_remove_set = ('AT & T', 'ADM ', 'CITI ', 'CHARTER ', 'DOW ', 'DELTA ', 'INTEL ',\n",
    "                            'FORD ')\n",
    "company_list = [w for w in company_list if w not in company_list_remove_set]\n",
    "results = calc_pct_coverage(company_list, alg_lst)\n",
    "results"
   ]
  },
  {
   "cell_type": "code",
   "execution_count": 19,
   "metadata": {},
   "outputs": [],
   "source": [
    "# 4. Exact match of company names and alg_list\n",
    "\n",
    "alg_lst.extend(company_list_orig)\n",
    "pattern = '^' + '$|^'.join(alg_lst) + '$'\n",
    "indiv_df['match_var'] = indiv_df['contributor_employer'].str.fullmatch(pattern)"
   ]
  },
  {
   "cell_type": "code",
   "execution_count": 20,
   "metadata": {},
   "outputs": [
    {
     "data": {
      "text/plain": [
       "True     479359\n",
       "False    162164\n",
       "Name: match_var, dtype: int64"
      ]
     },
     "execution_count": 20,
     "metadata": {},
     "output_type": "execute_result"
    }
   ],
   "source": [
    "indiv_df['match_var'].value_counts()"
   ]
  },
  {
   "cell_type": "code",
   "execution_count": 21,
   "metadata": {},
   "outputs": [
    {
     "data": {
      "text/plain": [
       "FEDERAL AVIATION ADMINISTRATION    20303\n",
       "COMCAST (CC) OF WILLOW GROVE        2360\n",
       "SIERRA NEVADA CORPORATION           2176\n",
       "STEPTOE & JOHNSON, LLP              1527\n",
       "STEPTOE & JOHNSON LLP               1477\n",
       "                                   ...  \n",
       "UNITED AIRLINES, INC.                100\n",
       "THE UPS STORE                        100\n",
       "SUNY DOWNSTATE                        99\n",
       "THE DELLA PORTA GROUP, INC.           99\n",
       "CVS PHARMACY                          98\n",
       "Name: contributor_employer, Length: 100, dtype: int64"
      ]
     },
     "execution_count": 21,
     "metadata": {},
     "output_type": "execute_result"
    }
   ],
   "source": [
    "alg_lst_check = indiv_df['contributor_employer'][indiv_df['match_var']==False].value_counts()\n",
    "alg_lst_check[:100]"
   ]
  },
  {
   "cell_type": "code",
   "execution_count": 22,
   "metadata": {},
   "outputs": [],
   "source": [
    "# Not Bad! Let's change obvious mistakes among names with over 100 entries that our Levenshtein\n",
    "# distance measure won't catch\n",
    "\n",
    "alg_lst.extend(['AMERISOURCEBERGEN CORPORATION', 'CAPITAL ONE BANK', 'VALERO ENERGY CORP', 'WALT DISNEY PARKS & RESORTS'])\n",
    "pattern = '^' + '$|^'.join(alg_lst) + '$'\n",
    "indiv_df['match_var'] = indiv_df['contributor_employer'].str.fullmatch(pattern)"
   ]
  },
  {
   "cell_type": "code",
   "execution_count": 23,
   "metadata": {},
   "outputs": [],
   "source": [
    "# 5. Let's account for misspellings of our companies by allowing for 5 character changes from our \n",
    "# alg_list to be labelled as \"True\" for these companies. \n",
    "# While this decision may lead to the introduction of a few companies that aren't F100 employers\n",
    "# This will help gather misspelled employers or situations where strings could be formatted \n",
    "# differently for the same employers (e.g., end in \"INC\" vs \"INC.\").\n",
    "\n",
    "import Levenshtein as lev\n",
    "\n",
    "def lev_change(full_set, word_list, num_changes):\n",
    "    for s in full_set:\n",
    "        for w in word_list:\n",
    "            if lev.distance(s, w) <= num_changes:\n",
    "                word_list.append(s) # Find the row by column\n",
    "                break\n",
    "    return word_list"
   ]
  },
  {
   "cell_type": "code",
   "execution_count": 24,
   "metadata": {},
   "outputs": [],
   "source": [
    "employer_set = set(indiv_df['contributor_employer'])"
   ]
  },
  {
   "cell_type": "code",
   "execution_count": 26,
   "metadata": {},
   "outputs": [],
   "source": [
    "final_lst = lev_change(employer_set, alg_lst, 2)"
   ]
  },
  {
   "cell_type": "code",
   "execution_count": 27,
   "metadata": {},
   "outputs": [],
   "source": [
    "final_lst = [w.replace(\"?\",\" \") for w in final_lst] # <-Remove a ? from one of the strings\n",
    "pattern = '^' + '$|^'.join(final_lst) + '$'"
   ]
  },
  {
   "cell_type": "code",
   "execution_count": 28,
   "metadata": {},
   "outputs": [
    {
     "data": {
      "text/plain": [
       "True     487591\n",
       "False    153932\n",
       "Name: match_var, dtype: int64"
      ]
     },
     "execution_count": 28,
     "metadata": {},
     "output_type": "execute_result"
    }
   ],
   "source": [
    "indiv_df['match_var'] = indiv_df['contributor_employer'].str.fullmatch(pattern)\n",
    "indiv_df['match_var'].value_counts()"
   ]
  },
  {
   "cell_type": "code",
   "execution_count": 29,
   "metadata": {},
   "outputs": [],
   "source": [
    "# Keep contributions from employers matched in the algorithm\n",
    "indiv_df = indiv_df[indiv_df['match_var']==True]\n",
    "indiv_df.drop(columns=['match_var'], inplace=True)\n",
    "indiv_df.dropna(subset=['contributor_name'], inplace=True)"
   ]
  },
  {
   "cell_type": "code",
   "execution_count": 30,
   "metadata": {},
   "outputs": [
    {
     "name": "stderr",
     "output_type": "stream",
     "text": [
      "<ipython-input-30-59dfa814cd36>:4: SettingWithCopyWarning: \n",
      "A value is trying to be set on a copy of a slice from a DataFrame\n",
      "\n",
      "See the caveats in the documentation: https://pandas.pydata.org/pandas-docs/stable/user_guide/indexing.html#returning-a-view-versus-a-copy\n",
      "  cmte_df_short.dropna(subset=['party'], inplace=True)\n"
     ]
    },
    {
     "data": {
      "text/plain": [
       "REP    11109\n",
       "DEM    10547\n",
       "Name: party, dtype: int64"
      ]
     },
     "execution_count": 30,
     "metadata": {},
     "output_type": "execute_result"
    }
   ],
   "source": [
    "# Only keep DEM/REP donations (https://www.fec.gov/campaign-finance-data/party-code-descriptions/)\n",
    "cmte_df_short = cmte_df[['committee_id', 'party']]\n",
    "cmte_df_short.drop_duplicates()\n",
    "cmte_df_short.dropna(subset=['party'], inplace=True)\n",
    "cmte_df_short['party'].replace(\"DFL\", \"DEM\") # DFL is DEM party in MN \n",
    "cmte_df_short = cmte_df_short[(cmte_df_short['party']=='REP') | (cmte_df_short['party']=='DEM')]\n",
    "cmte_df_short['party'].value_counts()"
   ]
  },
  {
   "cell_type": "code",
   "execution_count": 31,
   "metadata": {},
   "outputs": [
    {
     "name": "stdout",
     "output_type": "stream",
     "text": [
      "<class 'pandas.core.frame.DataFrame'>\n",
      "Int64Index: 487581 entries, 0 to 641522\n",
      "Data columns (total 13 columns):\n",
      " #   Column                       Non-Null Count   Dtype  \n",
      "---  ------                       --------------   -----  \n",
      " 0   committee_id                 487581 non-null  object \n",
      " 1   committee_name               487581 non-null  object \n",
      " 2   report_year                  487581 non-null  int64  \n",
      " 3   report_type                  478306 non-null  object \n",
      " 4   contributor_name             487581 non-null  object \n",
      " 5   contributor_street_1         487444 non-null  object \n",
      " 6   contributor_employer         487581 non-null  object \n",
      " 7   contributor_occupation       487034 non-null  object \n",
      " 8   contribution_receipt_date    487569 non-null  object \n",
      " 9   contribution_receipt_amount  487581 non-null  float64\n",
      " 10  contributor_aggregate_ytd    487567 non-null  float64\n",
      " 11  link_id                      487581 non-null  int64  \n",
      " 12  two_year_transaction_period  487581 non-null  int64  \n",
      "dtypes: float64(2), int64(3), object(8)\n",
      "memory usage: 52.1+ MB\n"
     ]
    }
   ],
   "source": [
    "indiv_df.info()"
   ]
  },
  {
   "cell_type": "code",
   "execution_count": 32,
   "metadata": {},
   "outputs": [
    {
     "name": "stdout",
     "output_type": "stream",
     "text": [
      "<class 'pandas.core.frame.DataFrame'>\n",
      "Int64Index: 21656 entries, 8 to 14454\n",
      "Data columns (total 2 columns):\n",
      " #   Column        Non-Null Count  Dtype \n",
      "---  ------        --------------  ----- \n",
      " 0   committee_id  21656 non-null  object\n",
      " 1   party         21656 non-null  object\n",
      "dtypes: object(2)\n",
      "memory usage: 507.6+ KB\n"
     ]
    }
   ],
   "source": [
    "cmte_df_short.info()"
   ]
  },
  {
   "cell_type": "code",
   "execution_count": 33,
   "metadata": {},
   "outputs": [
    {
     "data": {
      "text/plain": [
       "3597"
      ]
     },
     "execution_count": 33,
     "metadata": {},
     "output_type": "execute_result"
    }
   ],
   "source": [
    "# Find overlapping set of committees in both dfs\n",
    "set1 = set(indiv_df['committee_id'])\n",
    "set2 = set(cmte_df_short['committee_id'])\n",
    "\n",
    "set_match = [s for s in set1 if s in set2]\n",
    "len(set_match)"
   ]
  },
  {
   "cell_type": "code",
   "execution_count": 34,
   "metadata": {},
   "outputs": [],
   "source": [
    "cmte_df_short.drop_duplicates(subset=['committee_id'], inplace=True) # Drop duplicate committee ids\n",
    "cmte_df_short[cmte_df_short['committee_id'].isin(set_match)] # Remove IDs that aren't in the \n",
    "indiv_df.dropna(subset=['committee_id'], inplace=True)"
   ]
  },
  {
   "cell_type": "code",
   "execution_count": 35,
   "metadata": {},
   "outputs": [],
   "source": [
    "voters = pd.DataFrame(columns=['state', 'city', 'voter', 'year'], data= [['AL', 'Hoover', 'Sam Smith', 2000],\n",
    "                                                                         ['AL', 'Vestavia', 'Abe Brooks', 2000],\n",
    "                                                                         ['AL', 'Vestavia', 'Abe Brooks', 2004],\n",
    "                                                                         ['AK', 'Juneau', 'Kelly White', 2004],\n",
    "                                                                         ['CT', 'Storrs', 'Preston Stills', 2004],\n",
    "                                                                         ['CA', 'Chico', 'Kenny Silas', 2004],\n",
    "                                                                         ['OH', 'Dover', 'Al Hunt', 2004]\n",
    "                                                                        ])\n",
    "capitols = pd.DataFrame(columns=['state', 'capitol'], data = [['AL', 'Montgomery'],\n",
    "                                                              ['AK', 'Juneau'],\n",
    "                                                              ['AZ', 'Phoenix'],\n",
    "                                                              ['AR', 'Little Rock'],\n",
    "                                                              ['CA', 'Sacramento'],\n",
    "                                                              ['CO', 'Denver'],\n",
    "                                                              ['CT', 'Hartford'],\n",
    "                                                              ['DE', 'Dover']\n",
    "                                                             ])\n",
    "\n",
    "merged_inner = pd.merge(left=voters, right=capitols, on='state', how='inner')"
   ]
  },
  {
   "cell_type": "code",
   "execution_count": 36,
   "metadata": {},
   "outputs": [
    {
     "data": {
      "text/html": [
       "<div>\n",
       "<style scoped>\n",
       "    .dataframe tbody tr th:only-of-type {\n",
       "        vertical-align: middle;\n",
       "    }\n",
       "\n",
       "    .dataframe tbody tr th {\n",
       "        vertical-align: top;\n",
       "    }\n",
       "\n",
       "    .dataframe thead th {\n",
       "        text-align: right;\n",
       "    }\n",
       "</style>\n",
       "<table border=\"1\" class=\"dataframe\">\n",
       "  <thead>\n",
       "    <tr style=\"text-align: right;\">\n",
       "      <th></th>\n",
       "      <th>state</th>\n",
       "      <th>city</th>\n",
       "      <th>voter</th>\n",
       "      <th>year</th>\n",
       "      <th>capitol</th>\n",
       "    </tr>\n",
       "  </thead>\n",
       "  <tbody>\n",
       "    <tr>\n",
       "      <th>0</th>\n",
       "      <td>AL</td>\n",
       "      <td>Hoover</td>\n",
       "      <td>Sam Smith</td>\n",
       "      <td>2000</td>\n",
       "      <td>Montgomery</td>\n",
       "    </tr>\n",
       "    <tr>\n",
       "      <th>1</th>\n",
       "      <td>AL</td>\n",
       "      <td>Vestavia</td>\n",
       "      <td>Abe Brooks</td>\n",
       "      <td>2000</td>\n",
       "      <td>Montgomery</td>\n",
       "    </tr>\n",
       "    <tr>\n",
       "      <th>2</th>\n",
       "      <td>AL</td>\n",
       "      <td>Vestavia</td>\n",
       "      <td>Abe Brooks</td>\n",
       "      <td>2004</td>\n",
       "      <td>Montgomery</td>\n",
       "    </tr>\n",
       "    <tr>\n",
       "      <th>3</th>\n",
       "      <td>AK</td>\n",
       "      <td>Juneau</td>\n",
       "      <td>Kelly White</td>\n",
       "      <td>2004</td>\n",
       "      <td>Juneau</td>\n",
       "    </tr>\n",
       "    <tr>\n",
       "      <th>4</th>\n",
       "      <td>CT</td>\n",
       "      <td>Storrs</td>\n",
       "      <td>Preston Stills</td>\n",
       "      <td>2004</td>\n",
       "      <td>Hartford</td>\n",
       "    </tr>\n",
       "    <tr>\n",
       "      <th>5</th>\n",
       "      <td>CA</td>\n",
       "      <td>Chico</td>\n",
       "      <td>Kenny Silas</td>\n",
       "      <td>2004</td>\n",
       "      <td>Sacramento</td>\n",
       "    </tr>\n",
       "  </tbody>\n",
       "</table>\n",
       "</div>"
      ],
      "text/plain": [
       "  state      city           voter  year     capitol\n",
       "0    AL    Hoover       Sam Smith  2000  Montgomery\n",
       "1    AL  Vestavia      Abe Brooks  2000  Montgomery\n",
       "2    AL  Vestavia      Abe Brooks  2004  Montgomery\n",
       "3    AK    Juneau     Kelly White  2004      Juneau\n",
       "4    CT    Storrs  Preston Stills  2004    Hartford\n",
       "5    CA     Chico     Kenny Silas  2004  Sacramento"
      ]
     },
     "execution_count": 36,
     "metadata": {},
     "output_type": "execute_result"
    }
   ],
   "source": [
    "merged_inner"
   ]
  },
  {
   "cell_type": "code",
   "execution_count": 37,
   "metadata": {},
   "outputs": [
    {
     "name": "stdout",
     "output_type": "stream",
     "text": [
      "<class 'pandas.core.frame.DataFrame'>\n",
      "Int64Index: 487581 entries, 0 to 641522\n",
      "Data columns (total 13 columns):\n",
      " #   Column                       Non-Null Count   Dtype  \n",
      "---  ------                       --------------   -----  \n",
      " 0   committee_id                 487581 non-null  object \n",
      " 1   committee_name               487581 non-null  object \n",
      " 2   report_year                  487581 non-null  int64  \n",
      " 3   report_type                  478306 non-null  object \n",
      " 4   contributor_name             487581 non-null  object \n",
      " 5   contributor_street_1         487444 non-null  object \n",
      " 6   contributor_employer         487581 non-null  object \n",
      " 7   contributor_occupation       487034 non-null  object \n",
      " 8   contribution_receipt_date    487569 non-null  object \n",
      " 9   contribution_receipt_amount  487581 non-null  float64\n",
      " 10  contributor_aggregate_ytd    487567 non-null  float64\n",
      " 11  link_id                      487581 non-null  int64  \n",
      " 12  two_year_transaction_period  487581 non-null  int64  \n",
      "dtypes: float64(2), int64(3), object(8)\n",
      "memory usage: 52.1+ MB\n"
     ]
    }
   ],
   "source": [
    "indiv_df.info()"
   ]
  },
  {
   "cell_type": "code",
   "execution_count": 38,
   "metadata": {},
   "outputs": [
    {
     "name": "stdout",
     "output_type": "stream",
     "text": [
      "<class 'pandas.core.frame.DataFrame'>\n",
      "Int64Index: 12290 entries, 8 to 12625\n",
      "Data columns (total 2 columns):\n",
      " #   Column        Non-Null Count  Dtype \n",
      "---  ------        --------------  ----- \n",
      " 0   committee_id  12290 non-null  object\n",
      " 1   party         12290 non-null  object\n",
      "dtypes: object(2)\n",
      "memory usage: 288.0+ KB\n"
     ]
    }
   ],
   "source": [
    "cmte_df_short.info()"
   ]
  },
  {
   "cell_type": "code",
   "execution_count": 39,
   "metadata": {},
   "outputs": [
    {
     "name": "stdout",
     "output_type": "stream",
     "text": [
      "<class 'pandas.core.frame.DataFrame'>\n",
      "Int64Index: 202470 entries, 0 to 202469\n",
      "Data columns (total 14 columns):\n",
      " #   Column                       Non-Null Count   Dtype  \n",
      "---  ------                       --------------   -----  \n",
      " 0   committee_id                 202470 non-null  object \n",
      " 1   committee_name               202470 non-null  object \n",
      " 2   report_year                  202470 non-null  int64  \n",
      " 3   report_type                  193247 non-null  object \n",
      " 4   contributor_name             202470 non-null  object \n",
      " 5   contributor_street_1         202388 non-null  object \n",
      " 6   contributor_employer         202470 non-null  object \n",
      " 7   contributor_occupation       202209 non-null  object \n",
      " 8   contribution_receipt_date    202468 non-null  object \n",
      " 9   contribution_receipt_amount  202470 non-null  float64\n",
      " 10  contributor_aggregate_ytd    202461 non-null  float64\n",
      " 11  link_id                      202470 non-null  int64  \n",
      " 12  two_year_transaction_period  202470 non-null  int64  \n",
      " 13  party                        202470 non-null  object \n",
      "dtypes: float64(2), int64(3), object(9)\n",
      "memory usage: 23.2+ MB\n"
     ]
    }
   ],
   "source": [
    "merged_df = pd.merge(left=indiv_df, right=cmte_df_short, on='committee_id')\n",
    "merged_df.info()"
   ]
  },
  {
   "cell_type": "code",
   "execution_count": 40,
   "metadata": {},
   "outputs": [],
   "source": [
    "'''\n",
    "alg_lst\n",
    "company_list_orig (common_name)\n",
    "\n",
    "WTD: Create dict {common_name: alg_lst_name} based on min(Levenshtein distance)\n",
    "''' \n",
    "def make_lev_dict(full_set, smaller_list):\n",
    "    lev_dict = {}\n",
    "    \n",
    "    for s in full_set:\n",
    "        first = True\n",
    "        min_dist_so_far = 100\n",
    "        min_word = 'mistake!'\n",
    "        \n",
    "        for w in smaller_list:\n",
    "            if w in s:\n",
    "                min_word = w\n",
    "                break\n",
    "            else:\n",
    "                dist = lev.distance(s, w)\n",
    "                # print(f\"The distance between {s} and {w} is {dist}\")\n",
    "                # print(f\"Min distance so far was {min_dist_so_far}\")\n",
    "                if first:\n",
    "                    min_dist_so_far = dist\n",
    "                    min_word = w\n",
    "                    first=False\n",
    "                    # print(f\"Set first min distance as {dist} with {w}\")\n",
    "                    # print(f\"Leaving first iteration\")\n",
    "                else:\n",
    "                    if dist < min_dist_so_far:\n",
    "                        min_dist_so_far = dist\n",
    "                        min_word = w\n",
    "                        # print(f\"Min distance is now {dist} with {w}\")\n",
    "                    else:\n",
    "                        min_dist_so_far = min_dist_so_far\n",
    "                        min_word = min_word\n",
    "                        # print(f\"Min distance remains {min_dist_so_far} with {min_word}\")\n",
    "\n",
    "\n",
    "        lev_dict.update({s: min_word})\n",
    "        # print(f\"The best match for {s} is {min_word}\")\n",
    "        # print(\"  \")\n",
    "    \n",
    "    return lev_dict"
   ]
  },
  {
   "cell_type": "code",
   "execution_count": 41,
   "metadata": {},
   "outputs": [],
   "source": [
    "companies_df.common_name = [x.upper() for x in companies_df.common_name]\n",
    "common_name_list = companies_df.common_name.to_list()\n",
    "# Link list from algorithm to common names: {contributor_employer, common_name}\n",
    "alg_common_link_dict = make_lev_dict(alg_lst, common_name_list)\n",
    "alg_df = pd.DataFrame(alg_common_link_dict.items(), columns=['contributor_employer', 'common_name'])\n",
    "# Linked compustat names to common names in companies_df\n",
    "merged_names_df = pd.merge(left=alg_df, right=companies_df, on='common_name', how='left')"
   ]
  },
  {
   "cell_type": "code",
   "execution_count": 42,
   "metadata": {},
   "outputs": [
    {
     "name": "stdout",
     "output_type": "stream",
     "text": [
      "<class 'pandas.core.frame.DataFrame'>\n",
      "Int64Index: 1258 entries, 0 to 1257\n",
      "Data columns (total 3 columns):\n",
      " #   Column                Non-Null Count  Dtype \n",
      "---  ------                --------------  ----- \n",
      " 0   contributor_employer  1258 non-null   object\n",
      " 1   common_name           1258 non-null   object\n",
      " 2   compustat_name        1258 non-null   object\n",
      "dtypes: object(3)\n",
      "memory usage: 39.3+ KB\n"
     ]
    }
   ],
   "source": [
    "merged_names_df.info()"
   ]
  },
  {
   "cell_type": "code",
   "execution_count": 43,
   "metadata": {},
   "outputs": [
    {
     "name": "stdout",
     "output_type": "stream",
     "text": [
      "<class 'pandas.core.frame.DataFrame'>\n",
      "Int64Index: 202470 entries, 0 to 202469\n",
      "Data columns (total 14 columns):\n",
      " #   Column                       Non-Null Count   Dtype  \n",
      "---  ------                       --------------   -----  \n",
      " 0   committee_id                 202470 non-null  object \n",
      " 1   committee_name               202470 non-null  object \n",
      " 2   report_year                  202470 non-null  int64  \n",
      " 3   report_type                  193247 non-null  object \n",
      " 4   contributor_name             202470 non-null  object \n",
      " 5   contributor_street_1         202388 non-null  object \n",
      " 6   contributor_employer         202470 non-null  object \n",
      " 7   contributor_occupation       202209 non-null  object \n",
      " 8   contribution_receipt_date    202468 non-null  object \n",
      " 9   contribution_receipt_amount  202470 non-null  float64\n",
      " 10  contributor_aggregate_ytd    202461 non-null  float64\n",
      " 11  link_id                      202470 non-null  int64  \n",
      " 12  two_year_transaction_period  202470 non-null  int64  \n",
      " 13  party                        202470 non-null  object \n",
      "dtypes: float64(2), int64(3), object(9)\n",
      "memory usage: 23.2+ MB\n"
     ]
    }
   ],
   "source": [
    "merged_df.info()"
   ]
  },
  {
   "cell_type": "code",
   "execution_count": 44,
   "metadata": {},
   "outputs": [
    {
     "name": "stdout",
     "output_type": "stream",
     "text": [
      "<class 'pandas.core.frame.DataFrame'>\n",
      "Int64Index: 202470 entries, 0 to 202469\n",
      "Data columns (total 16 columns):\n",
      " #   Column                       Non-Null Count   Dtype  \n",
      "---  ------                       --------------   -----  \n",
      " 0   committee_id                 202470 non-null  object \n",
      " 1   committee_name               202470 non-null  object \n",
      " 2   report_year                  202470 non-null  int64  \n",
      " 3   report_type                  193247 non-null  object \n",
      " 4   contributor_name             202470 non-null  object \n",
      " 5   contributor_street_1         202388 non-null  object \n",
      " 6   contributor_employer         202470 non-null  object \n",
      " 7   contributor_occupation       202209 non-null  object \n",
      " 8   contribution_receipt_date    202468 non-null  object \n",
      " 9   contribution_receipt_amount  202470 non-null  float64\n",
      " 10  contributor_aggregate_ytd    202461 non-null  float64\n",
      " 11  link_id                      202470 non-null  int64  \n",
      " 12  two_year_transaction_period  202470 non-null  int64  \n",
      " 13  party                        202470 non-null  object \n",
      " 14  common_name                  202470 non-null  object \n",
      " 15  compustat_name               202470 non-null  object \n",
      "dtypes: float64(2), int64(3), object(11)\n",
      "memory usage: 26.3+ MB\n"
     ]
    }
   ],
   "source": [
    "df = pd.merge(left=merged_df, right=merged_names_df, on='contributor_employer', how='left')\n",
    "df.info() # Just over 200k entries"
   ]
  },
  {
   "cell_type": "code",
   "execution_count": 45,
   "metadata": {},
   "outputs": [
    {
     "data": {
      "text/html": [
       "<div>\n",
       "<style scoped>\n",
       "    .dataframe tbody tr th:only-of-type {\n",
       "        vertical-align: middle;\n",
       "    }\n",
       "\n",
       "    .dataframe tbody tr th {\n",
       "        vertical-align: top;\n",
       "    }\n",
       "\n",
       "    .dataframe thead th {\n",
       "        text-align: right;\n",
       "    }\n",
       "</style>\n",
       "<table border=\"1\" class=\"dataframe\">\n",
       "  <thead>\n",
       "    <tr style=\"text-align: right;\">\n",
       "      <th></th>\n",
       "      <th>compustat_name</th>\n",
       "      <th>party</th>\n",
       "      <th>sum_donations</th>\n",
       "      <th>count_donations</th>\n",
       "      <th>count_contributors</th>\n",
       "      <th>count_recipients</th>\n",
       "    </tr>\n",
       "  </thead>\n",
       "  <tbody>\n",
       "    <tr>\n",
       "      <th>0</th>\n",
       "      <td>ABBVIE INC</td>\n",
       "      <td>DEM</td>\n",
       "      <td>327011.57</td>\n",
       "      <td>534</td>\n",
       "      <td>210</td>\n",
       "      <td>89</td>\n",
       "    </tr>\n",
       "    <tr>\n",
       "      <th>1</th>\n",
       "      <td>ABBVIE INC</td>\n",
       "      <td>REP</td>\n",
       "      <td>153438.31</td>\n",
       "      <td>221</td>\n",
       "      <td>116</td>\n",
       "      <td>68</td>\n",
       "    </tr>\n",
       "    <tr>\n",
       "      <th>2</th>\n",
       "      <td>ALLSTATE CORP</td>\n",
       "      <td>DEM</td>\n",
       "      <td>190968.95</td>\n",
       "      <td>397</td>\n",
       "      <td>201</td>\n",
       "      <td>110</td>\n",
       "    </tr>\n",
       "    <tr>\n",
       "      <th>3</th>\n",
       "      <td>ALLSTATE CORP</td>\n",
       "      <td>REP</td>\n",
       "      <td>205031.44</td>\n",
       "      <td>312</td>\n",
       "      <td>178</td>\n",
       "      <td>106</td>\n",
       "    </tr>\n",
       "    <tr>\n",
       "      <th>4</th>\n",
       "      <td>ALPHABET INC</td>\n",
       "      <td>DEM</td>\n",
       "      <td>23444016.60</td>\n",
       "      <td>25973</td>\n",
       "      <td>6215</td>\n",
       "      <td>783</td>\n",
       "    </tr>\n",
       "  </tbody>\n",
       "</table>\n",
       "</div>"
      ],
      "text/plain": [
       "  compustat_name party  sum_donations  count_donations  count_contributors  \\\n",
       "0     ABBVIE INC   DEM      327011.57              534                 210   \n",
       "1     ABBVIE INC   REP      153438.31              221                 116   \n",
       "2  ALLSTATE CORP   DEM      190968.95              397                 201   \n",
       "3  ALLSTATE CORP   REP      205031.44              312                 178   \n",
       "4   ALPHABET INC   DEM    23444016.60            25973                6215   \n",
       "\n",
       "   count_recipients  \n",
       "0                89  \n",
       "1                68  \n",
       "2               110  \n",
       "3               106  \n",
       "4               783  "
      ]
     },
     "execution_count": 45,
     "metadata": {},
     "output_type": "execute_result"
    }
   ],
   "source": [
    "# Group by Compustat Names,\n",
    "    # Orientation values from Gupta et al.\n",
    "df.sort_values(by=['compustat_name'])\n",
    "df_party = df.groupby(['compustat_name', 'party']).agg({'contribution_receipt_amount': ['sum', 'count'], 'contributor_name': pd.Series.nunique, 'committee_id': pd.Series.nunique})\n",
    "temp_col_names = ['sum_donations', 'count_donations', 'count_contributors', 'count_recipients']\n",
    "df_party.columns = temp_col_names\n",
    "df_party.reset_index(inplace=True)\n",
    "df_party.head()"
   ]
  },
  {
   "cell_type": "code",
   "execution_count": 46,
   "metadata": {},
   "outputs": [
    {
     "data": {
      "text/html": [
       "<div>\n",
       "<style scoped>\n",
       "    .dataframe tbody tr th:only-of-type {\n",
       "        vertical-align: middle;\n",
       "    }\n",
       "\n",
       "    .dataframe tbody tr th {\n",
       "        vertical-align: top;\n",
       "    }\n",
       "\n",
       "    .dataframe thead th {\n",
       "        text-align: right;\n",
       "    }\n",
       "</style>\n",
       "<table border=\"1\" class=\"dataframe\">\n",
       "  <thead>\n",
       "    <tr style=\"text-align: right;\">\n",
       "      <th></th>\n",
       "      <th>compustat_name</th>\n",
       "      <th>party</th>\n",
       "      <th>sum_donations</th>\n",
       "      <th>count_donations</th>\n",
       "      <th>count_contributors</th>\n",
       "      <th>count_recipients</th>\n",
       "      <th>ratio_sum_donations</th>\n",
       "      <th>ratio_ct_donations</th>\n",
       "      <th>ratio_ct_contributors</th>\n",
       "      <th>ratio_ct_recipients</th>\n",
       "      <th>ratio_index</th>\n",
       "    </tr>\n",
       "  </thead>\n",
       "  <tbody>\n",
       "    <tr>\n",
       "      <th>0</th>\n",
       "      <td>ABBVIE INC</td>\n",
       "      <td>DEM</td>\n",
       "      <td>327011.57</td>\n",
       "      <td>534</td>\n",
       "      <td>210</td>\n",
       "      <td>89</td>\n",
       "      <td>0.680636</td>\n",
       "      <td>0.707285</td>\n",
       "      <td>0.644172</td>\n",
       "      <td>0.566879</td>\n",
       "      <td>0.649743</td>\n",
       "    </tr>\n",
       "    <tr>\n",
       "      <th>1</th>\n",
       "      <td>ABBVIE INC</td>\n",
       "      <td>REP</td>\n",
       "      <td>153438.31</td>\n",
       "      <td>221</td>\n",
       "      <td>116</td>\n",
       "      <td>68</td>\n",
       "      <td>0.319364</td>\n",
       "      <td>0.292715</td>\n",
       "      <td>0.355828</td>\n",
       "      <td>0.433121</td>\n",
       "      <td>0.350257</td>\n",
       "    </tr>\n",
       "    <tr>\n",
       "      <th>2</th>\n",
       "      <td>ALLSTATE CORP</td>\n",
       "      <td>DEM</td>\n",
       "      <td>190968.95</td>\n",
       "      <td>397</td>\n",
       "      <td>201</td>\n",
       "      <td>110</td>\n",
       "      <td>0.482244</td>\n",
       "      <td>0.559944</td>\n",
       "      <td>0.530343</td>\n",
       "      <td>0.509259</td>\n",
       "      <td>0.520448</td>\n",
       "    </tr>\n",
       "    <tr>\n",
       "      <th>3</th>\n",
       "      <td>ALLSTATE CORP</td>\n",
       "      <td>REP</td>\n",
       "      <td>205031.44</td>\n",
       "      <td>312</td>\n",
       "      <td>178</td>\n",
       "      <td>106</td>\n",
       "      <td>0.517756</td>\n",
       "      <td>0.440056</td>\n",
       "      <td>0.469657</td>\n",
       "      <td>0.490741</td>\n",
       "      <td>0.479552</td>\n",
       "    </tr>\n",
       "    <tr>\n",
       "      <th>4</th>\n",
       "      <td>ALPHABET INC</td>\n",
       "      <td>DEM</td>\n",
       "      <td>23444016.60</td>\n",
       "      <td>25973</td>\n",
       "      <td>6215</td>\n",
       "      <td>783</td>\n",
       "      <td>0.941876</td>\n",
       "      <td>0.964284</td>\n",
       "      <td>0.940384</td>\n",
       "      <td>0.783000</td>\n",
       "      <td>0.907386</td>\n",
       "    </tr>\n",
       "  </tbody>\n",
       "</table>\n",
       "</div>"
      ],
      "text/plain": [
       "  compustat_name party  sum_donations  count_donations  count_contributors  \\\n",
       "0     ABBVIE INC   DEM      327011.57              534                 210   \n",
       "1     ABBVIE INC   REP      153438.31              221                 116   \n",
       "2  ALLSTATE CORP   DEM      190968.95              397                 201   \n",
       "3  ALLSTATE CORP   REP      205031.44              312                 178   \n",
       "4   ALPHABET INC   DEM    23444016.60            25973                6215   \n",
       "\n",
       "   count_recipients  ratio_sum_donations  ratio_ct_donations  \\\n",
       "0                89             0.680636            0.707285   \n",
       "1                68             0.319364            0.292715   \n",
       "2               110             0.482244            0.559944   \n",
       "3               106             0.517756            0.440056   \n",
       "4               783             0.941876            0.964284   \n",
       "\n",
       "   ratio_ct_contributors  ratio_ct_recipients  ratio_index  \n",
       "0               0.644172             0.566879     0.649743  \n",
       "1               0.355828             0.433121     0.350257  \n",
       "2               0.530343             0.509259     0.520448  \n",
       "3               0.469657             0.490741     0.479552  \n",
       "4               0.940384             0.783000     0.907386  "
      ]
     },
     "execution_count": 46,
     "metadata": {},
     "output_type": "execute_result"
    }
   ],
   "source": [
    "df_party['ratio_sum_donations'] = df_party['sum_donations'].div(df_party.groupby('compustat_name')['sum_donations'].transform('sum'))\n",
    "df_party['ratio_ct_donations'] = df_party['count_donations'].div(df_party.groupby('compustat_name')['count_donations'].transform('sum'))\n",
    "df_party['ratio_ct_contributors'] = df_party['count_contributors'].div(df_party.groupby('compustat_name')['count_contributors'].transform('sum'))\n",
    "df_party['ratio_ct_recipients'] = df_party['count_recipients'].div(df_party.groupby('compustat_name')['count_recipients'].transform('sum'))\n",
    "df_party['ratio_index'] = df_party.loc[: , \"ratio_sum_donations\":\"ratio_ct_recipients\"].mean(axis=1)\n",
    "df_party.head()"
   ]
  },
  {
   "cell_type": "code",
   "execution_count": 47,
   "metadata": {},
   "outputs": [
    {
     "name": "stdout",
     "output_type": "stream",
     "text": [
      "<class 'pandas.core.frame.DataFrame'>\n",
      "RangeIndex: 81 entries, 0 to 80\n",
      "Data columns (total 6 columns):\n",
      " #   Column                 Non-Null Count  Dtype  \n",
      "---  ------                 --------------  -----  \n",
      " 0   compustat_name         81 non-null     object \n",
      " 1   ratio_sum_donations    81 non-null     float64\n",
      " 2   ratio_ct_donations     81 non-null     float64\n",
      " 3   ratio_ct_contributors  81 non-null     float64\n",
      " 4   ratio_ct_recipients    81 non-null     float64\n",
      " 5   ratio_index            81 non-null     float64\n",
      "dtypes: float64(5), object(1)\n",
      "memory usage: 3.9+ KB\n"
     ]
    }
   ],
   "source": [
    "temp_col_names.append('party')\n",
    "df_party = df_party[df_party['party']=='DEM']\n",
    "df_party.drop(columns=temp_col_names, inplace=True)\n",
    "df_party.reset_index(drop=True, inplace=True)\n",
    "df_party.info()"
   ]
  },
  {
   "cell_type": "code",
   "execution_count": 48,
   "metadata": {},
   "outputs": [
    {
     "data": {
      "text/plain": [
       "['HELMERICH & PAYNE']"
      ]
     },
     "execution_count": 48,
     "metadata": {},
     "output_type": "execute_result"
    }
   ],
   "source": [
    "# The only company with no donations is Helmerich and Payne. Perhaps investigate in future analyses.\n",
    "a = set(df['compustat_name'])\n",
    "b = set(df_party['compustat_name'])\n",
    "c = [a for a in a if a not in b]\n",
    "c"
   ]
  },
  {
   "cell_type": "code",
   "execution_count": 49,
   "metadata": {},
   "outputs": [
    {
     "name": "stdout",
     "output_type": "stream",
     "text": [
      "<class 'pandas.core.frame.DataFrame'>\n",
      "Int64Index: 202470 entries, 0 to 202469\n",
      "Data columns (total 21 columns):\n",
      " #   Column                       Non-Null Count   Dtype  \n",
      "---  ------                       --------------   -----  \n",
      " 0   committee_id                 202470 non-null  object \n",
      " 1   committee_name               202470 non-null  object \n",
      " 2   report_year                  202470 non-null  int64  \n",
      " 3   report_type                  193247 non-null  object \n",
      " 4   contributor_name             202470 non-null  object \n",
      " 5   contributor_street_1         202388 non-null  object \n",
      " 6   contributor_employer         202470 non-null  object \n",
      " 7   contributor_occupation       202209 non-null  object \n",
      " 8   contribution_receipt_date    202468 non-null  object \n",
      " 9   contribution_receipt_amount  202470 non-null  float64\n",
      " 10  contributor_aggregate_ytd    202461 non-null  float64\n",
      " 11  link_id                      202470 non-null  int64  \n",
      " 12  two_year_transaction_period  202470 non-null  int64  \n",
      " 13  party                        202470 non-null  object \n",
      " 14  common_name                  202470 non-null  object \n",
      " 15  compustat_name               202470 non-null  object \n",
      " 16  ratio_sum_donations          202469 non-null  float64\n",
      " 17  ratio_ct_donations           202469 non-null  float64\n",
      " 18  ratio_ct_contributors        202469 non-null  float64\n",
      " 19  ratio_ct_recipients          202469 non-null  float64\n",
      " 20  ratio_index                  202469 non-null  float64\n",
      "dtypes: float64(7), int64(3), object(11)\n",
      "memory usage: 34.0+ MB\n"
     ]
    }
   ],
   "source": [
    "df_merged = pd.merge(left=df, right= df_party, on='compustat_name', how='left')\n",
    "df_merged.info()"
   ]
  },
  {
   "cell_type": "code",
   "execution_count": 50,
   "metadata": {},
   "outputs": [],
   "source": [
    "## To Do:\n",
    "# Create df with one company per row\n",
    "    # Create histograms of these values, see which has highest and lowest\n",
    "    # Link to the days from event and first action variables in df (search for this)\n",
    "    # Summarize accordingly per Nico's notes"
   ]
  },
  {
   "cell_type": "code",
   "execution_count": 51,
   "metadata": {},
   "outputs": [],
   "source": [
    "company_level_df = df_merged.groupby('compustat_name')\n",
    "company_level_df = company_level_df.first()\n",
    "company_level_df = company_level_df.reset_index()\n",
    "company_level_df.dropna(subset=['ratio_sum_donations'], inplace=True)\n",
    "company_level_df.to_pickle('df_4_companies.pkl', protocol=4)\n",
    "#\n",
    "# #### PICKLED HERE FOR SUMMARY\n",
    "# "
   ]
  },
  {
   "cell_type": "code",
   "execution_count": 54,
   "metadata": {},
   "outputs": [],
   "source": [
    "company_level_df.head()"
   ]
  },
  {
   "cell_type": "code",
   "execution_count": 55,
   "metadata": {},
   "outputs": [
    {
     "data": {
      "image/png": "[encoded data removed]",
      "text/plain": [
       "<Figure size 432x288 with 1 Axes>"
      ]
     },
     "metadata": {
      "needs_background": "light"
     },
     "output_type": "display_data"
    }
   ],
   "source": [
    "sns.histplot(data=company_level_df, x='ratio_index', stat='count')\n",
    "plt.title('Index of Org Donation Activity Ratios', fontsize=18)\n",
    "plt.xlabel('Index Ratio DEM/GOP')\n",
    "plt.ylabel('Frequency')\n",
    "plt.yticks(np.arange(0, 22, 2))\n",
    "plt.xlim(0, 1.05)\n",
    "#plt.ylim(0, 1.05)\n",
    "plt.show()"
   ]
  },
  {
   "cell_type": "code",
   "execution_count": 56,
   "metadata": {},
   "outputs": [
    {
     "data": {
      "text/html": [
       "<div>\n",
       "<style scoped>\n",
       "    .dataframe tbody tr th:only-of-type {\n",
       "        vertical-align: middle;\n",
       "    }\n",
       "\n",
       "    .dataframe tbody tr th {\n",
       "        vertical-align: top;\n",
       "    }\n",
       "\n",
       "    .dataframe thead th {\n",
       "        text-align: right;\n",
       "    }\n",
       "</style>\n",
       "<table border=\"1\" class=\"dataframe\">\n",
       "  <thead>\n",
       "    <tr style=\"text-align: right;\">\n",
       "      <th></th>\n",
       "      <th>common_name</th>\n",
       "      <th>ratio_index</th>\n",
       "    </tr>\n",
       "  </thead>\n",
       "  <tbody>\n",
       "    <tr>\n",
       "      <th>77</th>\n",
       "      <td>VALERO</td>\n",
       "      <td>0.177109</td>\n",
       "    </tr>\n",
       "    <tr>\n",
       "      <th>34</th>\n",
       "      <td>EXXON MOBIL</td>\n",
       "      <td>0.291029</td>\n",
       "    </tr>\n",
       "    <tr>\n",
       "      <th>55</th>\n",
       "      <td>MARATHON</td>\n",
       "      <td>0.329702</td>\n",
       "    </tr>\n",
       "    <tr>\n",
       "      <th>24</th>\n",
       "      <td>CONOCO</td>\n",
       "      <td>0.352245</td>\n",
       "    </tr>\n",
       "    <tr>\n",
       "      <th>64</th>\n",
       "      <td>PHILLIPS 66</td>\n",
       "      <td>0.379084</td>\n",
       "    </tr>\n",
       "  </tbody>\n",
       "</table>\n",
       "</div>"
      ],
      "text/plain": [
       "    common_name  ratio_index\n",
       "77       VALERO     0.177109\n",
       "34  EXXON MOBIL     0.291029\n",
       "55     MARATHON     0.329702\n",
       "24       CONOCO     0.352245\n",
       "64  PHILLIPS 66     0.379084"
      ]
     },
     "execution_count": 56,
     "metadata": {},
     "output_type": "execute_result"
    }
   ],
   "source": [
    "# The ratio of donations checks out (Oil Companies --> GOP, Tech/Entertainment/Gov't Related --> Dem)\n",
    "company_level_df[['common_name', 'ratio_index']].sort_values(by=['ratio_index']).head()"
   ]
  },
  {
   "cell_type": "code",
   "execution_count": 57,
   "metadata": {},
   "outputs": [
    {
     "data": {
      "text/html": [
       "<div>\n",
       "<style scoped>\n",
       "    .dataframe tbody tr th:only-of-type {\n",
       "        vertical-align: middle;\n",
       "    }\n",
       "\n",
       "    .dataframe tbody tr th {\n",
       "        vertical-align: top;\n",
       "    }\n",
       "\n",
       "    .dataframe thead th {\n",
       "        text-align: right;\n",
       "    }\n",
       "</style>\n",
       "<table border=\"1\" class=\"dataframe\">\n",
       "  <thead>\n",
       "    <tr style=\"text-align: right;\">\n",
       "      <th></th>\n",
       "      <th>common_name</th>\n",
       "      <th>ratio_index</th>\n",
       "    </tr>\n",
       "  </thead>\n",
       "  <tbody>\n",
       "    <tr>\n",
       "      <th>37</th>\n",
       "      <td>FANNIE MAE</td>\n",
       "      <td>0.848614</td>\n",
       "    </tr>\n",
       "    <tr>\n",
       "      <th>3</th>\n",
       "      <td>AMAZON</td>\n",
       "      <td>0.878000</td>\n",
       "    </tr>\n",
       "    <tr>\n",
       "      <th>31</th>\n",
       "      <td>WALT DISNEY</td>\n",
       "      <td>0.893195</td>\n",
       "    </tr>\n",
       "    <tr>\n",
       "      <th>35</th>\n",
       "      <td>FACEBOOK</td>\n",
       "      <td>0.901505</td>\n",
       "    </tr>\n",
       "    <tr>\n",
       "      <th>2</th>\n",
       "      <td>GOOGLE</td>\n",
       "      <td>0.907386</td>\n",
       "    </tr>\n",
       "  </tbody>\n",
       "</table>\n",
       "</div>"
      ],
      "text/plain": [
       "    common_name  ratio_index\n",
       "37   FANNIE MAE     0.848614\n",
       "3        AMAZON     0.878000\n",
       "31  WALT DISNEY     0.893195\n",
       "35     FACEBOOK     0.901505\n",
       "2        GOOGLE     0.907386"
      ]
     },
     "execution_count": 57,
     "metadata": {},
     "output_type": "execute_result"
    }
   ],
   "source": [
    "company_level_df[['common_name', 'ratio_index']].sort_values(by=['ratio_index']).tail()"
   ]
  },
  {
   "cell_type": "code",
   "execution_count": 58,
   "metadata": {},
   "outputs": [
    {
     "data": {
      "text/html": [
       "<div>\n",
       "<style scoped>\n",
       "    .dataframe tbody tr th:only-of-type {\n",
       "        vertical-align: middle;\n",
       "    }\n",
       "\n",
       "    .dataframe tbody tr th {\n",
       "        vertical-align: top;\n",
       "    }\n",
       "\n",
       "    .dataframe thead th {\n",
       "        text-align: right;\n",
       "    }\n",
       "</style>\n",
       "<table border=\"1\" class=\"dataframe\">\n",
       "  <thead>\n",
       "    <tr style=\"text-align: right;\">\n",
       "      <th></th>\n",
       "      <th>ratio_index</th>\n",
       "    </tr>\n",
       "  </thead>\n",
       "  <tbody>\n",
       "    <tr>\n",
       "      <th>count</th>\n",
       "      <td>81.000000</td>\n",
       "    </tr>\n",
       "    <tr>\n",
       "      <th>mean</th>\n",
       "      <td>0.595930</td>\n",
       "    </tr>\n",
       "    <tr>\n",
       "      <th>std</th>\n",
       "      <td>0.148934</td>\n",
       "    </tr>\n",
       "    <tr>\n",
       "      <th>min</th>\n",
       "      <td>0.177109</td>\n",
       "    </tr>\n",
       "    <tr>\n",
       "      <th>25%</th>\n",
       "      <td>0.497898</td>\n",
       "    </tr>\n",
       "    <tr>\n",
       "      <th>50%</th>\n",
       "      <td>0.601969</td>\n",
       "    </tr>\n",
       "    <tr>\n",
       "      <th>75%</th>\n",
       "      <td>0.705029</td>\n",
       "    </tr>\n",
       "    <tr>\n",
       "      <th>max</th>\n",
       "      <td>0.907386</td>\n",
       "    </tr>\n",
       "  </tbody>\n",
       "</table>\n",
       "</div>"
      ],
      "text/plain": [
       "       ratio_index\n",
       "count    81.000000\n",
       "mean      0.595930\n",
       "std       0.148934\n",
       "min       0.177109\n",
       "25%       0.497898\n",
       "50%       0.601969\n",
       "75%       0.705029\n",
       "max       0.907386"
      ]
     },
     "execution_count": 58,
     "metadata": {},
     "output_type": "execute_result"
    }
   ],
   "source": [
    "company_level_df[['common_name', 'ratio_index']].describe()"
   ]
  },
  {
   "cell_type": "code",
   "execution_count": 59,
   "metadata": {},
   "outputs": [
    {
     "name": "stdout",
     "output_type": "stream",
     "text": [
      "      \n",
      "New Working Directory: ~/data\n"
     ]
    }
   ],
   "source": [
    "change_dir(PROJECT_ROOT, '/data')\n",
    "df_floyd = pd.read_csv('df_final.csv')"
   ]
  },
  {
   "cell_type": "code",
   "execution_count": 60,
   "metadata": {},
   "outputs": [
    {
     "data": {
      "text/html": [
       "<div>\n",
       "<style scoped>\n",
       "    .dataframe tbody tr th:only-of-type {\n",
       "        vertical-align: middle;\n",
       "    }\n",
       "\n",
       "    .dataframe tbody tr th {\n",
       "        vertical-align: top;\n",
       "    }\n",
       "\n",
       "    .dataframe thead th {\n",
       "        text-align: right;\n",
       "    }\n",
       "</style>\n",
       "<table border=\"1\" class=\"dataframe\">\n",
       "  <thead>\n",
       "    <tr style=\"text-align: right;\">\n",
       "      <th></th>\n",
       "      <th>tweet_id</th>\n",
       "      <th>text</th>\n",
       "      <th>replies</th>\n",
       "      <th>retweets</th>\n",
       "      <th>likes</th>\n",
       "      <th>quotes</th>\n",
       "      <th>media</th>\n",
       "      <th>source_label</th>\n",
       "      <th>username</th>\n",
       "      <th>ceo_account</th>\n",
       "      <th>...</th>\n",
       "      <th>hashtags_count</th>\n",
       "      <th>dollar_count</th>\n",
       "      <th>quest_count</th>\n",
       "      <th>exclam_count</th>\n",
       "      <th>emoji_count</th>\n",
       "      <th>text_clean</th>\n",
       "      <th>stemmed_text</th>\n",
       "      <th>postclean_length</th>\n",
       "      <th>floyd_stance</th>\n",
       "      <th>floyd_followup</th>\n",
       "    </tr>\n",
       "  </thead>\n",
       "  <tbody>\n",
       "    <tr>\n",
       "      <th>0</th>\n",
       "      <td>t1271235256918487040</td>\n",
       "      <td>An important update from SusanWojcicki on how ...</td>\n",
       "      <td>85.0</td>\n",
       "      <td>187.0</td>\n",
       "      <td>1689.0</td>\n",
       "      <td>14.0</td>\n",
       "      <td>no_media</td>\n",
       "      <td>Twitter Web App</td>\n",
       "      <td>sundarpichai</td>\n",
       "      <td>1.0</td>\n",
       "      <td>...</td>\n",
       "      <td>0.0</td>\n",
       "      <td>1.0</td>\n",
       "      <td>0.0</td>\n",
       "      <td>0.0</td>\n",
       "      <td>0.0</td>\n",
       "      <td>important update susanwojcicki youtube using p...</td>\n",
       "      <td>import updat susanwojcicki youtub use platform...</td>\n",
       "      <td>247.0</td>\n",
       "      <td>0.0</td>\n",
       "      <td>1.0</td>\n",
       "    </tr>\n",
       "    <tr>\n",
       "      <th>1</th>\n",
       "      <td>t1270968380304941058</td>\n",
       "      <td>Proud that GoogleCloud is partnering with Tele...</td>\n",
       "      <td>71.0</td>\n",
       "      <td>416.0</td>\n",
       "      <td>1937.0</td>\n",
       "      <td>47.0</td>\n",
       "      <td>no_media</td>\n",
       "      <td>Twitter Web App</td>\n",
       "      <td>sundarpichai</td>\n",
       "      <td>1.0</td>\n",
       "      <td>...</td>\n",
       "      <td>0.0</td>\n",
       "      <td>0.0</td>\n",
       "      <td>0.0</td>\n",
       "      <td>0.0</td>\n",
       "      <td>0.0</td>\n",
       "      <td>proud googlecloud partnering telefonica launch...</td>\n",
       "      <td>proud googlecloud partner telefonica launch ne...</td>\n",
       "      <td>216.0</td>\n",
       "      <td>0.0</td>\n",
       "      <td>0.0</td>\n",
       "    </tr>\n",
       "    <tr>\n",
       "      <th>2</th>\n",
       "      <td>t1270957112097570816</td>\n",
       "      <td>Also excited that in Android## were making imp...</td>\n",
       "      <td>89.0</td>\n",
       "      <td>406.0</td>\n",
       "      <td>3020.0</td>\n",
       "      <td>48.0</td>\n",
       "      <td>no_media</td>\n",
       "      <td>Twitter Web App</td>\n",
       "      <td>sundarpichai</td>\n",
       "      <td>1.0</td>\n",
       "      <td>...</td>\n",
       "      <td>1.0</td>\n",
       "      <td>0.0</td>\n",
       "      <td>0.0</td>\n",
       "      <td>0.0</td>\n",
       "      <td>0.0</td>\n",
       "      <td>also excited android## making improvements voi...</td>\n",
       "      <td>also excit android## make improv voic access i...</td>\n",
       "      <td>121.0</td>\n",
       "      <td>0.0</td>\n",
       "      <td>0.0</td>\n",
       "    </tr>\n",
       "    <tr>\n",
       "      <th>3</th>\n",
       "      <td>t1270954939309645824</td>\n",
       "      <td>Android ## is now available in beta with a foc...</td>\n",
       "      <td>152.0</td>\n",
       "      <td>707.0</td>\n",
       "      <td>5377.0</td>\n",
       "      <td>45.0</td>\n",
       "      <td>no_media</td>\n",
       "      <td>Twitter Web App</td>\n",
       "      <td>sundarpichai</td>\n",
       "      <td>1.0</td>\n",
       "      <td>...</td>\n",
       "      <td>0.0</td>\n",
       "      <td>0.0</td>\n",
       "      <td>0.0</td>\n",
       "      <td>0.0</td>\n",
       "      <td>0.0</td>\n",
       "      <td>android ## available beta focus people control...</td>\n",
       "      <td>android ## avail beta focus peopl control safeti</td>\n",
       "      <td>79.0</td>\n",
       "      <td>0.0</td>\n",
       "      <td>0.0</td>\n",
       "    </tr>\n",
       "    <tr>\n",
       "      <th>4</th>\n",
       "      <td>t1267094364976672768</td>\n",
       "      <td>Today on US Google  YouTube homepages we share...</td>\n",
       "      <td>1737.0</td>\n",
       "      <td>6360.0</td>\n",
       "      <td>37997.0</td>\n",
       "      <td>700.0</td>\n",
       "      <td>photo</td>\n",
       "      <td>Twitter Web App</td>\n",
       "      <td>sundarpichai</td>\n",
       "      <td>1.0</td>\n",
       "      <td>...</td>\n",
       "      <td>0.0</td>\n",
       "      <td>0.0</td>\n",
       "      <td>0.0</td>\n",
       "      <td>0.0</td>\n",
       "      <td>0.0</td>\n",
       "      <td>today us google youtube homepages share suppor...</td>\n",
       "      <td>today us googl youtub homepag share support ra...</td>\n",
       "      <td>281.0</td>\n",
       "      <td>1.0</td>\n",
       "      <td>0.0</td>\n",
       "    </tr>\n",
       "  </tbody>\n",
       "</table>\n",
       "<p>5 rows × 48 columns</p>\n",
       "</div>"
      ],
      "text/plain": [
       "               tweet_id                                               text  \\\n",
       "0  t1271235256918487040  An important update from SusanWojcicki on how ...   \n",
       "1  t1270968380304941058  Proud that GoogleCloud is partnering with Tele...   \n",
       "2  t1270957112097570816  Also excited that in Android## were making imp...   \n",
       "3  t1270954939309645824  Android ## is now available in beta with a foc...   \n",
       "4  t1267094364976672768  Today on US Google  YouTube homepages we share...   \n",
       "\n",
       "   replies  retweets    likes  quotes     media     source_label  \\\n",
       "0     85.0     187.0   1689.0    14.0  no_media  Twitter Web App   \n",
       "1     71.0     416.0   1937.0    47.0  no_media  Twitter Web App   \n",
       "2     89.0     406.0   3020.0    48.0  no_media  Twitter Web App   \n",
       "3    152.0     707.0   5377.0    45.0  no_media  Twitter Web App   \n",
       "4   1737.0    6360.0  37997.0   700.0     photo  Twitter Web App   \n",
       "\n",
       "       username  ceo_account  ... hashtags_count  dollar_count  quest_count  \\\n",
       "0  sundarpichai          1.0  ...            0.0           1.0          0.0   \n",
       "1  sundarpichai          1.0  ...            0.0           0.0          0.0   \n",
       "2  sundarpichai          1.0  ...            1.0           0.0          0.0   \n",
       "3  sundarpichai          1.0  ...            0.0           0.0          0.0   \n",
       "4  sundarpichai          1.0  ...            0.0           0.0          0.0   \n",
       "\n",
       "   exclam_count  emoji_count  \\\n",
       "0           0.0          0.0   \n",
       "1           0.0          0.0   \n",
       "2           0.0          0.0   \n",
       "3           0.0          0.0   \n",
       "4           0.0          0.0   \n",
       "\n",
       "                                          text_clean  \\\n",
       "0  important update susanwojcicki youtube using p...   \n",
       "1  proud googlecloud partnering telefonica launch...   \n",
       "2  also excited android## making improvements voi...   \n",
       "3  android ## available beta focus people control...   \n",
       "4  today us google youtube homepages share suppor...   \n",
       "\n",
       "                                        stemmed_text postclean_length  \\\n",
       "0  import updat susanwojcicki youtub use platform...            247.0   \n",
       "1  proud googlecloud partner telefonica launch ne...            216.0   \n",
       "2  also excit android## make improv voic access i...            121.0   \n",
       "3   android ## avail beta focus peopl control safeti             79.0   \n",
       "4  today us googl youtub homepag share support ra...            281.0   \n",
       "\n",
       "  floyd_stance  floyd_followup  \n",
       "0          0.0             1.0  \n",
       "1          0.0             0.0  \n",
       "2          0.0             0.0  \n",
       "3          0.0             0.0  \n",
       "4          1.0             0.0  \n",
       "\n",
       "[5 rows x 48 columns]"
      ]
     },
     "execution_count": 60,
     "metadata": {},
     "output_type": "execute_result"
    }
   ],
   "source": [
    "df_floyd.head()"
   ]
  },
  {
   "cell_type": "code",
   "execution_count": 61,
   "metadata": {},
   "outputs": [],
   "source": [
    "df_floyd.rename({'compustat_company': 'compustat_name'}, axis=1, inplace=True)\n",
    "df_floyd['sum_followups'] = df_floyd.groupby('compustat_name')['floyd_followup'].transform('sum')\n",
    "\n",
    "df_floyd['stance_date'] = df_floyd['days_from_event'][df_floyd['floyd_stance']==1]\n",
    "df_floyd['stance_date'] = df_floyd.groupby(['compustat_name'], sort=False)['stance_date'].apply(lambda x: x.ffill().bfill())\n",
    "df_floyd.fillna({'stance_date': -1}, inplace=True)"
   ]
  },
  {
   "cell_type": "code",
   "execution_count": 62,
   "metadata": {},
   "outputs": [
    {
     "data": {
      "text/html": [
       "<div>\n",
       "<style scoped>\n",
       "    .dataframe tbody tr th:only-of-type {\n",
       "        vertical-align: middle;\n",
       "    }\n",
       "\n",
       "    .dataframe tbody tr th {\n",
       "        vertical-align: top;\n",
       "    }\n",
       "\n",
       "    .dataframe thead th {\n",
       "        text-align: right;\n",
       "    }\n",
       "</style>\n",
       "<table border=\"1\" class=\"dataframe\">\n",
       "  <thead>\n",
       "    <tr style=\"text-align: right;\">\n",
       "      <th></th>\n",
       "      <th>compustat_name</th>\n",
       "      <th>sum_followups</th>\n",
       "    </tr>\n",
       "  </thead>\n",
       "  <tbody>\n",
       "    <tr>\n",
       "      <th>41527</th>\n",
       "      <td>WELLS FARGO &amp; CO</td>\n",
       "      <td>0.0</td>\n",
       "    </tr>\n",
       "    <tr>\n",
       "      <th>41528</th>\n",
       "      <td>WELLS FARGO &amp; CO</td>\n",
       "      <td>0.0</td>\n",
       "    </tr>\n",
       "    <tr>\n",
       "      <th>41529</th>\n",
       "      <td>WELLS FARGO &amp; CO</td>\n",
       "      <td>0.0</td>\n",
       "    </tr>\n",
       "    <tr>\n",
       "      <th>41530</th>\n",
       "      <td>WELLS FARGO &amp; CO</td>\n",
       "      <td>0.0</td>\n",
       "    </tr>\n",
       "    <tr>\n",
       "      <th>41531</th>\n",
       "      <td>WELLS FARGO &amp; CO</td>\n",
       "      <td>0.0</td>\n",
       "    </tr>\n",
       "  </tbody>\n",
       "</table>\n",
       "</div>"
      ],
      "text/plain": [
       "         compustat_name  sum_followups\n",
       "41527  WELLS FARGO & CO            0.0\n",
       "41528  WELLS FARGO & CO            0.0\n",
       "41529  WELLS FARGO & CO            0.0\n",
       "41530  WELLS FARGO & CO            0.0\n",
       "41531  WELLS FARGO & CO            0.0"
      ]
     },
     "execution_count": 62,
     "metadata": {},
     "output_type": "execute_result"
    }
   ],
   "source": [
    "df_floyd[['compustat_name','sum_followups']].tail()"
   ]
  },
  {
   "cell_type": "code",
   "execution_count": 63,
   "metadata": {},
   "outputs": [],
   "source": [
    "df_floyd = df_floyd[['stance_date', 'sum_followups', 'compustat_name']]\n",
    "df_floyd = df_floyd.groupby('compustat_name')\n",
    "df_floyd = df_floyd.first()\n",
    "df_floyd = df_floyd.reset_index()"
   ]
  },
  {
   "cell_type": "code",
   "execution_count": 64,
   "metadata": {},
   "outputs": [
    {
     "data": {
      "text/html": [
       "<div>\n",
       "<style scoped>\n",
       "    .dataframe tbody tr th:only-of-type {\n",
       "        vertical-align: middle;\n",
       "    }\n",
       "\n",
       "    .dataframe tbody tr th {\n",
       "        vertical-align: top;\n",
       "    }\n",
       "\n",
       "    .dataframe thead th {\n",
       "        text-align: right;\n",
       "    }\n",
       "</style>\n",
       "<table border=\"1\" class=\"dataframe\">\n",
       "  <thead>\n",
       "    <tr style=\"text-align: right;\">\n",
       "      <th></th>\n",
       "      <th>compustat_name</th>\n",
       "      <th>sum_followups</th>\n",
       "    </tr>\n",
       "  </thead>\n",
       "  <tbody>\n",
       "    <tr>\n",
       "      <th>23</th>\n",
       "      <td>COCA-COLA CO</td>\n",
       "      <td>4.0</td>\n",
       "    </tr>\n",
       "    <tr>\n",
       "      <th>48</th>\n",
       "      <td>JOHNSON &amp; JOHNSON</td>\n",
       "      <td>4.0</td>\n",
       "    </tr>\n",
       "    <tr>\n",
       "      <th>71</th>\n",
       "      <td>TYSON FOODS INC  -CL A</td>\n",
       "      <td>5.0</td>\n",
       "    </tr>\n",
       "    <tr>\n",
       "      <th>8</th>\n",
       "      <td>ANTHEM INC</td>\n",
       "      <td>5.0</td>\n",
       "    </tr>\n",
       "    <tr>\n",
       "      <th>21</th>\n",
       "      <td>CISCO SYSTEMS INC</td>\n",
       "      <td>6.0</td>\n",
       "    </tr>\n",
       "    <tr>\n",
       "      <th>40</th>\n",
       "      <td>GOLDMAN SACHS GROUP INC</td>\n",
       "      <td>9.0</td>\n",
       "    </tr>\n",
       "    <tr>\n",
       "      <th>57</th>\n",
       "      <td>MICROSOFT CORP</td>\n",
       "      <td>18.0</td>\n",
       "    </tr>\n",
       "    <tr>\n",
       "      <th>11</th>\n",
       "      <td>AT&amp;T INC</td>\n",
       "      <td>31.0</td>\n",
       "    </tr>\n",
       "    <tr>\n",
       "      <th>63</th>\n",
       "      <td>PROCTER AND GAMBLE CO</td>\n",
       "      <td>42.0</td>\n",
       "    </tr>\n",
       "    <tr>\n",
       "      <th>50</th>\n",
       "      <td>KROGER CO</td>\n",
       "      <td>70.0</td>\n",
       "    </tr>\n",
       "  </tbody>\n",
       "</table>\n",
       "</div>"
      ],
      "text/plain": [
       "             compustat_name  sum_followups\n",
       "23             COCA-COLA CO            4.0\n",
       "48        JOHNSON & JOHNSON            4.0\n",
       "71   TYSON FOODS INC  -CL A            5.0\n",
       "8                ANTHEM INC            5.0\n",
       "21        CISCO SYSTEMS INC            6.0\n",
       "40  GOLDMAN SACHS GROUP INC            9.0\n",
       "57           MICROSOFT CORP           18.0\n",
       "11                 AT&T INC           31.0\n",
       "63    PROCTER AND GAMBLE CO           42.0\n",
       "50                KROGER CO           70.0"
      ]
     },
     "execution_count": 64,
     "metadata": {},
     "output_type": "execute_result"
    }
   ],
   "source": [
    "df_floyd[['compustat_name','sum_followups']].sort_values(by=['sum_followups']).tail(10)"
   ]
  },
  {
   "cell_type": "code",
   "execution_count": 65,
   "metadata": {},
   "outputs": [
    {
     "name": "stdout",
     "output_type": "stream",
     "text": [
      "<class 'pandas.core.frame.DataFrame'>\n",
      "RangeIndex: 80 entries, 0 to 79\n",
      "Data columns (total 3 columns):\n",
      " #   Column          Non-Null Count  Dtype  \n",
      "---  ------          --------------  -----  \n",
      " 0   compustat_name  80 non-null     object \n",
      " 1   stance_date     80 non-null     float64\n",
      " 2   sum_followups   80 non-null     float64\n",
      "dtypes: float64(2), object(1)\n",
      "memory usage: 2.0+ KB\n"
     ]
    }
   ],
   "source": [
    "df_floyd.info()"
   ]
  },
  {
   "cell_type": "code",
   "execution_count": 66,
   "metadata": {},
   "outputs": [
    {
     "name": "stdout",
     "output_type": "stream",
     "text": [
      "<class 'pandas.core.frame.DataFrame'>\n",
      "Int64Index: 202470 entries, 0 to 202469\n",
      "Data columns (total 21 columns):\n",
      " #   Column                       Non-Null Count   Dtype  \n",
      "---  ------                       --------------   -----  \n",
      " 0   committee_id                 202470 non-null  object \n",
      " 1   committee_name               202470 non-null  object \n",
      " 2   report_year                  202470 non-null  int64  \n",
      " 3   report_type                  193247 non-null  object \n",
      " 4   contributor_name             202470 non-null  object \n",
      " 5   contributor_street_1         202388 non-null  object \n",
      " 6   contributor_employer         202470 non-null  object \n",
      " 7   contributor_occupation       202209 non-null  object \n",
      " 8   contribution_receipt_date    202468 non-null  object \n",
      " 9   contribution_receipt_amount  202470 non-null  float64\n",
      " 10  contributor_aggregate_ytd    202461 non-null  float64\n",
      " 11  link_id                      202470 non-null  int64  \n",
      " 12  two_year_transaction_period  202470 non-null  int64  \n",
      " 13  party                        202470 non-null  object \n",
      " 14  common_name                  202470 non-null  object \n",
      " 15  compustat_name               202470 non-null  object \n",
      " 16  ratio_sum_donations          202469 non-null  float64\n",
      " 17  ratio_ct_donations           202469 non-null  float64\n",
      " 18  ratio_ct_contributors        202469 non-null  float64\n",
      " 19  ratio_ct_recipients          202469 non-null  float64\n",
      " 20  ratio_index                  202469 non-null  float64\n",
      "dtypes: float64(7), int64(3), object(11)\n",
      "memory usage: 34.0+ MB\n"
     ]
    }
   ],
   "source": [
    "# Remove companies with no tweets\n",
    "df_merged.info()"
   ]
  },
  {
   "cell_type": "code",
   "execution_count": 67,
   "metadata": {},
   "outputs": [],
   "source": [
    "df_floyd_merged = pd.merge(left=df_merged, right=df_floyd, on='compustat_name', how='left')"
   ]
  },
  {
   "cell_type": "code",
   "execution_count": 68,
   "metadata": {},
   "outputs": [
    {
     "name": "stdout",
     "output_type": "stream",
     "text": [
      "<class 'pandas.core.frame.DataFrame'>\n",
      "Int64Index: 202470 entries, 0 to 202469\n",
      "Data columns (total 23 columns):\n",
      " #   Column                       Non-Null Count   Dtype  \n",
      "---  ------                       --------------   -----  \n",
      " 0   committee_id                 202470 non-null  object \n",
      " 1   committee_name               202470 non-null  object \n",
      " 2   report_year                  202470 non-null  int64  \n",
      " 3   report_type                  193247 non-null  object \n",
      " 4   contributor_name             202470 non-null  object \n",
      " 5   contributor_street_1         202388 non-null  object \n",
      " 6   contributor_employer         202470 non-null  object \n",
      " 7   contributor_occupation       202209 non-null  object \n",
      " 8   contribution_receipt_date    202468 non-null  object \n",
      " 9   contribution_receipt_amount  202470 non-null  float64\n",
      " 10  contributor_aggregate_ytd    202461 non-null  float64\n",
      " 11  link_id                      202470 non-null  int64  \n",
      " 12  two_year_transaction_period  202470 non-null  int64  \n",
      " 13  party                        202470 non-null  object \n",
      " 14  common_name                  202470 non-null  object \n",
      " 15  compustat_name               202470 non-null  object \n",
      " 16  ratio_sum_donations          202469 non-null  float64\n",
      " 17  ratio_ct_donations           202469 non-null  float64\n",
      " 18  ratio_ct_contributors        202469 non-null  float64\n",
      " 19  ratio_ct_recipients          202469 non-null  float64\n",
      " 20  ratio_index                  202469 non-null  float64\n",
      " 21  stance_date                  199032 non-null  float64\n",
      " 22  sum_followups                199032 non-null  float64\n",
      "dtypes: float64(9), int64(3), object(11)\n",
      "memory usage: 37.1+ MB\n"
     ]
    }
   ],
   "source": [
    "df_floyd_merged.info()\n",
    "df_floyd_merged.dropna(subset=['stance_date'], inplace=True)"
   ]
  },
  {
   "cell_type": "code",
   "execution_count": 1319,
   "metadata": {},
   "outputs": [],
   "source": [
    "df_floyd_one = df_floyd_merged[['stance_date', 'sum_followups', 'compustat_name', 'ratio_index']]\n",
    "df_floyd_one = df_floyd_one.groupby('compustat_name')\n",
    "df_floyd_one = df_floyd_one.first()\n",
    "df_floyd_one = df_floyd_one.reset_index()"
   ]
  },
  {
   "cell_type": "code",
   "execution_count": 1380,
   "metadata": {},
   "outputs": [],
   "source": [
    "df_floyd_one_stance = df_floyd_one[(df_floyd_one['stance_date'] > 0) & (df_floyd_one['stance_date'] < 17)]\n",
    "df_floyd_one_stance.to_pickle('df_4_full.pkl', protocol=4)\n",
    "#\n",
    "# #### PICKLED HERE FOR SUMMARY\n",
    "# "
   ]
  },
  {
   "cell_type": "code",
   "execution_count": 1321,
   "metadata": {},
   "outputs": [
    {
     "data": {
      "text/html": [
       "<div>\n",
       "<style scoped>\n",
       "    .dataframe tbody tr th:only-of-type {\n",
       "        vertical-align: middle;\n",
       "    }\n",
       "\n",
       "    .dataframe tbody tr th {\n",
       "        vertical-align: top;\n",
       "    }\n",
       "\n",
       "    .dataframe thead th {\n",
       "        text-align: right;\n",
       "    }\n",
       "</style>\n",
       "<table border=\"1\" class=\"dataframe\">\n",
       "  <thead>\n",
       "    <tr style=\"text-align: right;\">\n",
       "      <th></th>\n",
       "      <th>compustat_name</th>\n",
       "      <th>stance_date</th>\n",
       "      <th>sum_followups</th>\n",
       "      <th>ratio_index</th>\n",
       "    </tr>\n",
       "  </thead>\n",
       "  <tbody>\n",
       "    <tr>\n",
       "      <th>69</th>\n",
       "      <td>TJX COS INC (THE)</td>\n",
       "      <td>-1.0</td>\n",
       "      <td>0.0</td>\n",
       "      <td>0.753975</td>\n",
       "    </tr>\n",
       "    <tr>\n",
       "      <th>70</th>\n",
       "      <td>TYSON FOODS INC  -CL A</td>\n",
       "      <td>14.0</td>\n",
       "      <td>5.0</td>\n",
       "      <td>0.566788</td>\n",
       "    </tr>\n",
       "    <tr>\n",
       "      <th>71</th>\n",
       "      <td>UNITED AIRLINES HOLDINGS INC</td>\n",
       "      <td>9.0</td>\n",
       "      <td>0.0</td>\n",
       "      <td>0.648908</td>\n",
       "    </tr>\n",
       "    <tr>\n",
       "      <th>72</th>\n",
       "      <td>UNITED PARCEL SERVICE INC</td>\n",
       "      <td>14.0</td>\n",
       "      <td>1.0</td>\n",
       "      <td>0.424565</td>\n",
       "    </tr>\n",
       "    <tr>\n",
       "      <th>73</th>\n",
       "      <td>UNITEDHEALTH GROUP INC</td>\n",
       "      <td>8.0</td>\n",
       "      <td>0.0</td>\n",
       "      <td>0.783187</td>\n",
       "    </tr>\n",
       "    <tr>\n",
       "      <th>74</th>\n",
       "      <td>VALERO ENERGY CORP</td>\n",
       "      <td>-1.0</td>\n",
       "      <td>0.0</td>\n",
       "      <td>0.175374</td>\n",
       "    </tr>\n",
       "    <tr>\n",
       "      <th>75</th>\n",
       "      <td>VERIZON COMMUNICATIONS INC</td>\n",
       "      <td>7.0</td>\n",
       "      <td>2.0</td>\n",
       "      <td>0.628901</td>\n",
       "    </tr>\n",
       "    <tr>\n",
       "      <th>76</th>\n",
       "      <td>WALGREENS BOOTS ALLIANCE INC</td>\n",
       "      <td>6.0</td>\n",
       "      <td>1.0</td>\n",
       "      <td>0.560002</td>\n",
       "    </tr>\n",
       "    <tr>\n",
       "      <th>77</th>\n",
       "      <td>WALMART INC</td>\n",
       "      <td>4.0</td>\n",
       "      <td>3.0</td>\n",
       "      <td>0.500717</td>\n",
       "    </tr>\n",
       "    <tr>\n",
       "      <th>78</th>\n",
       "      <td>WELLS FARGO &amp; CO</td>\n",
       "      <td>8.0</td>\n",
       "      <td>0.0</td>\n",
       "      <td>0.525568</td>\n",
       "    </tr>\n",
       "  </tbody>\n",
       "</table>\n",
       "</div>"
      ],
      "text/plain": [
       "                  compustat_name  stance_date  sum_followups  ratio_index\n",
       "69             TJX COS INC (THE)         -1.0            0.0     0.753975\n",
       "70        TYSON FOODS INC  -CL A         14.0            5.0     0.566788\n",
       "71  UNITED AIRLINES HOLDINGS INC          9.0            0.0     0.648908\n",
       "72     UNITED PARCEL SERVICE INC         14.0            1.0     0.424565\n",
       "73        UNITEDHEALTH GROUP INC          8.0            0.0     0.783187\n",
       "74            VALERO ENERGY CORP         -1.0            0.0     0.175374\n",
       "75    VERIZON COMMUNICATIONS INC          7.0            2.0     0.628901\n",
       "76  WALGREENS BOOTS ALLIANCE INC          6.0            1.0     0.560002\n",
       "77                   WALMART INC          4.0            3.0     0.500717\n",
       "78              WELLS FARGO & CO          8.0            0.0     0.525568"
      ]
     },
     "execution_count": 1321,
     "metadata": {},
     "output_type": "execute_result"
    }
   ],
   "source": [
    "df_floyd_one_followups = df_floyd_one[df_floyd_one['stance_date'] > 0] \n",
    "df_floyd_one_followups = df_floyd_one[df_floyd_one['sum_followups'] < 15] \n",
    "df_floyd_one_followups2 = df_floyd_one[(df_floyd_one['sum_followups'] > 0) & (df_floyd_one['sum_followups'] < 15)]\n",
    "\n",
    "df_floyd_one.tail(10)"
   ]
  },
  {
   "cell_type": "code",
   "execution_count": 1352,
   "metadata": {},
   "outputs": [
    {
     "data": {
      "image/png": "[encoded data removed]",
      "text/plain": [
       "<Figure size 432x288 with 1 Axes>"
      ]
     },
     "metadata": {
      "needs_background": "light"
     },
     "output_type": "display_data"
    }
   ],
   "source": [
    "# Among those who took stance, removing federal gov't entities (Fannie Mae, Freddie Mac)\n",
    "sns.regplot(data=df_floyd_one_stance, x='stance_date', y='ratio_index', ci=None)\n",
    "plt.title('Stance Date by Org Politics', fontsize=18)\n",
    "plt.xlabel('Date Following Floyd Incident')\n",
    "plt.ylabel('% Democrat Orientation')\n",
    "#plt.yticks(np.arange(0, 1.1, 0.2))\n",
    "plt.xlim(1, 15)\n",
    "plt.ylim(0.0, 1.01)\n",
    "plt.show()"
   ]
  },
  {
   "cell_type": "code",
   "execution_count": 1383,
   "metadata": {},
   "outputs": [
    {
     "data": {
      "text/html": [
       "<div>\n",
       "<style scoped>\n",
       "    .dataframe tbody tr th:only-of-type {\n",
       "        vertical-align: middle;\n",
       "    }\n",
       "\n",
       "    .dataframe tbody tr th {\n",
       "        vertical-align: top;\n",
       "    }\n",
       "\n",
       "    .dataframe thead th {\n",
       "        text-align: right;\n",
       "    }\n",
       "</style>\n",
       "<table border=\"1\" class=\"dataframe\">\n",
       "  <thead>\n",
       "    <tr style=\"text-align: right;\">\n",
       "      <th></th>\n",
       "      <th>stance_date</th>\n",
       "      <th>ratio_index</th>\n",
       "    </tr>\n",
       "  </thead>\n",
       "  <tbody>\n",
       "    <tr>\n",
       "      <th>stance_date</th>\n",
       "      <td>1.000000</td>\n",
       "      <td>-0.246134</td>\n",
       "    </tr>\n",
       "    <tr>\n",
       "      <th>ratio_index</th>\n",
       "      <td>-0.246134</td>\n",
       "      <td>1.000000</td>\n",
       "    </tr>\n",
       "  </tbody>\n",
       "</table>\n",
       "</div>"
      ],
      "text/plain": [
       "             stance_date  ratio_index\n",
       "stance_date     1.000000    -0.246134\n",
       "ratio_index    -0.246134     1.000000"
      ]
     },
     "execution_count": 1383,
     "metadata": {},
     "output_type": "execute_result"
    }
   ],
   "source": [
    "corr_df = df_floyd_one_stance[['stance_date','ratio_index']]\n",
    "corr_df.corr()"
   ]
  },
  {
   "cell_type": "code",
   "execution_count": 1381,
   "metadata": {},
   "outputs": [
    {
     "data": {
      "image/png": "[encoded data removed]",
      "text/plain": [
       "<Figure size 432x288 with 1 Axes>"
      ]
     },
     "metadata": {
      "needs_background": "light"
     },
     "output_type": "display_data"
    }
   ],
   "source": [
    "# Among those who took a stance, limit to those with fewer than 15 followups (those with more were indiv responses)\n",
    "sns.regplot(data=df_floyd_one_followups, x='ratio_index', y='sum_followups', ci=None)\n",
    "plt.title('Number of Followups by Org Politics', fontsize=18)\n",
    "plt.xlabel('% Democrat Orientation')\n",
    "plt.ylabel('Number of Followup Tweets')\n",
    "#plt.yticks(np.arange(0, 1.1, 0.2))\n",
    "plt.xlim(0.1, 1)\n",
    "plt.ylim(0, 10)\n",
    "plt.show()"
   ]
  },
  {
   "cell_type": "code",
   "execution_count": 1382,
   "metadata": {},
   "outputs": [
    {
     "data": {
      "image/png": "[encoded data removed]",
      "text/plain": [
       "<Figure size 432x288 with 1 Axes>"
      ]
     },
     "metadata": {
      "needs_background": "light"
     },
     "output_type": "display_data"
    }
   ],
   "source": [
    "# Among those who followed up\n",
    "sns.regplot(data=df_floyd_one_followups2, x='ratio_index', y='sum_followups', ci=None)\n",
    "plt.title('Number of Followups by Org Politics', fontsize=18)\n",
    "plt.xlabel('% Democrat Orientation')\n",
    "plt.ylabel('Number of Followup Tweets')\n",
    "#plt.yticks(np.arange(0, 1.1, 0.2))\n",
    "plt.xlim(0.1, 1)\n",
    "plt.ylim(0, 10)\n",
    "plt.show()"
   ]
  },
  {
   "cell_type": "code",
   "execution_count": null,
   "metadata": {},
   "outputs": [],
   "source": []
  }
 ],
 "metadata": {
  "kernelspec": {
   "display_name": ".venv",
   "language": "python",
   "name": ".venv"
  },
  "language_info": {
   "codemirror_mode": {
    "name": "ipython",
    "version": 3
   },
   "file_extension": ".py",
   "mimetype": "text/x-python",
   "name": "python",
   "nbconvert_exporter": "python",
   "pygments_lexer": "ipython3",
   "version": "3.8.6"
  }
 },
 "nbformat": 4,
 "nbformat_minor": 4
}
